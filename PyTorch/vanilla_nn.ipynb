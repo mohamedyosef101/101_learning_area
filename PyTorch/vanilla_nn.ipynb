{
  "cells": [
    {
      "cell_type": "markdown",
      "metadata": {
        "id": "view-in-github",
        "colab_type": "text"
      },
      "source": [
        "<a href=\"https://colab.research.google.com/github/mohamedyosef101/101_learning_area/blob/area/PyTorch/vanilla_nn.ipynb\" target=\"_parent\"><img src=\"https://colab.research.google.com/assets/colab-badge.svg\" alt=\"Open In Colab\"/></a>"
      ]
    },
    {
      "cell_type": "markdown",
      "source": [
        "# **Vanilla** Neural Network\n",
        "The original notebook created by [Andrada](https://www.kaggle.com/code/andradaolteanu/how-i-taught-myself-deep-learning-vanilla-nns#1.-Introduction)"
      ],
      "metadata": {
        "id": "1j-Q93ZLfOB-"
      },
      "id": "1j-Q93ZLfOB-"
    },
    {
      "cell_type": "code",
      "source": [
        "import torch\n",
        "import torch.nn as nn\n",
        "import torch.nn.functional as F\n",
        "import torch.optim as optim\n",
        "\n",
        "from torchvision import datasets, transforms\n",
        "from torchvision.transforms import ToTensor\n",
        "\n",
        "import numpy as np\n",
        "import matplotlib.pyplot as plt\n",
        "import seaborn as sns\n",
        "import sklearn.metrics as metrics"
      ],
      "metadata": {
        "id": "_-ObxdB1f1kF"
      },
      "id": "_-ObxdB1f1kF",
      "execution_count": 1,
      "outputs": []
    },
    {
      "cell_type": "markdown",
      "source": [
        "# **Load** the data"
      ],
      "metadata": {
        "id": "g4hnJVHZhBQJ"
      },
      "id": "g4hnJVHZhBQJ"
    },
    {
      "cell_type": "code",
      "source": [
        "train = datasets.MNIST('data',\n",
        "                       train=True,\n",
        "                       download=True,\n",
        "                       transform=ToTensor())\n",
        "\n",
        "test = datasets.MNIST('data',\n",
        "                      train=False,\n",
        "                      download=True,\n",
        "                      transform=ToTensor())"
      ],
      "metadata": {
        "id": "QdqfibbNhE_9",
        "outputId": "b40301b1-1b61-4df5-98bb-02a254b244a1",
        "colab": {
          "base_uri": "https://localhost:8080/"
        }
      },
      "id": "QdqfibbNhE_9",
      "execution_count": 2,
      "outputs": [
        {
          "output_type": "stream",
          "name": "stdout",
          "text": [
            "Downloading http://yann.lecun.com/exdb/mnist/train-images-idx3-ubyte.gz\n",
            "Downloading http://yann.lecun.com/exdb/mnist/train-images-idx3-ubyte.gz to data/MNIST/raw/train-images-idx3-ubyte.gz\n"
          ]
        },
        {
          "output_type": "stream",
          "name": "stderr",
          "text": [
            "100%|██████████| 9912422/9912422 [00:00<00:00, 126074874.14it/s]\n"
          ]
        },
        {
          "output_type": "stream",
          "name": "stdout",
          "text": [
            "Extracting data/MNIST/raw/train-images-idx3-ubyte.gz to data/MNIST/raw\n",
            "\n",
            "Downloading http://yann.lecun.com/exdb/mnist/train-labels-idx1-ubyte.gz\n",
            "Downloading http://yann.lecun.com/exdb/mnist/train-labels-idx1-ubyte.gz to data/MNIST/raw/train-labels-idx1-ubyte.gz\n"
          ]
        },
        {
          "output_type": "stream",
          "name": "stderr",
          "text": [
            "100%|██████████| 28881/28881 [00:00<00:00, 35764893.36it/s]\n"
          ]
        },
        {
          "output_type": "stream",
          "name": "stdout",
          "text": [
            "Extracting data/MNIST/raw/train-labels-idx1-ubyte.gz to data/MNIST/raw\n",
            "\n",
            "Downloading http://yann.lecun.com/exdb/mnist/t10k-images-idx3-ubyte.gz\n",
            "Downloading http://yann.lecun.com/exdb/mnist/t10k-images-idx3-ubyte.gz to data/MNIST/raw/t10k-images-idx3-ubyte.gz\n"
          ]
        },
        {
          "output_type": "stream",
          "name": "stderr",
          "text": [
            "100%|██████████| 1648877/1648877 [00:00<00:00, 47986035.52it/s]\n"
          ]
        },
        {
          "output_type": "stream",
          "name": "stdout",
          "text": [
            "Extracting data/MNIST/raw/t10k-images-idx3-ubyte.gz to data/MNIST/raw\n",
            "\n",
            "Downloading http://yann.lecun.com/exdb/mnist/t10k-labels-idx1-ubyte.gz\n",
            "Downloading http://yann.lecun.com/exdb/mnist/t10k-labels-idx1-ubyte.gz to data/MNIST/raw/t10k-labels-idx1-ubyte.gz\n"
          ]
        },
        {
          "output_type": "stream",
          "name": "stderr",
          "text": [
            "100%|██████████| 4542/4542 [00:00<00:00, 11393856.92it/s]\n"
          ]
        },
        {
          "output_type": "stream",
          "name": "stdout",
          "text": [
            "Extracting data/MNIST/raw/t10k-labels-idx1-ubyte.gz to data/MNIST/raw\n",
            "\n"
          ]
        }
      ]
    },
    {
      "cell_type": "markdown",
      "source": [
        "# Data **Exploration**"
      ],
      "metadata": {
        "id": "lgULgdKdOMGL"
      },
      "id": "lgULgdKdOMGL"
    },
    {
      "cell_type": "code",
      "source": [
        "# some info about the data\n",
        "train, test"
      ],
      "metadata": {
        "id": "AK9c42TzJAlt",
        "outputId": "a5cbe501-1e71-46fb-c710-103f3ac5aae2",
        "colab": {
          "base_uri": "https://localhost:8080/"
        }
      },
      "id": "AK9c42TzJAlt",
      "execution_count": 19,
      "outputs": [
        {
          "output_type": "execute_result",
          "data": {
            "text/plain": [
              "(Dataset MNIST\n",
              "     Number of datapoints: 60000\n",
              "     Root location: data\n",
              "     Split: Train\n",
              "     StandardTransform\n",
              " Transform: ToTensor(),\n",
              " Dataset MNIST\n",
              "     Number of datapoints: 10000\n",
              "     Root location: data\n",
              "     Split: Test\n",
              "     StandardTransform\n",
              " Transform: ToTensor())"
            ]
          },
          "metadata": {},
          "execution_count": 19
        }
      ]
    },
    {
      "cell_type": "code",
      "source": [
        "# index 1 image\n",
        "image, label = train[1]\n",
        "image.shape, label"
      ],
      "metadata": {
        "id": "a1UPH3FyLdMe",
        "outputId": "16e0d41e-426a-4da0-8800-34d878c3b9cf",
        "colab": {
          "base_uri": "https://localhost:8080/"
        }
      },
      "id": "a1UPH3FyLdMe",
      "execution_count": 24,
      "outputs": [
        {
          "output_type": "execute_result",
          "data": {
            "text/plain": [
              "(torch.Size([1, 28, 28]), 0)"
            ]
          },
          "metadata": {},
          "execution_count": 24
        }
      ]
    },
    {
      "cell_type": "code",
      "source": [
        "plt.imshow(image.squeeze(), cmap='gray')\n",
        "plt.title(train.classes[label])"
      ],
      "metadata": {
        "id": "PLqD_8cQNiRL",
        "outputId": "d40de57d-086a-436e-dc38-c44e8dd3ac4d",
        "colab": {
          "base_uri": "https://localhost:8080/",
          "height": 470
        }
      },
      "id": "PLqD_8cQNiRL",
      "execution_count": 25,
      "outputs": [
        {
          "output_type": "execute_result",
          "data": {
            "text/plain": [
              "Text(0.5, 1.0, '0 - zero')"
            ]
          },
          "metadata": {},
          "execution_count": 25
        },
        {
          "output_type": "display_data",
          "data": {
            "text/plain": [
              "<Figure size 640x480 with 1 Axes>"
            ],
            "image/png": "[encoded data removed]"
          },
          "metadata": {}
        }
      ]
    },
    {
      "cell_type": "markdown",
      "source": [
        "# **Initial** Model"
      ],
      "metadata": {
        "id": "zSJ_kUGvOJ6Q"
      },
      "id": "zSJ_kUGvOJ6Q"
    },
    {
      "cell_type": "code",
      "source": [
        "class MNISTClassifier(nn.Module):\n",
        "  def __init__(self):\n",
        "    super(MNISTClassifier, self).__init__()\n",
        "    self.layers = nn.Sequential(nn.Linear(28*28, 50),\n",
        "                                nn.RelU(),\n",
        "                                nn.Linear(50, 50),\n",
        "                                nn.RelU(),\n",
        "                                nn.Linear(20, 10))\n",
        "\n",
        "    def forward(self, image, prints=False):\n",
        "      if prints: print(f'Image shape: {image.shape}')\n",
        "      # flatten image from [1, 28, 28] to [784]\n",
        "      image = image.view(-1, 28*28)\n",
        "\n",
        "      if prints: print(f\"Image reshaped: {image.shape}\")\n",
        "      out = self.layers(image)"
      ],
      "metadata": {
        "id": "wraJ17nWOJiM"
      },
      "id": "wraJ17nWOJiM",
      "execution_count": null,
      "outputs": []
    }
  ],
  "metadata": {
    "kernelspec": {
      "display_name": "Python 3",
      "language": "python",
      "name": "python3"
    },
    "language_info": {
      "codemirror_mode": {
        "name": "ipython",
        "version": 3
      },
      "file_extension": ".py",
      "mimetype": "text/x-python",
      "name": "python",
      "nbconvert_exporter": "python",
      "pygments_lexer": "ipython3",
      "version": "3.8.8"
    },
    "colab": {
      "provenance": [],
      "include_colab_link": true
    }
  },
  "nbformat": 4,
  "nbformat_minor": 5
}