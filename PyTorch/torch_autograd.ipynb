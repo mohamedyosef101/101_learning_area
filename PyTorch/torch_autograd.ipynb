{
  "cells": [
    {
      "cell_type": "markdown",
      "source": [
        "Visit the source on [PyTorch](https://pytorch.org/tutorials/beginner/blitz/autograd_tutorial.html)"
      ],
      "metadata": {
        "id": "lOL3xQtpshfS"
      },
      "id": "lOL3xQtpshfS"
    },
    {
      "cell_type": "markdown",
      "source": [
        "# TORCH **AUTOGRAD**\n",
        "The PyTorch automatic differentiation engine that powers neural network training."
      ],
      "metadata": {
        "id": "VVe7XSYZsWyA"
      },
      "id": "VVe7XSYZsWyA"
    },
    {
      "cell_type": "code",
      "source": [
        "import torch\n",
        "from torchvision.models import resnet18, ResNet18_Weights\n",
        "\n",
        "model = resnet18(weights=ResNet18_Weights.DEFAULT)\n",
        "\n",
        "data = torch.rand(1, 3, 64, 64)\n",
        "labels = torch.rand(1, 1000)"
      ],
      "metadata": {
        "id": "5T5eDdQks53G",
        "outputId": "f7196a7b-568a-47b2-cb28-ff6e4fe9a2aa",
        "colab": {
          "base_uri": "https://localhost:8080/"
        }
      },
      "id": "5T5eDdQks53G",
      "execution_count": 1,
      "outputs": [
        {
          "output_type": "stream",
          "name": "stderr",
          "text": [
            "Downloading: \"https://download.pytorch.org/models/resnet18-f37072fd.pth\" to /root/.cache/torch/hub/checkpoints/resnet18-f37072fd.pth\n",
            "100%|██████████| 44.7M/44.7M [00:00<00:00, 60.1MB/s]\n"
          ]
        }
      ]
    },
    {
      "cell_type": "code",
      "source": [
        "# forward pass\n",
        "prediction = model(data)\n",
        "\n",
        "# backward pass\n",
        "loss = (prediction - labels).sum()\n",
        "loss.backward()\n",
        "\n",
        "# Gradient Decent as optimization\n",
        "optim = torch.optim.SGD(model.parameters(), lr=1e-2, momentum=0.9)\n",
        "optim.step()"
      ],
      "metadata": {
        "id": "X8FzQfQDtV3R"
      },
      "id": "X8FzQfQDtV3R",
      "execution_count": 2,
      "outputs": []
    }
  ],
  "metadata": {
    "kernelspec": {
      "display_name": "Python 3",
      "language": "python",
      "name": "python3"
    },
    "language_info": {
      "codemirror_mode": {
        "name": "ipython",
        "version": 3
      },
      "file_extension": ".py",
      "mimetype": "text/x-python",
      "name": "python",
      "nbconvert_exporter": "python",
      "pygments_lexer": "ipython3",
      "version": "3.8.8"
    },
    "colab": {
      "provenance": []
    }
  },
  "nbformat": 4,
  "nbformat_minor": 5
}