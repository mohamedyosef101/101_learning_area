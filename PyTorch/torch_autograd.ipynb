{
  "cells": [
    {
      "cell_type": "markdown",
      "metadata": {
        "id": "view-in-github",
        "colab_type": "text"
      },
      "source": [
        "<a href=\"https://colab.research.google.com/github/mohamedyosef101/101_learning_area/blob/area/PyTorch/torch_autograd.ipynb\" target=\"_parent\"><img src=\"https://colab.research.google.com/assets/colab-badge.svg\" alt=\"Open In Colab\"/></a>"
      ]
    },
    {
      "cell_type": "markdown",
      "source": [
        "Visit the source on [PyTorch](https://pytorch.org/tutorials/beginner/blitz/autograd_tutorial.html)"
      ],
      "metadata": {
        "id": "lOL3xQtpshfS"
      },
      "id": "lOL3xQtpshfS"
    },
    {
      "cell_type": "markdown",
      "source": [
        "# TORCH **AUTOGRAD**\n",
        "The PyTorch automatic differentiation engine that powers neural network training."
      ],
      "metadata": {
        "id": "VVe7XSYZsWyA"
      },
      "id": "VVe7XSYZsWyA"
    },
    {
      "cell_type": "code",
      "source": [
        "import torch\n",
        "from torchvision.models import resnet18, ResNet18_Weights\n",
        "\n",
        "model = resnet18(weights=ResNet18_Weights.DEFAULT)\n",
        "\n",
        "data = torch.rand(1, 3, 64, 64)\n",
        "labels = torch.rand(1, 1000)"
      ],
      "metadata": {
        "id": "5T5eDdQks53G"
      },
      "id": "5T5eDdQks53G",
      "execution_count": 7,
      "outputs": []
    },
    {
      "cell_type": "code",
      "source": [
        "# forward pass\n",
        "prediction = model(data)\n",
        "\n",
        "# backward pass\n",
        "loss = (prediction - labels).sum()\n",
        "loss.backward()\n",
        "\n",
        "# Gradient Decent as optimization\n",
        "optim = torch.optim.SGD(model.parameters(), lr=1e-2, momentum=0.9)\n",
        "optim.step()"
      ],
      "metadata": {
        "id": "X8FzQfQDtV3R"
      },
      "id": "X8FzQfQDtV3R",
      "execution_count": 8,
      "outputs": []
    },
    {
      "cell_type": "markdown",
      "source": [
        "# **Differentiation** in Autograd\n"
      ],
      "metadata": {
        "id": "EE73jq9iuNXg"
      },
      "id": "EE73jq9iuNXg"
    },
    {
      "cell_type": "code",
      "source": [
        "a = torch.tensor([2., 3.], requires_grad=True)\n",
        "b = torch.tensor([6., 4.], requires_grad=True)"
      ],
      "metadata": {
        "id": "SmWcyndEuUc_"
      },
      "id": "SmWcyndEuUc_",
      "execution_count": 9,
      "outputs": []
    },
    {
      "cell_type": "code",
      "source": [
        "# define a new variable 'Q'\n",
        "Q = 3*a**3 - b**2"
      ],
      "metadata": {
        "id": "C20Ri0s3uiDz"
      },
      "id": "C20Ri0s3uiDz",
      "execution_count": 10,
      "outputs": []
    },
    {
      "cell_type": "markdown",
      "source": [
        "### $Q=3a^3-b^2$"
      ],
      "metadata": {
        "id": "tLL-aYu1us92"
      },
      "id": "tLL-aYu1us92"
    },
    {
      "cell_type": "code",
      "source": [
        "external_grad = torch.tensor([1., 1.])\n",
        "Q.backward(gradient=external_grad)"
      ],
      "metadata": {
        "id": "Po2CDRd3vJCc"
      },
      "id": "Po2CDRd3vJCc",
      "execution_count": 11,
      "outputs": []
    },
    {
      "cell_type": "code",
      "source": [
        "a.grad"
      ],
      "metadata": {
        "id": "VCWJGWp9zF8K",
        "outputId": "6772495f-52c0-4800-f8ce-8bc3a9e73021",
        "colab": {
          "base_uri": "https://localhost:8080/"
        }
      },
      "id": "VCWJGWp9zF8K",
      "execution_count": 12,
      "outputs": [
        {
          "output_type": "execute_result",
          "data": {
            "text/plain": [
              "tensor([36., 81.])"
            ]
          },
          "metadata": {},
          "execution_count": 12
        }
      ]
    }
  ],
  "metadata": {
    "kernelspec": {
      "display_name": "Python 3",
      "language": "python",
      "name": "python3"
    },
    "language_info": {
      "codemirror_mode": {
        "name": "ipython",
        "version": 3
      },
      "file_extension": ".py",
      "mimetype": "text/x-python",
      "name": "python",
      "nbconvert_exporter": "python",
      "pygments_lexer": "ipython3",
      "version": "3.8.8"
    },
    "colab": {
      "provenance": [],
      "include_colab_link": true
    }
  },
  "nbformat": 4,
  "nbformat_minor": 5
}