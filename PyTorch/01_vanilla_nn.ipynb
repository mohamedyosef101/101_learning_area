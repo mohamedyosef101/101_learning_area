{
  "cells": [
    {
      "cell_type": "markdown",
      "metadata": {
        "id": "view-in-github",
        "colab_type": "text"
      },
      "source": [
        "<a href=\"https://colab.research.google.com/github/mohamedyosef101/101_learning_area/blob/area/PyTorch/01_vanilla_nn.ipynb\" target=\"_parent\"><img src=\"https://colab.research.google.com/assets/colab-badge.svg\" alt=\"Open In Colab\"/></a>"
      ]
    },
    {
      "cell_type": "markdown",
      "source": [
        "# **Vanilla** Neural Network\n",
        "The original notebook created by [Andrada](https://www.kaggle.com/code/andradaolteanu/how-i-taught-myself-deep-learning-vanilla-nns#1.-Introduction)"
      ],
      "metadata": {
        "id": "1j-Q93ZLfOB-"
      },
      "id": "1j-Q93ZLfOB-"
    },
    {
      "cell_type": "code",
      "source": [
        "import torch\n",
        "import torch.nn as nn\n",
        "import torch.nn.functional as F\n",
        "import torch.optim as optim\n",
        "from torch.utils.data import DataLoader as dl\n",
        "\n",
        "from torchvision import datasets, transforms\n",
        "from torchvision.transforms import ToTensor\n",
        "\n",
        "import numpy as np\n",
        "import matplotlib.pyplot as plt\n",
        "import seaborn as sns\n",
        "import sklearn.metrics as metrics\n",
        "\n",
        "sns.set()\n",
        "\n",
        "device = torch.device('cuda' if torch.cuda.is_available() else 'cpu')\n",
        "print(\"Available device:\", device)"
      ],
      "metadata": {
        "id": "_-ObxdB1f1kF",
        "outputId": "850b708c-c352-4cf5-c4dc-138bdf73acc2",
        "colab": {
          "base_uri": "https://localhost:8080/"
        }
      },
      "id": "_-ObxdB1f1kF",
      "execution_count": 27,
      "outputs": [
        {
          "output_type": "stream",
          "name": "stdout",
          "text": [
            "Available device: cpu\n"
          ]
        }
      ]
    },
    {
      "cell_type": "markdown",
      "source": [
        "# 1. **Load** the data"
      ],
      "metadata": {
        "id": "g4hnJVHZhBQJ"
      },
      "id": "g4hnJVHZhBQJ"
    },
    {
      "cell_type": "code",
      "source": [
        "# hide the output\n",
        "%%capture\n",
        "\n",
        "train = datasets.MNIST('data',\n",
        "                       train=True,\n",
        "                       download=True,\n",
        "                       transform=ToTensor())\n",
        "\n",
        "test = datasets.MNIST('data',\n",
        "                      train=False,\n",
        "                      download=True,\n",
        "                      transform=ToTensor())"
      ],
      "metadata": {
        "id": "QdqfibbNhE_9"
      },
      "id": "QdqfibbNhE_9",
      "execution_count": 28,
      "outputs": []
    },
    {
      "cell_type": "markdown",
      "source": [
        "# 2. Data **Exploration**"
      ],
      "metadata": {
        "id": "lgULgdKdOMGL"
      },
      "id": "lgULgdKdOMGL"
    },
    {
      "cell_type": "code",
      "source": [
        "image, label = train[0]\n",
        "image.shape"
      ],
      "metadata": {
        "id": "sgeFxhs6QFFw",
        "outputId": "2892be65-a5a2-4a23-9d9a-3a464aabafa5",
        "colab": {
          "base_uri": "https://localhost:8080/"
        }
      },
      "id": "sgeFxhs6QFFw",
      "execution_count": 29,
      "outputs": [
        {
          "output_type": "execute_result",
          "data": {
            "text/plain": [
              "torch.Size([1, 28, 28])"
            ]
          },
          "metadata": {},
          "execution_count": 29
        }
      ]
    },
    {
      "cell_type": "code",
      "source": [
        "# get a sample\n",
        "for i in range(4):\n",
        "  image, label = train[i]\n",
        "  plt.subplot(1, 4, i+1)\n",
        "  plt.imshow(image.squeeze(), cmap='gray')\n",
        "  plt.title(train.classes[label])"
      ],
      "metadata": {
        "id": "PLqD_8cQNiRL",
        "outputId": "4c4bdfa9-2fcd-4db0-e156-bb5e679b5356",
        "colab": {
          "base_uri": "https://localhost:8080/",
          "height": 195
        }
      },
      "id": "PLqD_8cQNiRL",
      "execution_count": 30,
      "outputs": [
        {
          "output_type": "display_data",
          "data": {
            "text/plain": [
              "<Figure size 640x480 with 4 Axes>"
            ],
            "image/png": "[encoded data removed]"
          },
          "metadata": {}
        }
      ]
    },
    {
      "cell_type": "markdown",
      "source": [
        "# 3. **Initial** Model"
      ],
      "metadata": {
        "id": "zSJ_kUGvOJ6Q"
      },
      "id": "zSJ_kUGvOJ6Q"
    },
    {
      "cell_type": "code",
      "source": [
        "class MNISTClassifier(nn.Module):\n",
        "  def __init__(self):\n",
        "    super(MNISTClassifier, self).__init__()\n",
        "    self.layers = nn.Sequential(nn.Linear(28*28, 50),\n",
        "                                nn.ReLU(),\n",
        "                                nn.Linear(50, 20),\n",
        "                                nn.ReLU(),\n",
        "                                nn.Linear(20, 10))\n",
        "\n",
        "  def forward(self, image, prints=False):\n",
        "    if prints: print(f'Image shape: {image.detach().numpy().shape}')\n",
        "\n",
        "    # flatten image from [1, 28, 28] to [784]\n",
        "    image = image.view(-1, 28*28)\n",
        "    if prints: print(f\"Image reshaped: {image.detach().numpy().shape}\")\n",
        "\n",
        "    out = self.layers(image)\n",
        "    if prints: print('Out shape:', out.detach().numpy().shape)\n",
        "\n",
        "    return out"
      ],
      "metadata": {
        "id": "wraJ17nWOJiM"
      },
      "id": "wraJ17nWOJiM",
      "execution_count": 31,
      "outputs": []
    },
    {
      "cell_type": "markdown",
      "source": [
        "`detach().numpy()` is just a way to make the output look nicer."
      ],
      "metadata": {
        "id": "Vz4-bG4sd3RM"
      },
      "id": "Vz4-bG4sd3RM"
    },
    {
      "cell_type": "markdown",
      "source": [
        "### Check the model"
      ],
      "metadata": {
        "id": "8R8sE7pCeRNp"
      },
      "id": "8R8sE7pCeRNp"
    },
    {
      "cell_type": "code",
      "source": [
        "image_example, label_example = train[5]\n",
        "print('The true label is:', label_example, '\\n')\n",
        "\n",
        "model_example = MNISTClassifier()\n",
        "\n",
        "out = model_example(image_example, prints=True)\n",
        "print('\\n', 'out:', out.detach().numpy(), '\\n')\n",
        "\n",
        "# Choose max prob.\n",
        "pred = out.max(dim=1)[1]\n",
        "pred = pred.item()\n",
        "\n",
        "print('prediction:', pred, '\\n')\n",
        "\n",
        "print('Model get it -> ', pred == label_example)"
      ],
      "metadata": {
        "id": "hHpisdP-Sn5W",
        "outputId": "25dfd852-2b92-4f4e-ad22-5efc64d4e63b",
        "colab": {
          "base_uri": "https://localhost:8080/"
        }
      },
      "id": "hHpisdP-Sn5W",
      "execution_count": 32,
      "outputs": [
        {
          "output_type": "stream",
          "name": "stdout",
          "text": [
            "The true label is: 2 \n",
            "\n",
            "Image shape: (1, 28, 28)\n",
            "Image reshaped: (1, 784)\n",
            "Out shape: (1, 10)\n",
            "\n",
            " out: [[-0.23813087 -0.23643167  0.11217505  0.04435639 -0.09701191 -0.09929314\n",
            "   0.24942455  0.01447049  0.0910847  -0.23217817]] \n",
            "\n",
            "prediction: 6 \n",
            "\n",
            "Model get it ->  False\n"
          ]
        }
      ]
    },
    {
      "cell_type": "markdown",
      "source": [
        "### Loss and Optimizer"
      ],
      "metadata": {
        "id": "SXbb6Nn9eWca"
      },
      "id": "SXbb6Nn9eWca"
    },
    {
      "cell_type": "code",
      "source": [
        "criterion = nn.CrossEntropyLoss()\n",
        "optimizer = optim.SGD(model_example.parameters(), lr=0.005, momentum=0.9)\n",
        "\n",
        "print('Loss:', criterion, '\\n', '\\n' +\n",
        "      'Optimizer:', optimizer)"
      ],
      "metadata": {
        "id": "4WhjwVb1edQI",
        "outputId": "1cb7e7d5-ccd1-4c35-8765-bab619c08571",
        "colab": {
          "base_uri": "https://localhost:8080/"
        }
      },
      "id": "4WhjwVb1edQI",
      "execution_count": 33,
      "outputs": [
        {
          "output_type": "stream",
          "name": "stdout",
          "text": [
            "Loss: CrossEntropyLoss() \n",
            " \n",
            "Optimizer: SGD (\n",
            "Parameter Group 0\n",
            "    dampening: 0\n",
            "    differentiable: False\n",
            "    foreach: None\n",
            "    lr: 0.005\n",
            "    maximize: False\n",
            "    momentum: 0.9\n",
            "    nesterov: False\n",
            "    weight_decay: 0\n",
            ")\n"
          ]
        }
      ]
    },
    {
      "cell_type": "markdown",
      "source": [
        "### Model Parameters & Backpropagation\n",
        "How many parameters (weights and biases) are updating during 1 single backpropagation."
      ],
      "metadata": {
        "id": "qp0ZOv_igiMU"
      },
      "id": "qp0ZOv_igiMU"
    },
    {
      "cell_type": "code",
      "source": [
        "params = list(model_example.parameters())\n",
        "\n",
        "for i in range(len(params)):\n",
        "  print('Parameter', i+1, ':', params[i].detach().numpy().shape)"
      ],
      "metadata": {
        "id": "YO49wTopgdCY",
        "outputId": "ca414bc0-d84f-4440-e5aa-d92aebd82db4",
        "colab": {
          "base_uri": "https://localhost:8080/"
        }
      },
      "id": "YO49wTopgdCY",
      "execution_count": 34,
      "outputs": [
        {
          "output_type": "stream",
          "name": "stdout",
          "text": [
            "Parameter 1 : (50, 784)\n",
            "Parameter 2 : (50,)\n",
            "Parameter 3 : (20, 50)\n",
            "Parameter 4 : (20,)\n",
            "Parameter 5 : (10, 20)\n",
            "Parameter 6 : (10,)\n"
          ]
        }
      ]
    },
    {
      "cell_type": "code",
      "source": [
        "# clear gradients\n",
        "optimizer.zero_grad()\n",
        "\n",
        "# compute loss\n",
        "loss = criterion(out, torch.tensor(label_example).reshape(-1))\n",
        "print(f'Loss: {loss.detach().numpy():.2f}')\n",
        "\n",
        "# compute gradients\n",
        "loss.backward()\n",
        "\n",
        "# update weights\n",
        "optimizer.step()"
      ],
      "metadata": {
        "id": "GfFf5RG0hsyi",
        "outputId": "43271d03-8279-472d-9231-eafe76e70aa8",
        "colab": {
          "base_uri": "https://localhost:8080/"
        }
      },
      "id": "GfFf5RG0hsyi",
      "execution_count": 35,
      "outputs": [
        {
          "output_type": "stream",
          "name": "stdout",
          "text": [
            "Loss: 2.16\n"
          ]
        }
      ]
    },
    {
      "cell_type": "markdown",
      "source": [
        "# 4. **Training** Neural Network"
      ],
      "metadata": {
        "id": "Ub-ZSUafluTC"
      },
      "id": "Ub-ZSUafluTC"
    },
    {
      "cell_type": "markdown",
      "source": [
        "Create a `DataLoader` and  split the data into 1000 batch each one with size of 60 data point.\n",
        "\n",
        "> `shuffle=True` to shuffle the images after every epoch."
      ],
      "metadata": {
        "id": "86fCpFAKmHd7"
      },
      "id": "86fCpFAKmHd7"
    },
    {
      "cell_type": "code",
      "source": [
        "# Data Loader -> dl\n",
        "train_loader = dl(train, batch_size=60, shuffle=True)\n",
        "test_loader = dl(test, batch_size=10, shuffle=True)\n",
        "\n",
        "# select first batch\n",
        "images, labels = next(iter(train_loader))\n",
        "print('Object shape:', images.detach().numpy().shape, '\\n\\n' +\n",
        "      'Total Inages:', labels.detach().numpy().shape)"
      ],
      "metadata": {
        "id": "CoUXnKVhmhnm",
        "outputId": "a5fa3194-0b93-4348-ba91-519fa6557297",
        "colab": {
          "base_uri": "https://localhost:8080/"
        }
      },
      "id": "CoUXnKVhmhnm",
      "execution_count": 36,
      "outputs": [
        {
          "output_type": "stream",
          "name": "stdout",
          "text": [
            "Object shape: (60, 1, 28, 28) \n",
            "\n",
            "Total Inages: (60,)\n"
          ]
        }
      ]
    },
    {
      "cell_type": "markdown",
      "source": [
        "### Train 3 batches"
      ],
      "metadata": {
        "id": "zBwmwJR8pFmT"
      },
      "id": "zBwmwJR8pFmT"
    },
    {
      "cell_type": "code",
      "source": [
        "n = 0\n",
        "for i, (images, labels) in enumerate(train_loader):\n",
        "  if i >= 3: break\n",
        "\n",
        "  print(f'====== Batch {i}:')\n",
        "  out = model_example(images, prints=True)\n",
        "\n",
        "  loss = criterion(out, labels)\n",
        "  print(f'loss: {loss.detach().numpy():.2f}')\n",
        "\n",
        "  print('Optimizing...')\n",
        "  loss.backward()\n",
        "  optimizer.step()\n",
        "  optimizer.zero_grad()\n",
        "  print('Done.')\n",
        "\n",
        "  if i < 2: print('\\n')"
      ],
      "metadata": {
        "id": "7b3gjdfYpIpV",
        "outputId": "47b08e3a-5ace-4a1c-89bf-55c3b2165551",
        "colab": {
          "base_uri": "https://localhost:8080/"
        }
      },
      "id": "7b3gjdfYpIpV",
      "execution_count": 37,
      "outputs": [
        {
          "output_type": "stream",
          "name": "stdout",
          "text": [
            "====== Batch 0:\n",
            "Image shape: (60, 1, 28, 28)\n",
            "Image reshaped: (60, 784)\n",
            "Out shape: (60, 10)\n",
            "loss: 2.33\n",
            "Optimizing...\n",
            "Done.\n",
            "\n",
            "\n",
            "====== Batch 1:\n",
            "Image shape: (60, 1, 28, 28)\n",
            "Image reshaped: (60, 784)\n",
            "Out shape: (60, 10)\n",
            "loss: 2.36\n",
            "Optimizing...\n",
            "Done.\n",
            "\n",
            "\n",
            "====== Batch 2:\n",
            "Image shape: (60, 1, 28, 28)\n",
            "Image reshaped: (60, 784)\n",
            "Out shape: (60, 10)\n",
            "loss: 2.30\n",
            "Optimizing...\n",
            "Done.\n"
          ]
        }
      ]
    },
    {
      "cell_type": "markdown",
      "source": [
        "### Accuracy example"
      ],
      "metadata": {
        "id": "Xv1N8oxZqk9h"
      },
      "id": "Xv1N8oxZqk9h"
    },
    {
      "cell_type": "code",
      "source": [
        "# Initiate 2 variables for total cases and correct cases\n",
        "correct = 0\n",
        "total = 0\n",
        "\n",
        "model_example.eval()\n",
        "\n",
        "for i, (images, labels) in enumerate(train_loader):\n",
        "  if i >= 3: break\n",
        "\n",
        "  print(f'======== Batch {i}:')\n",
        "\n",
        "  out = model_example(images)\n",
        "  print('Out shape:', out.detach().numpy().shape)\n",
        "\n",
        "  pred = out.max(dim=1)[1]\n",
        "  print('Prediction:', pred.detach().numpy().shape)\n",
        "\n",
        "  correct += (pred == labels).sum().item()\n",
        "  print('Correct:', correct)\n",
        "\n",
        "  total += images.shape[0]\n",
        "  print('Total:', total)\n",
        "\n",
        "  if i < 2: print('\\n')\n",
        "\n",
        "print(f'\\n\\nAverage Accuracy after 3 iterations: {correct/total:.2f}')"
      ],
      "metadata": {
        "id": "Oe-SslNZqkp4",
        "outputId": "bd059d09-a1c4-4cef-8a93-c1c011629499",
        "colab": {
          "base_uri": "https://localhost:8080/"
        }
      },
      "id": "Oe-SslNZqkp4",
      "execution_count": 38,
      "outputs": [
        {
          "output_type": "stream",
          "name": "stdout",
          "text": [
            "======== Batch 0:\n",
            "Out shape: (60, 10)\n",
            "Prediction: (60,)\n",
            "Correct: 9\n",
            "Total: 60\n",
            "\n",
            "\n",
            "======== Batch 1:\n",
            "Out shape: (60, 10)\n",
            "Prediction: (60,)\n",
            "Correct: 12\n",
            "Total: 120\n",
            "\n",
            "\n",
            "======== Batch 2:\n",
            "Out shape: (60, 10)\n",
            "Prediction: (60,)\n",
            "Correct: 19\n",
            "Total: 180\n",
            "\n",
            "\n",
            "Average Accuracy after 3 iterations: 0.11\n"
          ]
        }
      ]
    },
    {
      "cell_type": "markdown",
      "source": [
        "# **Predefined** Functions"
      ],
      "metadata": {
        "id": "V3K8C5YWwJ2I"
      },
      "id": "V3K8C5YWwJ2I"
    },
    {
      "cell_type": "code",
      "source": [
        "def get_accuracy(model, data, batchSize = 20):\n",
        "  model.eval()\n",
        "  data_loader = dl(data, batch_size=batchSize)\n",
        "\n",
        "  correct = 0\n",
        "  total = 0\n",
        "\n",
        "  for (images, labels) in iter(data_loader):\n",
        "    out = model(images)\n",
        "    pred = out.max(dim=1)[1]\n",
        "    correct += (pred == labels).sum().item()\n",
        "    total += images.shape[0]\n",
        "\n",
        "  return correct/total"
      ],
      "metadata": {
        "id": "MobaKjLQwXw_"
      },
      "id": "MobaKjLQwXw_",
      "execution_count": 39,
      "outputs": []
    },
    {
      "cell_type": "code",
      "source": [
        "def train_network(model, train_data, test_data, batchSize=20,\n",
        "                  num_epochs=1, learning_rate=0.01, weight_decay=0,\n",
        "                  show_plot=True, show_acc=True):\n",
        "\n",
        "  print('Get data ready...')\n",
        "  train_loader = dl(dataset=train_data, batch_size=batchSize, shuffle=True)\n",
        "  criterion = nn.CrossEntropyLoss()\n",
        "  optimizer = optim.SGD(model.parameters(), lr=learning_rate,\n",
        "                        momentum=0.9, weight_decay=weight_decay)\n",
        "\n",
        "  losses = []\n",
        "  iterations = []\n",
        "  train_acc = []\n",
        "  test_acc = []\n",
        "\n",
        "  print('Training started...')\n",
        "  iteration = 0\n",
        "\n",
        "  for epoch in range(num_epochs):\n",
        "    for images, labels in iter(train_loader):\n",
        "      model.train()\n",
        "      out = model(images)\n",
        "\n",
        "      optimizer.zero_grad()\n",
        "      loss = criterion(out, labels)\n",
        "      loss.backward()\n",
        "      optimizer.step()\n",
        "\n",
        "      iterations.append(iteration)\n",
        "      iteration += 1\n",
        "      losses.append(loss.data)\n",
        "\n",
        "      train_acc.append(get_accuracy(model, train_data))\n",
        "      test_acc.append(get_accuracy(model, test_data))\n",
        "\n",
        "  if show_acc:\n",
        "    print(f\"Final Training Accuracy: {train_acc[-1]}\")\n",
        "    print(f\"Final Testing Accuracy: {test_acc[-1]}\")\n",
        "\n",
        "  if show_plot:\n",
        "    plt.figure(figsize=(10,4))\n",
        "\n",
        "    # Plot 1 -> Loss\n",
        "    plt.subplot(1, 2, 1)\n",
        "    plt.title(\"Loss Curve\")\n",
        "    plt.plot(iterations, losses, label=\"Train\", color='#F08080')\n",
        "    plt.xlabel('Iterations')\n",
        "    plt.ylabel(\"Loss\")\n",
        "\n",
        "    # plot 2 -> Accuracy\n",
        "    plt.subplot(1, 2, 2)\n",
        "    plt.title(\"Accuracy Curve\")\n",
        "    plt.plot(iterations, train_acc, label=\"Train\", color='#808080')\n",
        "    plt.plot(iterations, test_acc, label=\"Test\", color='#008B8B')\n",
        "    plt.xlabel(\"Iterations\")\n",
        "    plt.ylabel(\"Accuracy\")\n",
        "\n",
        "    plt.show()\n",
        ""
      ],
      "metadata": {
        "id": "D9S6FK0WyGYM"
      },
      "id": "D9S6FK0WyGYM",
      "execution_count": 46,
      "outputs": []
    },
    {
      "cell_type": "markdown",
      "source": [
        "# Model **Evaluation**"
      ],
      "metadata": {
        "id": "kP_VdTkp3lMH"
      },
      "id": "kP_VdTkp3lMH"
    },
    {
      "cell_type": "code",
      "source": [
        "# select only 500 images for faster training\n",
        "mnist_data = datasets.MNIST('data', train=True,\n",
        "                            download=True, transform=ToTensor())\n",
        "mnist_data = list(mnist_data)\n",
        "\n",
        "mnist_train = mnist_data[:500]\n",
        "mnist_test = mnist_data[500:1000]\n",
        "\n",
        "model1 = MNISTClassifier()\n",
        "\n",
        "train_network(model1, mnist_train, mnist_test, num_epochs=200)"
      ],
      "metadata": {
        "id": "7BV2KCFG30XD",
        "outputId": "32590a4c-5fb2-408c-dadc-c8504208efe3",
        "colab": {
          "base_uri": "https://localhost:8080/",
          "height": 488
        }
      },
      "id": "7BV2KCFG30XD",
      "execution_count": 47,
      "outputs": [
        {
          "output_type": "stream",
          "name": "stdout",
          "text": [
            "Get data ready...\n",
            "Training started...\n",
            "Final Training Accuracy: 1.0\n",
            "Final Testing Accuracy: 0.776\n"
          ]
        },
        {
          "output_type": "display_data",
          "data": {
            "text/plain": [
              "<Figure size 1000x400 with 2 Axes>"
            ],
            "image/png": "[encoded data removed]"
          },
          "metadata": {}
        }
      ]
    }
  ],
  "metadata": {
    "kernelspec": {
      "display_name": "Python 3",
      "language": "python",
      "name": "python3"
    },
    "language_info": {
      "codemirror_mode": {
        "name": "ipython",
        "version": 3
      },
      "file_extension": ".py",
      "mimetype": "text/x-python",
      "name": "python",
      "nbconvert_exporter": "python",
      "pygments_lexer": "ipython3",
      "version": "3.8.8"
    },
    "colab": {
      "provenance": [],
      "include_colab_link": true
    }
  },
  "nbformat": 4,
  "nbformat_minor": 5
}