{
  "cells": [
    {
      "cell_type": "markdown",
      "metadata": {
        "id": "view-in-github",
        "colab_type": "text"
      },
      "source": [
        "<a href=\"https://colab.research.google.com/github/mohamedyosef101/101_learning_area/blob/area/PyTorch/vanilla_nn.ipynb\" target=\"_parent\"><img src=\"https://colab.research.google.com/assets/colab-badge.svg\" alt=\"Open In Colab\"/></a>"
      ]
    },
    {
      "cell_type": "markdown",
      "source": [
        "# **Vanilla** Neural Network\n",
        "The original notebook created by [Andrada](https://www.kaggle.com/code/andradaolteanu/how-i-taught-myself-deep-learning-vanilla-nns#1.-Introduction)"
      ],
      "metadata": {
        "id": "1j-Q93ZLfOB-"
      },
      "id": "1j-Q93ZLfOB-"
    },
    {
      "cell_type": "code",
      "source": [
        "import torch\n",
        "import torch.nn as nn\n",
        "import torch.nn.functional as F\n",
        "import torch.optim as optim\n",
        "from torch.utils.data import DataLoader as dl\n",
        "\n",
        "from torchvision import datasets, transforms\n",
        "from torchvision.transforms import ToTensor\n",
        "\n",
        "import numpy as np\n",
        "import matplotlib.pyplot as plt\n",
        "import seaborn as sns\n",
        "import sklearn.metrics as metrics\n",
        "\n",
        "sns.set()\n",
        "\n",
        "device = torch.device('cuda' if torch.cuda.is_available() else 'cpu')\n",
        "print(\"Available device:\", device)"
      ],
      "metadata": {
        "id": "_-ObxdB1f1kF",
        "outputId": "946e63e3-15ea-44f1-b9fc-2585fc1e1c8e",
        "colab": {
          "base_uri": "https://localhost:8080/"
        }
      },
      "id": "_-ObxdB1f1kF",
      "execution_count": 93,
      "outputs": [
        {
          "output_type": "stream",
          "name": "stdout",
          "text": [
            "Available device: cpu\n"
          ]
        }
      ]
    },
    {
      "cell_type": "markdown",
      "source": [
        "# 1. **Load** the data"
      ],
      "metadata": {
        "id": "g4hnJVHZhBQJ"
      },
      "id": "g4hnJVHZhBQJ"
    },
    {
      "cell_type": "code",
      "source": [
        "# hide the output\n",
        "%%capture\n",
        "\n",
        "train = datasets.MNIST('data',\n",
        "                       train=True,\n",
        "                       download=True,\n",
        "                       transform=ToTensor())\n",
        "\n",
        "test = datasets.MNIST('data',\n",
        "                      train=False,\n",
        "                      download=True,\n",
        "                      transform=ToTensor())"
      ],
      "metadata": {
        "id": "QdqfibbNhE_9"
      },
      "id": "QdqfibbNhE_9",
      "execution_count": 34,
      "outputs": []
    },
    {
      "cell_type": "markdown",
      "source": [
        "# 2. Data **Exploration**"
      ],
      "metadata": {
        "id": "lgULgdKdOMGL"
      },
      "id": "lgULgdKdOMGL"
    },
    {
      "cell_type": "code",
      "source": [
        "image, label = train[0]\n",
        "image.shape"
      ],
      "metadata": {
        "id": "sgeFxhs6QFFw",
        "outputId": "c2f88dad-c11e-4a6f-8500-cd4eb87b12f9",
        "colab": {
          "base_uri": "https://localhost:8080/"
        }
      },
      "id": "sgeFxhs6QFFw",
      "execution_count": 35,
      "outputs": [
        {
          "output_type": "execute_result",
          "data": {
            "text/plain": [
              "torch.Size([1, 28, 28])"
            ]
          },
          "metadata": {},
          "execution_count": 35
        }
      ]
    },
    {
      "cell_type": "code",
      "source": [
        "# get a sample\n",
        "for i in range(4):\n",
        "  image, label = train[i]\n",
        "  plt.subplot(1, 4, i+1)\n",
        "  plt.imshow(image.squeeze(), cmap='gray')\n",
        "  plt.title(train.classes[label])"
      ],
      "metadata": {
        "id": "PLqD_8cQNiRL",
        "outputId": "1bc317c2-d9bd-4e4e-e86a-063ce7cdb531",
        "colab": {
          "base_uri": "https://localhost:8080/",
          "height": 195
        }
      },
      "id": "PLqD_8cQNiRL",
      "execution_count": 36,
      "outputs": [
        {
          "output_type": "display_data",
          "data": {
            "text/plain": [
              "<Figure size 640x480 with 4 Axes>"
            ],
            "image/png": "[encoded data removed]"
          },
          "metadata": {}
        }
      ]
    },
    {
      "cell_type": "markdown",
      "source": [
        "# 3. **Initial** Model"
      ],
      "metadata": {
        "id": "zSJ_kUGvOJ6Q"
      },
      "id": "zSJ_kUGvOJ6Q"
    },
    {
      "cell_type": "code",
      "source": [
        "class MNISTClassifier(nn.Module):\n",
        "  def __init__(self):\n",
        "    super(MNISTClassifier, self).__init__()\n",
        "    self.layers = nn.Sequential(nn.Linear(28*28, 50),\n",
        "                                nn.ReLU(),\n",
        "                                nn.Linear(50, 20),\n",
        "                                nn.ReLU(),\n",
        "                                nn.Linear(20, 10))\n",
        "\n",
        "  def forward(self, image, prints=True):\n",
        "    if prints: print(f'Image shape: {image.detach().numpy().shape}')\n",
        "\n",
        "    # flatten image from [1, 28, 28] to [784]\n",
        "    image = image.view(-1, 28*28)\n",
        "    if prints: print(f\"Image reshaped: {image.detach().numpy().shape}\")\n",
        "\n",
        "    out = self.layers(image)\n",
        "    if prints: print('Out shape:', out.detach().numpy().shape)\n",
        "\n",
        "    return out"
      ],
      "metadata": {
        "id": "wraJ17nWOJiM"
      },
      "id": "wraJ17nWOJiM",
      "execution_count": 88,
      "outputs": []
    },
    {
      "cell_type": "markdown",
      "source": [
        "`detach().numpy()` is just a way to make the output look nicer."
      ],
      "metadata": {
        "id": "Vz4-bG4sd3RM"
      },
      "id": "Vz4-bG4sd3RM"
    },
    {
      "cell_type": "markdown",
      "source": [
        "### Check the model"
      ],
      "metadata": {
        "id": "8R8sE7pCeRNp"
      },
      "id": "8R8sE7pCeRNp"
    },
    {
      "cell_type": "code",
      "source": [
        "image_example, label_example = train[5]\n",
        "print('The true label is:', label_example, '\\n')\n",
        "\n",
        "model_example = MNISTClassifier()\n",
        "\n",
        "out = model_example(image_example)\n",
        "print('out:', out.detach().numpy(), '\\n')\n",
        "\n",
        "# Choose max prob.\n",
        "pred = out.max(dim=1)[1]\n",
        "pred = pred.item()\n",
        "\n",
        "print('prediction:', pred, '\\n')\n",
        "\n",
        "print('Model get it -> ', pred == label_example)"
      ],
      "metadata": {
        "id": "hHpisdP-Sn5W",
        "outputId": "ee709dc2-19c8-47b7-a3e0-01bdc4a35077",
        "colab": {
          "base_uri": "https://localhost:8080/"
        }
      },
      "id": "hHpisdP-Sn5W",
      "execution_count": 89,
      "outputs": [
        {
          "output_type": "stream",
          "name": "stdout",
          "text": [
            "The true label is: 2 \n",
            "\n",
            "Image shape: (1, 28, 28)\n",
            "Image reshaped: (1, 784)\n",
            "Out shape: (1, 10)\n",
            "out: [[-0.07011589  0.07127549  0.03738871  0.05102511  0.12294894  0.00151575\n",
            "  -0.14964236  0.2695161   0.08558195 -0.22980976]] \n",
            "\n",
            "prediction: 7 \n",
            "\n",
            "Model get it ->  False\n"
          ]
        }
      ]
    },
    {
      "cell_type": "markdown",
      "source": [
        "### Loss and Optimizer"
      ],
      "metadata": {
        "id": "SXbb6Nn9eWca"
      },
      "id": "SXbb6Nn9eWca"
    },
    {
      "cell_type": "code",
      "source": [
        "criterion = nn.CrossEntropyLoss()\n",
        "optimizer = optim.SGD(model_example.parameters(), lr=0.005, momentum=0.9)\n",
        "\n",
        "print('Loss:', criterion, '\\n', '\\n' +\n",
        "      'Optimizer:', optimizer)"
      ],
      "metadata": {
        "id": "4WhjwVb1edQI",
        "outputId": "1ce48eb8-06c8-4d0d-df9e-42a4d88f1ef8",
        "colab": {
          "base_uri": "https://localhost:8080/"
        }
      },
      "id": "4WhjwVb1edQI",
      "execution_count": 90,
      "outputs": [
        {
          "output_type": "stream",
          "name": "stdout",
          "text": [
            "Loss: CrossEntropyLoss() \n",
            " \n",
            "Optimizer: SGD (\n",
            "Parameter Group 0\n",
            "    dampening: 0\n",
            "    differentiable: False\n",
            "    foreach: None\n",
            "    lr: 0.005\n",
            "    maximize: False\n",
            "    momentum: 0.9\n",
            "    nesterov: False\n",
            "    weight_decay: 0\n",
            ")\n"
          ]
        }
      ]
    },
    {
      "cell_type": "markdown",
      "source": [
        "### Model Parameters & Backpropagation\n",
        "How many parameters (weights and biases) are updating during 1 single backpropagation."
      ],
      "metadata": {
        "id": "qp0ZOv_igiMU"
      },
      "id": "qp0ZOv_igiMU"
    },
    {
      "cell_type": "code",
      "source": [
        "params = list(model_example.parameters())\n",
        "\n",
        "for i in range(len(params)):\n",
        "  print('Parameter', i+1, ':', params[i].detach().numpy().shape)"
      ],
      "metadata": {
        "id": "YO49wTopgdCY",
        "outputId": "d65a5877-2723-4837-a2c8-caf219a35836",
        "colab": {
          "base_uri": "https://localhost:8080/"
        }
      },
      "id": "YO49wTopgdCY",
      "execution_count": 73,
      "outputs": [
        {
          "output_type": "stream",
          "name": "stdout",
          "text": [
            "Parameter 1 : (50, 784)\n",
            "Parameter 2 : (50,)\n",
            "Parameter 3 : (20, 50)\n",
            "Parameter 4 : (20,)\n",
            "Parameter 5 : (10, 20)\n",
            "Parameter 6 : (10,)\n"
          ]
        }
      ]
    },
    {
      "cell_type": "code",
      "source": [
        "# clear gradients\n",
        "optimizer.zero_grad()\n",
        "\n",
        "# compute loss\n",
        "loss = criterion(out, torch.tensor(label_example).reshape(-1))\n",
        "print('Loss:', loss.detach().numpy())\n",
        "\n",
        "# compute gradients\n",
        "loss.backward()\n",
        "\n",
        "# update weights\n",
        "optimizer.step()"
      ],
      "metadata": {
        "id": "GfFf5RG0hsyi",
        "outputId": "58c01fe2-55ef-4a17-89d5-d4ae1722e651",
        "colab": {
          "base_uri": "https://localhost:8080/"
        }
      },
      "id": "GfFf5RG0hsyi",
      "execution_count": 91,
      "outputs": [
        {
          "output_type": "stream",
          "name": "stdout",
          "text": [
            "Loss: 2.293136\n"
          ]
        }
      ]
    },
    {
      "cell_type": "markdown",
      "source": [
        "# 4. **Training** Neural Network"
      ],
      "metadata": {
        "id": "Ub-ZSUafluTC"
      },
      "id": "Ub-ZSUafluTC"
    },
    {
      "cell_type": "markdown",
      "source": [
        "Create a `DataLoader` and  split the data into 1000 batch each one with size of 60 data point.\n",
        "\n",
        "> `shuffle=True` to shuffle the images after every epoch."
      ],
      "metadata": {
        "id": "86fCpFAKmHd7"
      },
      "id": "86fCpFAKmHd7"
    },
    {
      "cell_type": "code",
      "source": [
        "# Data Loader -> dl\n",
        "train_loader = dl(train, batch_size=60, shuffle=True)\n",
        "test_loader = dl(test, batch_size=10, shuffle=True)\n",
        "\n",
        "# select first batch\n",
        "images, labels = next(iter(train_loader))\n",
        "print('Object shape:', images.detach().numpy().shape, '\\n\\n' +\n",
        "      'Total Inages:', labels.detach().numpy().shape)"
      ],
      "metadata": {
        "id": "CoUXnKVhmhnm",
        "outputId": "2e3de5e4-c85e-422b-b48a-b0f1c95a9245",
        "colab": {
          "base_uri": "https://localhost:8080/"
        }
      },
      "id": "CoUXnKVhmhnm",
      "execution_count": 96,
      "outputs": [
        {
          "output_type": "stream",
          "name": "stdout",
          "text": [
            "Object shape: (60, 1, 28, 28) \n",
            "\n",
            "Total Inages: (60,)\n"
          ]
        }
      ]
    },
    {
      "cell_type": "markdown",
      "source": [
        "### Train a batch"
      ],
      "metadata": {
        "id": "zBwmwJR8pFmT"
      },
      "id": "zBwmwJR8pFmT"
    },
    {
      "cell_type": "code",
      "source": [
        "n = 0\n",
        "for i, (images, labels) in enumerate(train_loader):\n",
        "  if i >= 3:\n",
        "    break\n",
        "\n",
        "  print('====== Batch', i, ':')\n",
        "  out = model_example(images)\n",
        "\n",
        "  loss = criterion(out, labels)\n",
        "  print('loss', loss)\n",
        "\n",
        "  print('Optimizing...')\n",
        "  loss.backward()\n",
        "  optimizer.step()\n",
        "  optimizer.zero_grad()\n",
        "  print('Done.')\n",
        "\n",
        "  if i < 2: print('\\n')"
      ],
      "metadata": {
        "id": "7b3gjdfYpIpV",
        "outputId": "8fa3935e-5e7d-46e3-8462-e338b77a79ee",
        "colab": {
          "base_uri": "https://localhost:8080/"
        }
      },
      "id": "7b3gjdfYpIpV",
      "execution_count": 98,
      "outputs": [
        {
          "output_type": "stream",
          "name": "stdout",
          "text": [
            "====== Batch 0 :\n",
            "Image shape: (60, 1, 28, 28)\n",
            "Image reshaped: (60, 784)\n",
            "Out shape: (60, 10)\n",
            "loss tensor(2.3267, grad_fn=<NllLossBackward0>)\n",
            "Optimizing...\n",
            "Done.\n",
            "\n",
            "\n",
            "====== Batch 1 :\n",
            "Image shape: (60, 1, 28, 28)\n",
            "Image reshaped: (60, 784)\n",
            "Out shape: (60, 10)\n",
            "loss tensor(2.3191, grad_fn=<NllLossBackward0>)\n",
            "Optimizing...\n",
            "Done.\n",
            "\n",
            "\n",
            "====== Batch 2 :\n",
            "Image shape: (60, 1, 28, 28)\n",
            "Image reshaped: (60, 784)\n",
            "Out shape: (60, 10)\n",
            "loss tensor(2.2765, grad_fn=<NllLossBackward0>)\n",
            "Optimizing...\n",
            "Done.\n"
          ]
        }
      ]
    }
  ],
  "metadata": {
    "kernelspec": {
      "display_name": "Python 3",
      "language": "python",
      "name": "python3"
    },
    "language_info": {
      "codemirror_mode": {
        "name": "ipython",
        "version": 3
      },
      "file_extension": ".py",
      "mimetype": "text/x-python",
      "name": "python",
      "nbconvert_exporter": "python",
      "pygments_lexer": "ipython3",
      "version": "3.8.8"
    },
    "colab": {
      "provenance": [],
      "include_colab_link": true
    }
  },
  "nbformat": 4,
  "nbformat_minor": 5
}
