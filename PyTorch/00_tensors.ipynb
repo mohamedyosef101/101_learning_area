{
  "cells": [
    {
      "cell_type": "markdown",
      "metadata": {
        "id": "view-in-github",
        "colab_type": "text"
      },
      "source": [
        "<a href=\"https://colab.research.google.com/github/mohamedyosef101/101_learning_area/blob/area/PyTorch/00_tensors.ipynb\" target=\"_parent\"><img src=\"https://colab.research.google.com/assets/colab-badge.svg\" alt=\"Open In Colab\"/></a>"
      ]
    },
    {
      "cell_type": "markdown",
      "source": [
        "*This is part of PyTorch for deep learning course by Daniel Bourke.*\n",
        "\n",
        "For more, check the [*source code*](https://github.com/mrdbourke/pytorch-deep-learning/blob/main/00_pytorch_fundamentals.ipynb)."
      ],
      "metadata": {
        "id": "XF-VSLQ0jmoX"
      },
      "id": "XF-VSLQ0jmoX"
    },
    {
      "cell_type": "markdown",
      "source": [
        "# What is a **Tensor**?"
      ],
      "metadata": {
        "id": "PeN6ksAcLIam"
      },
      "id": "PeN6ksAcLIam"
    },
    {
      "cell_type": "markdown",
      "source": [
        "**Tensors:** an n-dimensional arrary of numbers (where n can be any number, a 0-dimension tensor is a scalar, a 1-dimension tensor is a vector).\n",
        "\n",
        "> *The word tensor comes form an old latin word which means to stretch.*\n",
        "\n",
        "<div align=\"left\">\n",
        "  <img width=\"180\" src=\"https://i.ibb.co/bdJ4Xyj/3-axis-numpy.png\">\n",
        "  <img width=\"188\" src=\"https://i.ibb.co/pxZFrM8/3-axis-front.png\">\n",
        "  <img width=\"120\" src=\"https://i.ibb.co/rxp1Gdm/3-axis-block.png\">\n",
        "</div>\n",
        "\n",
        "**NOTE** the terms matrix and tensor are often used interchangably.\n",
        "\n",
        "<div><br></div>\n",
        "\n",
        "### Tensors have shapes. Some vocabulary:\n",
        "\n",
        "* **Shape:** The length (number of elements) of each of the axes of a tensor.\n",
        "\n",
        "* **Rank:** Number of tensor axes. A scalar has rank 0, a vector has rank 1, a matrix is rank 2.\n",
        "\n",
        "* **Axis or Dimension:** A particular dimension of a tensor.\n",
        "\n",
        "* **Size:** The total number of items in the tensor, the product of the shape vector's elements.\n",
        "\n",
        "<div><br></div>\n",
        "\n",
        "*more resources:*\n",
        "\n",
        "- Dan Fleisch. (2011). [*What's a Tensor?*](https://youtu.be/f5liqUk0ZTw?si=eoUM7IJ8PbYyvK1I). YouTube.\n",
        "\n",
        "- TensorFlow Core. [*Introduction to Tensors*](https://www.tensorflow.org/guide/tensor)"
      ],
      "metadata": {
        "id": "spoAPopNccWw"
      },
      "id": "spoAPopNccWw"
    },
    {
      "cell_type": "code",
      "source": [
        "# set up\n",
        "import torch\n",
        "import numpy as np\n",
        "import datetime as dt\n",
        "\n",
        "print(f\"Last run time: {dt.datetime.now()}\")"
      ],
      "metadata": {
        "id": "pyVkFd2Tma-7",
        "outputId": "26386086-5ed8-487b-b46f-ac770e08cb18",
        "colab": {
          "base_uri": "https://localhost:8080/"
        }
      },
      "id": "pyVkFd2Tma-7",
      "execution_count": 1,
      "outputs": [
        {
          "output_type": "stream",
          "name": "stdout",
          "text": [
            "Last run time: 2024-01-20 10:41:09.661066\n"
          ]
        }
      ]
    },
    {
      "cell_type": "markdown",
      "source": [
        "### Scalar or rank-0 tensor\n",
        "A scalar contains a single value, and no \"axes\"."
      ],
      "metadata": {
        "id": "hmQJ6pmPlwXm"
      },
      "id": "hmQJ6pmPlwXm"
    },
    {
      "cell_type": "code",
      "source": [
        "scalar = torch.tensor(4)\n",
        "print(f\"scalar is a rank-{scalar.ndim} tensor\")"
      ],
      "metadata": {
        "id": "ii6ExBLcmT_K",
        "outputId": "d7fc4073-8a27-4782-8f93-d1e778e37a7f",
        "colab": {
          "base_uri": "https://localhost:8080/"
        }
      },
      "id": "ii6ExBLcmT_K",
      "execution_count": 2,
      "outputs": [
        {
          "output_type": "stream",
          "name": "stdout",
          "text": [
            "scalar is a rank-0 tensor\n"
          ]
        }
      ]
    },
    {
      "cell_type": "markdown",
      "source": [
        "![scalar](https://i.ibb.co/vQwMrQK/scalar.png)"
      ],
      "metadata": {
        "id": "s7-WxWIanMF7"
      },
      "id": "s7-WxWIanMF7"
    },
    {
      "cell_type": "markdown",
      "source": [
        "### Vector or rank-1 tensor\n",
        "Is like a list of values and has one axis."
      ],
      "metadata": {
        "id": "1PKWea4knoRQ"
      },
      "id": "1PKWea4knoRQ"
    },
    {
      "cell_type": "code",
      "source": [
        "vector = torch.tensor([2.0, 3.0, 4.0])\n",
        "print(f\"vector is a rank-{vector.ndim} tensor\")"
      ],
      "metadata": {
        "id": "Eq9mL3I_n26t",
        "outputId": "7e86329b-d5d4-41c8-e2eb-804a3758e040",
        "colab": {
          "base_uri": "https://localhost:8080/"
        }
      },
      "id": "Eq9mL3I_n26t",
      "execution_count": 3,
      "outputs": [
        {
          "output_type": "stream",
          "name": "stdout",
          "text": [
            "vector is a rank-1 tensor\n"
          ]
        }
      ]
    },
    {
      "cell_type": "markdown",
      "source": [
        "![vector](https://i.ibb.co/9YWmdZw/vector.png)"
      ],
      "metadata": {
        "id": "HXjIK4GCoNEW"
      },
      "id": "HXjIK4GCoNEW"
    },
    {
      "cell_type": "markdown",
      "source": [
        "### Matrix or rank-2 tensor\n",
        "Has two axes"
      ],
      "metadata": {
        "id": "of8Uubq_oXgI"
      },
      "id": "of8Uubq_oXgI"
    },
    {
      "cell_type": "code",
      "source": [
        "matrix = torch.tensor([[1, 2],\n",
        "                      [3, 4],\n",
        "                      [5, 6]])\n",
        "print(f\"matrix is a rank-{matrix.ndim} tensor\")"
      ],
      "metadata": {
        "id": "7kXu8m-DoWsj",
        "outputId": "36b106b5-5574-48ab-ad2b-bcb8ea90191b",
        "colab": {
          "base_uri": "https://localhost:8080/"
        }
      },
      "id": "7kXu8m-DoWsj",
      "execution_count": 4,
      "outputs": [
        {
          "output_type": "stream",
          "name": "stdout",
          "text": [
            "matrix is a rank-2 tensor\n"
          ]
        }
      ]
    },
    {
      "cell_type": "markdown",
      "source": [
        "![matrix](https://i.ibb.co/NLwfK1m/matrix.png)"
      ],
      "metadata": {
        "id": "B3upAnaio8Kc"
      },
      "id": "B3upAnaio8Kc"
    },
    {
      "cell_type": "markdown",
      "source": [
        "### Rank-3 tensor\n",
        "A tensor with three axes"
      ],
      "metadata": {
        "id": "dDfrSOKXpKN0"
      },
      "id": "dDfrSOKXpKN0"
    },
    {
      "cell_type": "code",
      "source": [
        "numbers = torch.tensor([\n",
        "    [[0, 1, 3, 3, 4],\n",
        "     [5, 6, 7, 8, 9]],\n",
        "\n",
        "    [[10, 11, 12, 13, 14],\n",
        "     [15, 16, 17, 18, 19]],\n",
        "\n",
        "    [[20, 21, 22, 23, 24],\n",
        "     [25, 26, 27, 28, 29]]\n",
        "])\n",
        "\n",
        "print(f\"numbers is a rank-{numbers.ndim} tensor with shape {np.array(numbers.shape)}\")"
      ],
      "metadata": {
        "id": "SiiYeFTwpU9_",
        "outputId": "acdaea47-73c9-4fab-8348-12a6a668c8aa",
        "colab": {
          "base_uri": "https://localhost:8080/"
        }
      },
      "id": "SiiYeFTwpU9_",
      "execution_count": 5,
      "outputs": [
        {
          "output_type": "stream",
          "name": "stdout",
          "text": [
            "numbers is a rank-3 tensor with shape [3 2 5]\n"
          ]
        }
      ]
    },
    {
      "cell_type": "markdown",
      "source": [
        "There are many ways to visualize this tensor:\n",
        "<div align=\"left\">\n",
        "  <img width=\"180\" src=\"https://i.ibb.co/bdJ4Xyj/3-axis-numpy.png\">\n",
        "  <img width=\"188\" src=\"https://i.ibb.co/pxZFrM8/3-axis-front.png\">\n",
        "  <img width=\"120\" src=\"https://i.ibb.co/rxp1Gdm/3-axis-block.png\">\n",
        "</div>"
      ],
      "metadata": {
        "id": "1maQILysp8ux"
      },
      "id": "1maQILysp8ux"
    },
    {
      "cell_type": "markdown",
      "source": [
        "# *Random, Zeros, Ones, range, and like* **Tensors**"
      ],
      "metadata": {
        "id": "90FMsjPoBvv6"
      },
      "id": "90FMsjPoBvv6"
    },
    {
      "cell_type": "code",
      "source": [
        "# create a random tensor of size (2, 3)\n",
        "rand_MATRIX = torch.rand(size=(2,3))\n",
        "rand_MATRIX"
      ],
      "metadata": {
        "id": "EubXdiTrB3Ep",
        "outputId": "2df48b31-0e01-4580-f505-886f7317c0d9",
        "colab": {
          "base_uri": "https://localhost:8080/"
        }
      },
      "id": "EubXdiTrB3Ep",
      "execution_count": 6,
      "outputs": [
        {
          "output_type": "execute_result",
          "data": {
            "text/plain": [
              "tensor([[0.4975, 0.2105, 0.8710],\n",
              "        [0.6477, 0.0437, 0.5232]])"
            ]
          },
          "metadata": {},
          "execution_count": 6
        }
      ]
    },
    {
      "cell_type": "code",
      "source": [
        "# create a tensor of all zeros\n",
        "zeros_TENSOR = torch.zeros(size=(2, 1, 3))\n",
        "zeros_TENSOR"
      ],
      "metadata": {
        "id": "Kt-OQE12CoHz",
        "outputId": "1ffcb1cd-f541-4990-f192-95d8f14d93e2",
        "colab": {
          "base_uri": "https://localhost:8080/"
        }
      },
      "id": "Kt-OQE12CoHz",
      "execution_count": 7,
      "outputs": [
        {
          "output_type": "execute_result",
          "data": {
            "text/plain": [
              "tensor([[[0., 0., 0.]],\n",
              "\n",
              "        [[0., 0., 0.]]])"
            ]
          },
          "metadata": {},
          "execution_count": 7
        }
      ]
    },
    {
      "cell_type": "code",
      "source": [
        "# create a torch of all ones\n",
        "ones_M = torch.ones(size=(2, 2))\n",
        "ones_M"
      ],
      "metadata": {
        "id": "OASG-6xGDJFi",
        "outputId": "97649533-5c9f-4d5b-ff22-4a56a563ce30",
        "colab": {
          "base_uri": "https://localhost:8080/"
        }
      },
      "id": "OASG-6xGDJFi",
      "execution_count": 8,
      "outputs": [
        {
          "output_type": "execute_result",
          "data": {
            "text/plain": [
              "tensor([[1., 1.],\n",
              "        [1., 1.]])"
            ]
          },
          "metadata": {},
          "execution_count": 8
        }
      ]
    },
    {
      "cell_type": "markdown",
      "source": [
        "### Creating a **range of numbers** with tensors"
      ],
      "metadata": {
        "id": "2SWAr1rVDqD7"
      },
      "id": "2SWAr1rVDqD7"
    },
    {
      "cell_type": "markdown",
      "source": [
        "Let's say I want to print a list of years from 1996 to 2030."
      ],
      "metadata": {
        "id": "0Etywc6nD0fz"
      },
      "id": "0Etywc6nD0fz"
    },
    {
      "cell_type": "code",
      "source": [
        "years = torch.arange(start=1996, step=1, end=2031)\n",
        "years"
      ],
      "metadata": {
        "id": "aaBZd-J8Dzfv",
        "outputId": "56d1cda0-6f17-4aff-a039-91e5802816bf",
        "colab": {
          "base_uri": "https://localhost:8080/"
        }
      },
      "id": "aaBZd-J8Dzfv",
      "execution_count": 9,
      "outputs": [
        {
          "output_type": "execute_result",
          "data": {
            "text/plain": [
              "tensor([1996, 1997, 1998, 1999, 2000, 2001, 2002, 2003, 2004, 2005, 2006, 2007,\n",
              "        2008, 2009, 2010, 2011, 2012, 2013, 2014, 2015, 2016, 2017, 2018, 2019,\n",
              "        2020, 2021, 2022, 2023, 2024, 2025, 2026, 2027, 2028, 2029, 2030])"
            ]
          },
          "metadata": {},
          "execution_count": 9
        }
      ]
    },
    {
      "cell_type": "markdown",
      "source": [
        "### **like** Tensors"
      ],
      "metadata": {
        "id": "kDpx2ieWE_BZ"
      },
      "id": "kDpx2ieWE_BZ"
    },
    {
      "cell_type": "code",
      "source": [
        "years_prob = torch.ones_like(input=years)\n",
        "years_prob"
      ],
      "metadata": {
        "id": "11r7VlfZFDKz",
        "outputId": "30806a36-cbff-419a-e5d6-e07d8bc5185d",
        "colab": {
          "base_uri": "https://localhost:8080/"
        }
      },
      "id": "11r7VlfZFDKz",
      "execution_count": 10,
      "outputs": [
        {
          "output_type": "execute_result",
          "data": {
            "text/plain": [
              "tensor([1, 1, 1, 1, 1, 1, 1, 1, 1, 1, 1, 1, 1, 1, 1, 1, 1, 1, 1, 1, 1, 1, 1, 1,\n",
              "        1, 1, 1, 1, 1, 1, 1, 1, 1, 1, 1])"
            ]
          },
          "metadata": {},
          "execution_count": 10
        }
      ]
    },
    {
      "cell_type": "markdown",
      "source": [
        "# Linear Algebra **Operations**"
      ],
      "metadata": {
        "id": "p_ZY2w3t0Yf8"
      },
      "id": "p_ZY2w3t0Yf8"
    },
    {
      "cell_type": "code",
      "source": [
        "# matrix multiplication in tf\n",
        "matrix_square = torch.matmul(matrix, torch.t(matrix)) # t for transpose\n",
        "print(f\"Original matrix: \\n{np.array(matrix)}\\nSquared one: \\n{np.array(matrix_square)}\")"
      ],
      "metadata": {
        "id": "KIDYNU3i0dl2",
        "outputId": "677e3879-9962-48fa-884d-18d7ff9bbb79",
        "colab": {
          "base_uri": "https://localhost:8080/"
        }
      },
      "id": "KIDYNU3i0dl2",
      "execution_count": 11,
      "outputs": [
        {
          "output_type": "stream",
          "name": "stdout",
          "text": [
            "Original matrix: \n",
            "[[1 2]\n",
            " [3 4]\n",
            " [5 6]]\n",
            "Squared one: \n",
            "[[ 5 11 17]\n",
            " [11 25 39]\n",
            " [17 39 61]]\n"
          ]
        }
      ]
    },
    {
      "cell_type": "code",
      "source": [
        "# the dot product\n",
        "X = torch.tensor([[1, 2, 3], [1, 2, 3]])\n",
        "Y = torch.tensor([[4, 5, 6], [1, 2, 3]])\n",
        "\n",
        "torch.tensordot(X, Y, dims=2)"
      ],
      "metadata": {
        "id": "tMfVan9Q1jAw",
        "outputId": "fd2e45de-7653-4e70-a124-da78810d534e",
        "colab": {
          "base_uri": "https://localhost:8080/"
        }
      },
      "id": "tMfVan9Q1jAw",
      "execution_count": 12,
      "outputs": [
        {
          "output_type": "execute_result",
          "data": {
            "text/plain": [
              "tensor(46)"
            ]
          },
          "metadata": {},
          "execution_count": 12
        }
      ]
    },
    {
      "cell_type": "markdown",
      "source": [
        "---\n",
        "# **Exercises**"
      ],
      "metadata": {
        "id": "-wi7OpnmYp7F"
      },
      "id": "-wi7OpnmYp7F"
    },
    {
      "cell_type": "markdown",
      "source": [
        "## Create a random tensor with shape `(7, 7)`"
      ],
      "metadata": {
        "id": "GiIYogRKY0Kd"
      },
      "id": "GiIYogRKY0Kd"
    },
    {
      "cell_type": "code",
      "source": [
        "import torch\n",
        "tensor1 = torch.rand(size=[7, 7])\n",
        "tensor1"
      ],
      "metadata": {
        "id": "Q7MrhrBzYvaY",
        "outputId": "20d3ae87-d89e-41b5-dc87-238a683f66d8",
        "colab": {
          "base_uri": "https://localhost:8080/"
        }
      },
      "id": "Q7MrhrBzYvaY",
      "execution_count": 13,
      "outputs": [
        {
          "output_type": "execute_result",
          "data": {
            "text/plain": [
              "tensor([[0.3671, 0.3910, 0.6521, 0.6592, 0.3934, 0.9245, 0.4407],\n",
              "        [0.7708, 0.9036, 0.2309, 0.6017, 0.7896, 0.9025, 0.8673],\n",
              "        [0.5812, 0.2049, 0.1889, 0.8241, 0.8502, 0.6220, 0.0142],\n",
              "        [0.6697, 0.0967, 0.0684, 0.6757, 0.7449, 0.3434, 0.5914],\n",
              "        [0.1138, 0.8930, 0.9740, 0.5993, 0.9152, 0.6749, 0.3106],\n",
              "        [0.8822, 0.7312, 0.8643, 0.5308, 0.5684, 0.5843, 0.2629],\n",
              "        [0.5336, 0.3425, 0.4077, 0.2231, 0.1753, 0.3221, 0.8060]])"
            ]
          },
          "metadata": {},
          "execution_count": 13
        }
      ]
    },
    {
      "cell_type": "code",
      "source": [
        "tensor2 = torch.rand(size=[1, 7])\n",
        "\n",
        "torch.matmul(tensor1, torch.t(tensor2))"
      ],
      "metadata": {
        "id": "gKvvWab4Z4CJ",
        "outputId": "5ebc87d1-f9ed-470c-8fff-5dc2469d1828",
        "colab": {
          "base_uri": "https://localhost:8080/"
        }
      },
      "id": "gKvvWab4Z4CJ",
      "execution_count": 14,
      "outputs": [
        {
          "output_type": "execute_result",
          "data": {
            "text/plain": [
              "tensor([[2.0651],\n",
              "        [2.3628],\n",
              "        [1.8202],\n",
              "        [1.5957],\n",
              "        [2.5074],\n",
              "        [2.6458],\n",
              "        [1.4132]])"
            ]
          },
          "metadata": {},
          "execution_count": 14
        }
      ]
    },
    {
      "cell_type": "code",
      "source": [
        "torch.manual_seed(0)\n",
        "\n",
        "tensor1 = torch.rand(size=[7, 7])\n",
        "tensor2 = torch.rand(size=[1, 7])\n",
        "\n",
        "torch.matmul(tensor1, torch.t(tensor2))"
      ],
      "metadata": {
        "id": "Dw0ICL9yar_J",
        "outputId": "a680f9b2-e86c-469c-b31b-6c5e22e60366",
        "colab": {
          "base_uri": "https://localhost:8080/"
        }
      },
      "id": "Dw0ICL9yar_J",
      "execution_count": 15,
      "outputs": [
        {
          "output_type": "execute_result",
          "data": {
            "text/plain": [
              "tensor([[1.8542],\n",
              "        [1.9611],\n",
              "        [2.2884],\n",
              "        [3.0481],\n",
              "        [1.7067],\n",
              "        [2.5290],\n",
              "        [1.7989]])"
            ]
          },
          "metadata": {},
          "execution_count": 15
        }
      ]
    },
    {
      "cell_type": "code",
      "source": [
        "# check for access to GPU\n",
        "torch.cuda.is_available()"
      ],
      "metadata": {
        "id": "GJoYFp-odSec",
        "outputId": "276873c0-3e1f-42e0-b570-b9bbe882e183",
        "colab": {
          "base_uri": "https://localhost:8080/"
        }
      },
      "id": "GJoYFp-odSec",
      "execution_count": 16,
      "outputs": [
        {
          "output_type": "execute_result",
          "data": {
            "text/plain": [
              "True"
            ]
          },
          "metadata": {},
          "execution_count": 16
        }
      ]
    },
    {
      "cell_type": "code",
      "source": [
        "torch.cuda.manual_seed(1234)\n",
        "\n",
        "# create two random tensors on GPU\n",
        "t1 = torch.rand(size=[2, 3], device='cuda')\n",
        "t2 = torch.rand(size=[2, 3], device='cuda')\n",
        "t1, t2"
      ],
      "metadata": {
        "id": "a7d2_c1WbYcN",
        "outputId": "4e3fba1b-e0f5-4fe7-c0f5-a12865a46485",
        "colab": {
          "base_uri": "https://localhost:8080/"
        }
      },
      "id": "a7d2_c1WbYcN",
      "execution_count": 18,
      "outputs": [
        {
          "output_type": "execute_result",
          "data": {
            "text/plain": [
              "(tensor([[0.1272, 0.8167, 0.5440],\n",
              "         [0.6601, 0.2721, 0.9737]], device='cuda:0'),\n",
              " tensor([[0.6208, 0.0276, 0.3255],\n",
              "         [0.1114, 0.6812, 0.3608]], device='cuda:0'))"
            ]
          },
          "metadata": {},
          "execution_count": 18
        }
      ]
    },
    {
      "cell_type": "code",
      "source": [
        "t3 = torch.matmul(t1, torch.t(t2))\n",
        "t3"
      ],
      "metadata": {
        "id": "QSdLokUyd0v_",
        "outputId": "69e4dc39-fbc5-49bd-e9a9-49e462efbeb3",
        "colab": {
          "base_uri": "https://localhost:8080/"
        }
      },
      "id": "QSdLokUyd0v_",
      "execution_count": 31,
      "outputs": [
        {
          "output_type": "execute_result",
          "data": {
            "text/plain": [
              "tensor([[0.2786, 0.7668],\n",
              "        [0.7343, 0.6102]], device='cuda:0')"
            ]
          },
          "metadata": {},
          "execution_count": 31
        }
      ]
    },
    {
      "cell_type": "code",
      "source": [
        "# find the max and min value\n",
        "print(f\"max: {t3.max()}\\nmin: {t3.min()}\")"
      ],
      "metadata": {
        "id": "RKvyQxXAd_iz",
        "outputId": "c6816a91-e19e-48db-91dd-9cea8c9e1a57",
        "colab": {
          "base_uri": "https://localhost:8080/"
        }
      },
      "id": "RKvyQxXAd_iz",
      "execution_count": 28,
      "outputs": [
        {
          "output_type": "stream",
          "name": "stdout",
          "text": [
            "max: 0.7667766809463501\n",
            "min: 0.27863210439682007\n"
          ]
        }
      ]
    },
    {
      "cell_type": "code",
      "source": [
        "# find the max and min indexes\n",
        "print(f\"max index: {t3.argmax()}\\nmin index: {t3.argmin()}\")"
      ],
      "metadata": {
        "id": "RRQf-0pDfNiR",
        "outputId": "bd67ec62-e60f-4d92-c8c3-39d803522e33",
        "colab": {
          "base_uri": "https://localhost:8080/"
        }
      },
      "id": "RRQf-0pDfNiR",
      "execution_count": 33,
      "outputs": [
        {
          "output_type": "stream",
          "name": "stdout",
          "text": [
            "max index: 1\n",
            "min index: 0\n"
          ]
        }
      ]
    },
    {
      "cell_type": "code",
      "source": [
        "torch.manual_seed(7)\n",
        "a = torch.rand(size=[1, 1, 1, 10])\n",
        "b = torch.rand(size=[10])\n",
        "print(a, a.shape, b, b.shape)"
      ],
      "metadata": {
        "id": "SGmPBMNshqtO",
        "outputId": "c508353a-1da1-4e83-cebf-29f9794a7a7c",
        "colab": {
          "base_uri": "https://localhost:8080/"
        }
      },
      "id": "SGmPBMNshqtO",
      "execution_count": 35,
      "outputs": [
        {
          "output_type": "stream",
          "name": "stdout",
          "text": [
            "tensor([[[[0.5349, 0.1988, 0.6592, 0.6569, 0.2328, 0.4251, 0.2071, 0.6297,\n",
            "           0.3653, 0.8513]]]]) torch.Size([1, 1, 1, 10]) tensor([0.8549, 0.5509, 0.2868, 0.2063, 0.4451, 0.3593, 0.7204, 0.0731, 0.9699,\n",
            "        0.1078]) torch.Size([10])\n"
          ]
        }
      ]
    }
  ],
  "metadata": {
    "kernelspec": {
      "display_name": "Python 3",
      "name": "python3"
    },
    "language_info": {
      "codemirror_mode": {
        "name": "ipython",
        "version": 3
      },
      "file_extension": ".py",
      "mimetype": "text/x-python",
      "name": "python",
      "nbconvert_exporter": "python",
      "pygments_lexer": "ipython3",
      "version": "3.8.8"
    },
    "colab": {
      "provenance": [],
      "gpuType": "T4",
      "include_colab_link": true
    },
    "accelerator": "GPU"
  },
  "nbformat": 4,
  "nbformat_minor": 5
}