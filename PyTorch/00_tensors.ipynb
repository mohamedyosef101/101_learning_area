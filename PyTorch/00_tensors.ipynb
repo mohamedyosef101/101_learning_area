{
  "cells": [
    {
      "cell_type": "markdown",
      "metadata": {
        "id": "view-in-github",
        "colab_type": "text"
      },
    },
    {
      "cell_type": "markdown",
      "source": [
        "# What is a Tensor?\n",
        "\n",
        "**Tensors:** an n-dimensional arrary of numbers (where n can be any number, a 0-dimension tensor is a scalar, a 1-dimension tensor is a vector).\n",
        "\n",
        "> *The word tensor comes form an old latin word which means to stretch.*\n",
        "\n",
        "<div align=\"left\">\n",
        "  <img width=\"180\" src=\"https://i.ibb.co/bdJ4Xyj/3-axis-numpy.png\">\n",
        "  <img width=\"188\" src=\"https://i.ibb.co/pxZFrM8/3-axis-front.png\">\n",
        "  <img width=\"120\" src=\"https://i.ibb.co/rxp1Gdm/3-axis-block.png\">\n",
        "</div>\n",
        "\n",
        "**NOTE** the terms matrix and tensor are often used interchangably.\n",
        "\n",
        "<div><br></div>\n",
        "\n",
        "### Tensors have shapes. Some vocabulary:\n",
        "\n",
        "* **Shape:** The length (number of elements) of each of the axes of a tensor.\n",
        "\n",
        "* **Rank:** Number of tensor axes. A scalar has rank 0, a vector has rank 1, a matrix is rank 2.\n",
        "\n",
        "* **Axis or Dimension:** A particular dimension of a tensor.\n",
        "\n",
        "* **Size:** The total number of items in the tensor, the product of the shape vector's elements.\n",
        "\n",
        "<div><br></div>\n",
        "\n",
        "*more resources:*\n",
        "- TensorFlow Core. [*Introduction to Tensors*](https://www.tensorflow.org/guide/tensor)\n",
        "\n",
        "- Dan Fleisch. 2011. [*What's a Tensor?*](https://youtu.be/f5liqUk0ZTw?si=eoUM7IJ8PbYyvK1I). YouTube."
      ],
      "metadata": {
        "id": "spoAPopNccWw"
      },
      "id": "spoAPopNccWw"
    },
    {
      "cell_type": "code",
      "source": [
        "# set up\n",
        "import tensorflow as tf\n",
        "import numpy as np\n",
        "import datetime as dt\n",
        "\n",
        "print(f\"Last run time: {dt.datetime.now()}\")"
      ],
      "metadata": {
        "id": "pyVkFd2Tma-7",
        "outputId": "5738d403-cd51-4670-d2c2-7beb638dae2b",
        "colab": {
          "base_uri": "https://localhost:8080/"
        }
      },
      "id": "pyVkFd2Tma-7",
      "execution_count": 1,
      "outputs": [
        {
          "output_type": "stream",
          "name": "stdout",
          "text": [
            "Last run time: 2024-01-02 09:14:48.325068\n"
          ]
        }
      ]
    },
    {
      "cell_type": "markdown",
      "source": [
        "### Scalar or rank-0 tensor\n",
        "A scalar contains a single value, and no \"axes\"."
      ],
      "metadata": {
        "id": "hmQJ6pmPlwXm"
      },
      "id": "hmQJ6pmPlwXm"
    },
    {
      "cell_type": "code",
      "source": [
        "scalar = tf.constant(4)\n",
        "print(f\"scalar is a rank-{tf.rank(scalar).numpy()} tensor\")\n",
        "\n",
        "# You can also you variable instead of constant\n",
        "# the difference is same as in math."
      ],
      "metadata": {
        "id": "ii6ExBLcmT_K",
        "outputId": "832396aa-64d7-4685-c544-c814f6a60178",
        "colab": {
          "base_uri": "https://localhost:8080/"
        }
      },
      "id": "ii6ExBLcmT_K",
      "execution_count": 4,
      "outputs": [
        {
          "output_type": "stream",
          "name": "stdout",
          "text": [
            "scalar is a rank-0 tensor\n"
          ]
        }
      ]
    },
    {
      "cell_type": "markdown",
      "source": [
        "![scalar](https://i.ibb.co/vQwMrQK/scalar.png)"
      ],
      "metadata": {
        "id": "s7-WxWIanMF7"
      },
      "id": "s7-WxWIanMF7"
    },
    {
      "cell_type": "markdown",
      "source": [
        "### Vector or rank-1 tensor\n",
        "Is like a list of values and has one axis."
      ],
      "metadata": {
        "id": "1PKWea4knoRQ"
      },
      "id": "1PKWea4knoRQ"
    },
    {
      "cell_type": "code",
      "source": [
        "vector = tf.constant([2.0, 3.0, 4.0])\n",
        "print(f\"vector is a rank-{tf.rank(vector).numpy()} tensor\")"
      ],
      "metadata": {
        "id": "Eq9mL3I_n26t",
        "outputId": "e2a76701-7bb8-42ca-ca00-1c7c7cb17b42",
        "colab": {
          "base_uri": "https://localhost:8080/"
        }
      },
      "id": "Eq9mL3I_n26t",
      "execution_count": 6,
      "outputs": [
        {
          "output_type": "stream",
          "name": "stdout",
          "text": [
            "vector is a rank-1 tensor\n"
          ]
        }
      ]
    },
    {
      "cell_type": "markdown",
      "source": [
        "![vector](https://i.ibb.co/9YWmdZw/vector.png)"
      ],
      "metadata": {
        "id": "HXjIK4GCoNEW"
      },
      "id": "HXjIK4GCoNEW"
    },
    {
      "cell_type": "markdown",
      "source": [
        "### Matrix or rank-2 tensor\n",
        "Has two axes"
      ],
      "metadata": {
        "id": "of8Uubq_oXgI"
      },
      "id": "of8Uubq_oXgI"
    },
    {
      "cell_type": "code",
      "source": [
        "matrix = tf.constant([[1, 2],\n",
        "                      [3, 4],\n",
        "                      [5, 6]])\n",
        "print(f\"matrix is a rank-{tf.rank(matrix).numpy()}\")"
      ],
      "metadata": {
        "id": "7kXu8m-DoWsj",
        "outputId": "114644d2-ffd1-4ee7-e201-0330174b53aa",
        "colab": {
          "base_uri": "https://localhost:8080/"
        }
      },
      "id": "7kXu8m-DoWsj",
      "execution_count": 7,
      "outputs": [
        {
          "output_type": "stream",
          "name": "stdout",
          "text": [
            "matrix is a rank-2\n"
          ]
        }
      ]
    },
    {
      "cell_type": "markdown",
      "source": [
        "![matrix](https://i.ibb.co/NLwfK1m/matrix.png)"
      ],
      "metadata": {
        "id": "B3upAnaio8Kc"
      },
      "id": "B3upAnaio8Kc"
    },
    {
      "cell_type": "markdown",
      "source": [
        "### Rank-3 tensor\n",
        "A tensor with three axes"
      ],
      "metadata": {
        "id": "dDfrSOKXpKN0"
      },
      "id": "dDfrSOKXpKN0"
    },
    {
      "cell_type": "code",
      "source": [
        "numbers = tf.constant([\n",
        "    [[0, 1, 3, 3, 4],\n",
        "     [5, 6, 7, 8, 9]],\n",
        "\n",
        "    [[10, 11, 12, 13, 14],\n",
        "     [15, 16, 17, 18, 19]],\n",
        "\n",
        "    [[20, 21, 22, 23, 24],\n",
        "     [25, 26, 27, 28, 29]]\n",
        "])\n",
        "\n",
        "print(f\"numbers is a rank-{tf.rank(numbers).numpy()} tensor\")"
      ],
      "metadata": {
        "id": "SiiYeFTwpU9_",
        "outputId": "dedd6ef7-207d-4bc4-86a3-656f387bc47a",
        "colab": {
          "base_uri": "https://localhost:8080/"
        }
      },
      "id": "SiiYeFTwpU9_",
      "execution_count": 9,
      "outputs": [
        {
          "output_type": "stream",
          "name": "stdout",
          "text": [
            "numbers is a rank-3 tensor\n"
          ]
        }
      ]
    },
    {
      "cell_type": "markdown",
      "source": [
        "There are many ways to visualize this tensor:\n",
        "<div align=\"left\">\n",
        "  <img width=\"180\" src=\"https://i.ibb.co/bdJ4Xyj/3-axis-numpy.png\">\n",
        "  <img width=\"188\" src=\"https://i.ibb.co/pxZFrM8/3-axis-front.png\">\n",
        "  <img width=\"120\" src=\"https://i.ibb.co/rxp1Gdm/3-axis-block.png\">\n",
        "</div>"
      ],
      "metadata": {
        "id": "1maQILysp8ux"
      },
      "id": "1maQILysp8ux"
    },
    {
      "cell_type": "markdown",
      "source": [
        "# Linear Algebra **Operations**"
      ],
      "metadata": {
        "id": "p_ZY2w3t0Yf8"
      },
      "id": "p_ZY2w3t0Yf8"
    },
    {
      "cell_type": "code",
      "source": [
        "# matrix multiplication in tf\n",
        "matrix_square = tf.matmul(matrix, tf.transpose(matrix))\n",
        "print(f\"Original matrix: \\n{matrix}\\nSquared one: \\n{matrix_square}\")"
      ],
      "metadata": {
        "id": "KIDYNU3i0dl2",
        "outputId": "d6e5f775-7b20-44d8-9f9a-0758c321c7fb",
        "colab": {
          "base_uri": "https://localhost:8080/"
        }
      },
      "id": "KIDYNU3i0dl2",
      "execution_count": null,
      "outputs": [
        {
          "output_type": "stream",
          "name": "stdout",
          "text": [
            "Original matrix: \n",
            "[[1 2]\n",
            " [3 4]\n",
            " [5 6]]\n",
            "Squared one: \n",
            "[[ 5 11 17]\n",
            " [11 25 39]\n",
            " [17 39 61]]\n"
          ]
        }
      ]
    },
    {
      "cell_type": "code",
      "source": [
        "# the dot product\n",
        "X = tf.constant([[1, 2], [1, 2], [1, 2]])\n",
        "Y = tf.constant([[4, 5, 6], [1, 2, 3]])\n",
        "tf.tensordot(X, Y, axes=1)"
      ],
      "metadata": {
        "id": "tMfVan9Q1jAw",
        "outputId": "e057e255-233a-494c-d1f1-bfd3c8273362",
        "colab": {
          "base_uri": "https://localhost:8080/"
        }
      },
      "id": "tMfVan9Q1jAw",
      "execution_count": null,
      "outputs": [
        {
          "output_type": "execute_result",
          "data": {
            "text/plain": [
              "<tf.Tensor: shape=(3, 3), dtype=int32, numpy=\n",
              "array([[ 6,  9, 12],\n",
              "       [ 6,  9, 12],\n",
              "       [ 6,  9, 12]], dtype=int32)>"
            ]
          },
          "metadata": {},
          "execution_count": 17
        }
      ]
    }
  ],
  "metadata": {
    "kernelspec": {
      "display_name": "Python 3",
      "language": "python",
      "name": "python3"
    },
    "language_info": {
      "codemirror_mode": {
        "name": "ipython",
        "version": 3
      },
      "file_extension": ".py",
      "mimetype": "text/x-python",
      "name": "python",
      "nbconvert_exporter": "python",
      "pygments_lexer": "ipython3",
      "version": "3.8.8"
    },
    "colab": {
      "provenance": [],
      "include_colab_link": true
    }
  },
  "nbformat": 4,
  "nbformat_minor": 5
}
