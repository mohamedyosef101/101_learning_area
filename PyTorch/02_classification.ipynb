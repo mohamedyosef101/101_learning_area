{
  "cells": [
    {
      "cell_type": "markdown",
      "metadata": {
        "id": "view-in-github",
        "colab_type": "text"
      },
      "source": [
        "<a href=\"https://colab.research.google.com/github/mohamedyosef101/101_learning_area/blob/area/PyTorch/02_classification.ipynb\" target=\"_parent\"><img src=\"https://colab.research.google.com/assets/colab-badge.svg\" alt=\"Open In Colab\"/></a>"
      ]
    },
    {
      "cell_type": "markdown",
      "source": [
        "# PyTorch Neural Network **Classification**\n"
      ],
      "metadata": {
        "id": "Z2filWx8ugYV"
      },
      "id": "Z2filWx8ugYV"
    },
    {
      "cell_type": "markdown",
      "source": [
        "#### Architecture of a classification neural network\n",
        "\n",
        "| **Hyperparameter** | **Binary Classification** | **Multiclass classification** |\n",
        "| --- | --- | --- |\n",
        "| **Input layer shape** (`in_features`) | Same as number of features | Same as binary classification |\n",
        "| **Hidden layer(s)** | Problem specific | Same as binary classification |\n",
        "| **Neurons per hidden layer** | Generally 10 to 512 | Same as binary classification |\n",
        "| **Output layer shape** (`out_features`) | 1 (one class or the other) | 1 per class |\n",
        "| **Hidden layer activation** | Usually [ReLU](https://pytorch.org/docs/stable/generated/torch.nn.ReLU.html#torch.nn.ReLU) but [can be many others](https://en.wikipedia.org/wiki/Activation_function#Table_of_activation_functions) | Same as binary classification |\n",
        "| **Output activation** | [Sigmoid](https://pytorch.org/docs/stable/generated/torch.sigmoid.html) | [Softmax](https://pytorch.org/docs/stable/generated/torch.nn.Softmax.html) |\n",
        "| **Loss function** | [Binary crossentropy](https://pytorch.org/docs/stable/generated/torch.nn.BCELoss.html) | [Cross entropy](https://pytorch.org/docs/stable/generated/torch.nn.CrossEntropyLoss.html) |\n",
        "| **Optimizer** | [SGD](https://pytorch.org/docs/stable/generated/torch.optim.SGD.html), [Adam](https://pytorch.org/docs/stable/generated/torch.optim.Adam.html), and [more](https://pytorch.org/docs/stable/optim.html) | Same as binary classification |\n"
      ],
      "metadata": {
        "id": "Q6DI3S_wwY23"
      },
      "id": "Q6DI3S_wwY23"
    },
    {
      "cell_type": "code",
      "source": [],
      "metadata": {
        "id": "j7SYULt_v5Ef"
      },
      "id": "j7SYULt_v5Ef",
      "execution_count": null,
      "outputs": []
    },
    {
      "cell_type": "markdown",
      "source": [
        "# **References**\n",
        "- Daniel Bourke. (2022). [*Zero to Mastery Learn PyTorch for Deep Learning*](https://www.learnpytorch.io/). **e-**book."
      ],
      "metadata": {
        "id": "4ehc3IdxvT4A"
      },
      "id": "4ehc3IdxvT4A"
    }
  ],
  "metadata": {
    "kernelspec": {
      "display_name": "Python 3",
      "language": "python",
      "name": "python3"
    },
    "language_info": {
      "codemirror_mode": {
        "name": "ipython",
        "version": 3
      },
      "file_extension": ".py",
      "mimetype": "text/x-python",
      "name": "python",
      "nbconvert_exporter": "python",
      "pygments_lexer": "ipython3",
      "version": "3.8.8"
    },
    "colab": {
      "provenance": [],
      "include_colab_link": true
    }
  },
  "nbformat": 4,
  "nbformat_minor": 5
}