{
  "cells": [
    {
      "cell_type": "markdown",
      "metadata": {
        "id": "view-in-github",
        "colab_type": "text"
      },
      "source": [
        "<a href=\"https://colab.research.google.com/github/mohamedyosef101/101_learning_area/blob/area/PyTorch/03_computer_vision_fashion_mnist.ipynb\" target=\"_parent\"><img src=\"https://colab.research.google.com/assets/colab-badge.svg\" alt=\"Open In Colab\"/></a>"
      ]
    },
    {
      "cell_type": "markdown",
      "source": [
        "# PyTorch **Computer Vision**"
      ],
      "metadata": {
        "id": "JLl9NTfAfTRJ"
      },
      "id": "JLl9NTfAfTRJ"
    },
    {
      "cell_type": "code",
      "source": [
        "import torch\n",
        "from torch import nn\n",
        "\n",
        "import torchvision\n",
        "from torchvision import datasets as ds\n",
        "from torchvision.transforms import ToTensor\n",
        "\n",
        "import matplotlib.pyplot as plt\n",
        "import seaborn as sns\n",
        "\n",
        "import os\n",
        "import datetime as dt\n",
        "\n",
        "print(f\"Notebook last run at {dt.datetime.now()}\")"
      ],
      "metadata": {
        "id": "V-ttu9DffyfF",
        "outputId": "546b52b9-2315-4e7a-9a98-b6dd0d4f1b43",
        "colab": {
          "base_uri": "https://localhost:8080/"
        }
      },
      "id": "V-ttu9DffyfF",
      "execution_count": 2,
      "outputs": [
        {
          "output_type": "stream",
          "name": "stdout",
          "text": [
            "Notebook last run at 2024-02-08 11:37:17.889111\n"
          ]
        }
      ]
    },
    {
      "cell_type": "code",
      "source": [
        "# Get the data\n",
        "\n",
        "train = ds.FashionMNIST(\n",
        "    root='data',\n",
        "    train=True,\n",
        "    download=True,\n",
        "    transform=ToTensor(),\n",
        "    target_transform=None\n",
        ")\n",
        "\n",
        "test = ds.FashionMNIST(\n",
        "    root='data',\n",
        "    train=False,\n",
        "    download=True,\n",
        "    transform=ToTensor()\n",
        ")"
      ],
      "metadata": {
        "id": "MqKloKMWgQP6"
      },
      "id": "MqKloKMWgQP6",
      "execution_count": null,
      "outputs": []
    },
    {
      "cell_type": "code",
      "source": [
        "# See first sample\n",
        "image, label = train[0]\n",
        "image.shape"
      ],
      "metadata": {
        "id": "4RURUboChY2-",
        "outputId": "9566bfb4-f1a7-48fc-99a4-49a1a03912a2",
        "colab": {
          "base_uri": "https://localhost:8080/"
        }
      },
      "id": "4RURUboChY2-",
      "execution_count": 5,
      "outputs": [
        {
          "output_type": "execute_result",
          "data": {
            "text/plain": [
              "torch.Size([1, 28, 28])"
            ]
          },
          "metadata": {},
          "execution_count": 5
        }
      ]
    },
    {
      "cell_type": "code",
      "source": [
        "# How many samples are there?\n",
        "\n",
        "len(train.data), len(train.targets), len(test.data), len(test.targets)"
      ],
      "metadata": {
        "id": "e6nOd9zxhyBv",
        "outputId": "9b99d5fb-96f3-4b7c-e6e2-fd947ca1acf1",
        "colab": {
          "base_uri": "https://localhost:8080/"
        }
      },
      "id": "e6nOd9zxhyBv",
      "execution_count": 6,
      "outputs": [
        {
          "output_type": "execute_result",
          "data": {
            "text/plain": [
              "(60000, 60000, 10000, 10000)"
            ]
          },
          "metadata": {},
          "execution_count": 6
        }
      ]
    },
    {
      "cell_type": "code",
      "source": [
        "# See classes\n",
        "classes = train.classes\n",
        "classes"
      ],
      "metadata": {
        "id": "yPIkF-NbiLD8",
        "outputId": "84693a96-29b6-483d-9bdf-74832fe76216",
        "colab": {
          "base_uri": "https://localhost:8080/"
        }
      },
      "id": "yPIkF-NbiLD8",
      "execution_count": 7,
      "outputs": [
        {
          "output_type": "execute_result",
          "data": {
            "text/plain": [
              "['T-shirt/top',\n",
              " 'Trouser',\n",
              " 'Pullover',\n",
              " 'Dress',\n",
              " 'Coat',\n",
              " 'Sandal',\n",
              " 'Shirt',\n",
              " 'Sneaker',\n",
              " 'Bag',\n",
              " 'Ankle boot']"
            ]
          },
          "metadata": {},
          "execution_count": 7
        }
      ]
    },
    {
      "cell_type": "code",
      "source": [
        "# visualize a data\n",
        "plt.imshow(image.squeeze(), cmap='gray')\n",
        "plt.title(classes[label])"
      ],
      "metadata": {
        "id": "dya9tF_aianA",
        "outputId": "7b1066e8-8aba-4f85-cb00-2d1e6f8f369e",
        "colab": {
          "base_uri": "https://localhost:8080/",
          "height": 470
        }
      },
      "id": "dya9tF_aianA",
      "execution_count": 9,
      "outputs": [
        {
          "output_type": "execute_result",
          "data": {
            "text/plain": [
              "Text(0.5, 1.0, 'Ankle boot')"
            ]
          },
          "metadata": {},
          "execution_count": 9
        },
        {
          "output_type": "display_data",
          "data": {
            "text/plain": [
              "<Figure size 640x480 with 1 Axes>"
            ],
            "image/png": "[encoded data removed]"
          },
          "metadata": {}
        }
      ]
    },
    {
      "cell_type": "markdown",
      "source": [
        "# Prepare **DataLoader**\n"
      ],
      "metadata": {
        "id": "CGwbXzzGj0Xx"
      },
      "id": "CGwbXzzGj0Xx"
    },
    {
      "cell_type": "code",
      "source": [
        "from torch.utils.data import DataLoader as dl\n",
        "\n",
        "batch_size = 32\n",
        "\n",
        "# Turn datasets into iterables (batches)\n",
        "train_dataloader = dl(train,\n",
        "                      batch_size=batch_size,\n",
        "                      shuffle=True)\n",
        "\n",
        "test_dataloader = dl(test,\n",
        "                     batch_size=batch_size,\n",
        "                     shuffle=False)"
      ],
      "metadata": {
        "id": "hYTefjlkkPfw"
      },
      "id": "hYTefjlkkPfw",
      "execution_count": null,
      "outputs": []
    }
  ],
  "metadata": {
    "kernelspec": {
      "display_name": "Python 3",
      "language": "python",
      "name": "python3"
    },
    "language_info": {
      "codemirror_mode": {
        "name": "ipython",
        "version": 3
      },
      "file_extension": ".py",
      "mimetype": "text/x-python",
      "name": "python",
      "nbconvert_exporter": "python",
      "pygments_lexer": "ipython3",
      "version": "3.8.8"
    },
    "colab": {
      "provenance": [],
      "include_colab_link": true
    }
  },
  "nbformat": 4,
  "nbformat_minor": 5
}
