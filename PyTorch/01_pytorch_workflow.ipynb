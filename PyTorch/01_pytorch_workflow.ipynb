{
  "cells": [
    {
      "cell_type": "markdown",
      "metadata": {
        "id": "view-in-github",
        "colab_type": "text"
      },
      "source": [
        "<a href=\"https://colab.research.google.com/github/mohamedyosef101/101_learning_area/blob/area/PyTorch/01_pytorch_workflow.ipynb\" target=\"_parent\"><img src=\"https://colab.research.google.com/assets/colab-badge.svg\" alt=\"Open In Colab\"/></a>"
      ]
    },
    {
      "cell_type": "markdown",
      "source": [
        "# PyTorch **Workflow** 101\n",
        "Machine learning is a game of two parts:\n",
        "* **Get data** into numberical representation, and\n",
        "* **Build a model** to learn patterns in that numerical representation*.\n",
        "\n",
        "<div><br></div>\n",
        "\n",
        "Resources:\n",
        "\n",
        "* Daniel Bourke. (2022). [*PyTorch workflow fundamentals*](https://www.learnpytorch.io/01_pytorch_workflow/). Notebook.\n",
        "\n"
      ],
      "metadata": {
        "id": "UZcxfAcKhwPH"
      },
      "id": "UZcxfAcKhwPH"
    },
    {
      "cell_type": "code",
      "source": [
        "import torch\n",
        "from torch import nn\n",
        "import datetime as dt\n",
        "\n",
        "print(f\"Last notebook run by Mohamed at {dt.datetime.now()}\")"
      ],
      "metadata": {
        "id": "-jq6knJpj3Wj",
        "outputId": "667253fb-1339-435d-ba5a-4de2ba22c982",
        "colab": {
          "base_uri": "https://localhost:8080/"
        }
      },
      "id": "-jq6knJpj3Wj",
      "execution_count": 1,
      "outputs": [
        {
          "output_type": "stream",
          "name": "stdout",
          "text": [
            "Last notebook run by Mohamed at 2024-01-20 15:55:10.755939\n"
          ]
        }
      ]
    },
    {
      "cell_type": "markdown",
      "source": [
        "# Step 1. **Data preparation**\n"
      ],
      "metadata": {
        "id": "K6X9srYooi-i"
      },
      "id": "K6X9srYooi-i"
    },
    {
      "cell_type": "markdown",
      "source": [
        "* **Prepare your data**: This involves collecting, cleaning, and formatting your data in a way that PyTorch can understand. This may include tasks like handling missing values, scaling features, and converting text data to numerical representations.\n",
        "\n",
        "* **Load the data**: Once your data is ready, you'll need to load it into PyTorch using datasets and dataloaders. These tools help manage your data efficiently and feed it to your model in batches during training."
      ],
      "metadata": {
        "id": "UogmVCn_qJli"
      },
      "id": "UogmVCn_qJli"
    },
    {
      "cell_type": "markdown",
      "source": [
        "# Step 2. **Model Building**\n"
      ],
      "metadata": {
        "id": "oGimFOGyqLX-"
      },
      "id": "oGimFOGyqLX-"
    },
    {
      "cell_type": "markdown",
      "source": [
        "* **Define your model architecture**: Choose the type of neural network architecture you want to build. PyTorch provides various building blocks like linear layers, convolutional layers, and recurrent layers to construct your model.\n",
        "\n",
        "* **Implement the model in PyTorch**: Use PyTorch modules and functions to define your model's structure and operations. PyTorch is known for its flexibility and allows for both imperative and functional programming styles."
      ],
      "metadata": {
        "id": "w3VD1bN7qczl"
      },
      "id": "w3VD1bN7qczl"
    },
    {
      "cell_type": "markdown",
      "source": [
        "# Step 3. **Training** (*fitting*)"
      ],
      "metadata": {
        "id": "U6oMeDFSqeKN"
      },
      "id": "U6oMeDFSqeKN"
    },
    {
      "cell_type": "markdown",
      "source": [
        "* **Loss function**: Design a loss function that measures the difference between your model's predictions and the actual targets. Common loss functions include cross-entropy for classification and mean squared error for regression.\n",
        "\n",
        "* **Optimizer**: Choose an optimization algorithm like Stochastic Gradient Descent (SGD) or Adam to update your model's weights and improve its performance over time.\n",
        "\n",
        "* **Training loop**: This is the core of model training. You iterate through batches of data, pass them through your model, calculate the loss, backpropagate the gradients, and update the model's weights using the optimizer. This process repeats for a set number of training epochs."
      ],
      "metadata": {
        "id": "jyMhZIhnqqML"
      },
      "id": "jyMhZIhnqqML"
    },
    {
      "cell_type": "markdown",
      "source": [
        "# Step 4. **Evaluation and Testing**"
      ],
      "metadata": {
        "id": "fvhs98VQq3Pe"
      },
      "id": "fvhs98VQq3Pe"
    },
    {
      "cell_type": "markdown",
      "source": [
        "* **Evaluate your model**: Use a separate test dataset to assess your model's performance on unseen data. This helps measure its generalization ability and avoid overfitting to the training data.\n",
        "\n",
        "* **Fine-tuning and hyperparameter optimization**: Based on your evaluation results, you may need to refine your model architecture, loss function, optimizer, or hyperparameters to improve its performance."
      ],
      "metadata": {
        "id": "gtEs9cyXq_A2"
      },
      "id": "gtEs9cyXq_A2"
    },
    {
      "cell_type": "markdown",
      "source": [
        "# Step 5. **Deployment and Inference**"
      ],
      "metadata": {
        "id": "zUEAjIGzrIsx"
      },
      "id": "zUEAjIGzrIsx"
    },
    {
      "cell_type": "markdown",
      "source": [
        "* **Saving and loading**: Once your model is trained, you can save its state for future use. This allows you to deploy your model for inference on new data without needing to retrain it.\n",
        "* **Inference**: Apply your trained model to make predictions on new data. This could involve tasks like image classification, sentiment analysis, or generating text."
      ],
      "metadata": {
        "id": "5jgEVl96rPo0"
      },
      "id": "5jgEVl96rPo0"
    }
  ],
  "metadata": {
    "kernelspec": {
      "display_name": "Python 3",
      "language": "python",
      "name": "python3"
    },
    "language_info": {
      "codemirror_mode": {
        "name": "ipython",
        "version": 3
      },
      "file_extension": ".py",
      "mimetype": "text/x-python",
      "name": "python",
      "nbconvert_exporter": "python",
      "pygments_lexer": "ipython3",
      "version": "3.8.8"
    },
    "colab": {
      "provenance": [],
      "include_colab_link": true
    }
  },
  "nbformat": 4,
  "nbformat_minor": 5
}