{
  "cells": [
    {
      "cell_type": "markdown",
      "metadata": {
        "id": "view-in-github",
        "colab_type": "text"
      },
      "source": [
        "<a href=\"https://colab.research.google.com/github/mohamedyosef101/101_learning_area/blob/area/PyTorch/03_RNN.ipynb\" target=\"_parent\"><img src=\"https://colab.research.google.com/assets/colab-badge.svg\" alt=\"Open In Colab\"/></a>"
      ]
    },
    {
      "cell_type": "markdown",
      "source": [
        "# **Recurrent** Neural Networks"
      ],
      "metadata": {
        "id": "4jo4Du7hDWF3"
      },
      "id": "4jo4Du7hDWF3"
    },
    {
      "cell_type": "markdown",
      "source": [
        "Recurrent neural networks (RNNs) are a type of artificial neural network architecture designed to **handle sequential data**, where the order of elements matters.\n",
        "\n",
        "Unlike traditional neural networks that process individual inputs independently, **RNNs have an internal \"memory\"** that allows them to remember information from previous inputs and use it to influence their predictions for the current input."
      ],
      "metadata": {
        "id": "813yRJTYGCnr"
      },
      "id": "813yRJTYGCnr"
    },
    {
      "cell_type": "code",
      "source": [
        "import torch\n",
        "from torch import nn\n",
        "import torch.nn.functional as F\n",
        "import torch.optim as optim\n",
        "\n",
        "import torchvision\n",
        "import torchvision.transforms as transforms\n",
        "from torch.utils.data import DataLoader as dl\n",
        "\n",
        "import os\n",
        "import numpy as np\n",
        "import matplotlib.pyplot as plt\n",
        "import seaborn as sns\n",
        "import random\n",
        "\n",
        "device = torch.device('cuda' if torch.cuda.is_available() else 'cpu')\n",
        "print('Device available now:', device)"
      ],
      "metadata": {
        "id": "9h6Dtby6DdSN",
        "outputId": "486dbd79-3491-452f-bfc1-e68c8115949d",
        "colab": {
          "base_uri": "https://localhost:8080/"
        }
      },
      "id": "9h6Dtby6DdSN",
      "execution_count": 1,
      "outputs": [
        {
          "output_type": "stream",
          "name": "stdout",
          "text": [
            "Device available now: cpu\n"
          ]
        }
      ]
    },
    {
      "cell_type": "markdown",
      "source": [
        "# Step 1. Get the data"
      ],
      "metadata": {
        "id": "6rD4ik0jHiPI"
      },
      "id": "6rD4ik0jHiPI"
    },
    {
      "cell_type": "markdown",
      "source": [
        "Using `ToTensor`, *will make you able to normalize, perform data augmenatation, etc.*"
      ],
      "metadata": {
        "id": "tng6PvkRH8a8"
      },
      "id": "tng6PvkRH8a8"
    },
    {
      "cell_type": "code",
      "source": [
        "# hide the output\n",
        "%%capture\n",
        "\n",
        "# set the transform to -> ToTensor\n",
        "transform = transforms.Compose([transforms.ToTensor()])\n",
        "\n",
        "# Downlaod data\n",
        "train = torchvision.datasets.MNIST('data', train=True,\n",
        "                                   download=True, transform=transform)\n",
        "test = torchvision.datasets.MNIST('data', train=False,\n",
        "                                  download=True, transform=transform)"
      ],
      "metadata": {
        "id": "ks2NjiEHHma-"
      },
      "id": "ks2NjiEHHma-",
      "execution_count": 2,
      "outputs": []
    },
    {
      "cell_type": "code",
      "source": [
        "# Data Loader to select a batch from it\n",
        "train_loader = dl(train, batch_size=64)\n",
        "test_loader = dl(test, batch_size=64)"
      ],
      "metadata": {
        "id": "nR4MtTsC1tcy"
      },
      "id": "nR4MtTsC1tcy",
      "execution_count": 3,
      "outputs": []
    },
    {
      "cell_type": "markdown",
      "source": [
        "# Step 2. Vanilla RNN"
      ],
      "metadata": {
        "id": "XdJpdWRKJHVm"
      },
      "id": "XdJpdWRKJHVm"
    },
    {
      "cell_type": "markdown",
      "source": [
        "A **pro tip** I took from [Andrada](https://www.kaggle.com/andradaolteanu) is to use print, *as many times as you can*, because it helps you understand what is happening."
      ],
      "metadata": {
        "id": "gyTY7Hv83rOW"
      },
      "id": "gyTY7Hv83rOW"
    },
    {
      "cell_type": "code",
      "source": [
        "class VanillaRNN(nn.Module):\n",
        "  def __init__(self, batch_size, input_size, hidden_size, output_size):\n",
        "    super(VanillaRNN, self).__init__()\n",
        "\n",
        "    # RNN layer\n",
        "    self.rnn = nn.RNN(input_size, hidden_size)\n",
        "\n",
        "    # Fully connected layer\n",
        "    self.fc = nn.Linear(hidden_size, output_size)\n",
        "\n",
        "  def forward(self, images, prints=False):\n",
        "    if prints: print('Original Images Shape:', images.shape)\n",
        "\n",
        "    # data augmentations\n",
        "    images = images.permute(1, 0, 2)\n",
        "    if prints: print('Permuted Images Shape', images.shape)\n",
        "\n",
        "    # initalize hidden state with zeros\n",
        "    hidden_state = torch.zeros(1, batch_size, hidden_size)\n",
        "    if prints: print('Initial hidden state shape:', hidden_state.shape, '\\n')\n",
        "\n",
        "    # Creating RNN\n",
        "    hidden_outputs, hidden_state = self.rnn(images, hidden_state)\n",
        "\n",
        "    # Log probabilities\n",
        "    out = self.fc(hidden_state)\n",
        "\n",
        "    if prints:\n",
        "      print('----hidden outputs shape:', hidden_outputs.shape, '\\n' +\n",
        "            '----final hidden state:', hidden_state.shape, '\\n' +\n",
        "            '----out shape:', out.shape, '\\n')\n",
        "\n",
        "    # Reshape out\n",
        "    out = out.view(-1, output_size)\n",
        "    if prints: print('Out Final Shape:', out.shape)\n",
        "\n",
        "    return out"
      ],
      "metadata": {
        "id": "Hr-svq8DJL3f"
      },
      "id": "Hr-svq8DJL3f",
      "execution_count": 4,
      "outputs": []
    },
    {
      "cell_type": "code",
      "source": [
        "# Statics\n",
        "batch_size = 64\n",
        "input_size = 28\n",
        "hidden_size = 150\n",
        "output_size = 10"
      ],
      "metadata": {
        "id": "3QEVd5u4NGNM"
      },
      "id": "3QEVd5u4NGNM",
      "execution_count": 5,
      "outputs": []
    },
    {
      "cell_type": "code",
      "source": [
        "# take a sample\n",
        "\n",
        "images_example, labels_example = next(iter(train_loader))\n",
        "print('original image shape:', images_example.shape)\n",
        "\n",
        "# Reshape\n",
        "images_example = images_example.view(-1, 28, 28)\n",
        "print('changed images shape:', images_example.shape, '\\n' +\n",
        "      'labels shape:', labels_example.shape, '\\n')"
      ],
      "metadata": {
        "id": "p2VyROyDNTL-",
        "outputId": "a231a60e-b7d0-4706-aaa5-64d038966bbc",
        "colab": {
          "base_uri": "https://localhost:8080/"
        }
      },
      "id": "p2VyROyDNTL-",
      "execution_count": 6,
      "outputs": [
        {
          "output_type": "stream",
          "name": "stdout",
          "text": [
            "original image shape: torch.Size([64, 1, 28, 28])\n",
            "changed images shape: torch.Size([64, 28, 28]) \n",
            "labels shape: torch.Size([64]) \n",
            "\n"
          ]
        }
      ]
    },
    {
      "cell_type": "code",
      "source": [
        "# Creating a small model\n",
        "model_example = VanillaRNN(batch_size, input_size,\n",
        "                           hidden_size, output_size)\n",
        "out = model_example(images_example, prints=True)"
      ],
      "metadata": {
        "id": "JgdKOj8J5yAB",
        "outputId": "7a20f722-92df-4c25-86bc-dae486073300",
        "colab": {
          "base_uri": "https://localhost:8080/"
        }
      },
      "id": "JgdKOj8J5yAB",
      "execution_count": 7,
      "outputs": [
        {
          "output_type": "stream",
          "name": "stdout",
          "text": [
            "Original Images Shape: torch.Size([64, 28, 28])\n",
            "Permuted Images Shape torch.Size([28, 64, 28])\n",
            "Initial hidden state shape: torch.Size([1, 64, 150]) \n",
            "\n",
            "----hidden outputs shape: torch.Size([28, 64, 150]) \n",
            "----final hidden state: torch.Size([1, 64, 150]) \n",
            "----out shape: torch.Size([1, 64, 10]) \n",
            "\n",
            "Out Final Shape: torch.Size([64, 10])\n"
          ]
        }
      ]
    },
    {
      "cell_type": "code",
      "source": [
        "# Understand Model Parameters\n",
        "params = list(model_example.parameters())\n",
        "print(f'There are {len(params)} parameters')\n",
        "print('Parameters 0 - U:', params[0].shape, '\\n' +\n",
        "      'Parameters 1 - W:', params[1].shape, '\\n' +\n",
        "      'Parameters 2 - Bias:', params[2].shape, '\\n' +\n",
        "      'Parameters 3 - Bias:', params[3].shape, '\\n' +\n",
        "      'Parameters 4 - Forward weights:', params[4].shape, '\\n' +\n",
        "      'Parameters 5 - Predictions:', params[5].shape, '\\n')"
      ],
      "metadata": {
        "id": "w0AMtqB09lEg",
        "outputId": "952db194-262f-488a-9801-8a3a105d347f",
        "colab": {
          "base_uri": "https://localhost:8080/"
        }
      },
      "id": "w0AMtqB09lEg",
      "execution_count": 8,
      "outputs": [
        {
          "output_type": "stream",
          "name": "stdout",
          "text": [
            "There are 6 parameters\n",
            "Parameters 0 - U: torch.Size([150, 28]) \n",
            "Parameters 1 - W: torch.Size([150, 150]) \n",
            "Parameters 2 - Bias: torch.Size([150]) \n",
            "Parameters 3 - Bias: torch.Size([150]) \n",
            "Parameters 4 - Forward weights: torch.Size([10, 150]) \n",
            "Parameters 5 - Predictions: torch.Size([10]) \n",
            "\n"
          ]
        }
      ]
    },
    {
      "cell_type": "markdown",
      "source": [
        "## **Pre**defined functions"
      ],
      "metadata": {
        "id": "fUzrEY83s_cY"
      },
      "id": "fUzrEY83s_cY"
    },
    {
      "cell_type": "code",
      "source": [
        "def get_accuracy(out, actual_labels, batchSize):\n",
        "  preds = out.max(dim=1)[1]\n",
        "  correct = (preds == actual_labels).sum().item()\n",
        "  acc = correct/batch_size\n",
        "  return acc"
      ],
      "metadata": {
        "id": "_2fv7byFtDFD"
      },
      "id": "_2fv7byFtDFD",
      "execution_count": 13,
      "outputs": []
    },
    {
      "cell_type": "code",
      "source": [
        "def train_network(model, train_data, test_data,\n",
        "                  batchSize=64, num_epochs=1, learning_rate=0.001):\n",
        "  print('Get data read...')\n",
        "\n",
        "  train_loader = dl(dataset=train_data, batch_size=batchSize,\n",
        "                    shuffle=True, drop_last=True)\n",
        "  test_loader = dl(dataset=test_data, batch_size=batchSize,\n",
        "                   shuffle=True, drop_last=True)\n",
        "\n",
        "  criterion = nn.CrossEntropyLoss()\n",
        "  optimizer = optim.Adam(model.parameters(), lr=learning_rate)\n",
        "\n",
        "  print('Training started...')\n",
        "  for epoch in range(num_epochs):\n",
        "\n",
        "    train_loss = 0\n",
        "    train_acc = 0\n",
        "\n",
        "    model.train()\n",
        "\n",
        "    for i, (images, labels) in enumerate(train_loader):\n",
        "\n",
        "      images = images.view(-1, 28, 28)\n",
        "      out = model(images)\n",
        "\n",
        "      optimizer.zero_grad()\n",
        "\n",
        "      loss = criterion(out, labels)\n",
        "      loss.backward()\n",
        "      optimizer.step()\n",
        "\n",
        "      train_loss += loss.item()\n",
        "      train_acc += get_accuracy(out, labels, batchSize)\n",
        "\n",
        "    print(f'TRAIN | Epoch: {epoch+1}/{num_epochs} | ' +\n",
        "          f'Loss: {train_loss/i:.2f} | Accuracy: {train_acc/i:.2f}')\n",
        "\n",
        "  ### ===== TESTING ====== ###\n",
        "  print('Testing Started...')\n",
        "\n",
        "  test_acc = 0\n",
        "  model.eval()\n",
        "\n",
        "  for i, (images, labels) in enumerate(test_loader):\n",
        "    images = images.view(-1, 28, 28)\n",
        "    out = model(images)\n",
        "    test_acc += get_accuracy(out, labels, batchSize)\n",
        "\n",
        "  print(f'TEST | Average Accuracy per {i} Loaders: {test_acc/i:.3f}')"
      ],
      "metadata": {
        "id": "u92eb40GtozE"
      },
      "id": "u92eb40GtozE",
      "execution_count": 14,
      "outputs": []
    },
    {
      "cell_type": "markdown",
      "source": [
        "## Training ..."
      ],
      "metadata": {
        "id": "fH7kLu2txkQb"
      },
      "id": "fH7kLu2txkQb"
    },
    {
      "cell_type": "code",
      "source": [
        "# statics\n",
        "batch_size = 64\n",
        "input_size = 28\n",
        "hidden_size = 150\n",
        "output_size = 10\n",
        "\n",
        "# instantiate the model\n",
        "vanilla_rnn = VanillaRNN(batch_size, input_size, hidden_size, output_size)\n",
        "\n",
        "# train\n",
        "train_network(vanilla_rnn, train, test, num_epochs=10)"
      ],
      "metadata": {
        "id": "3Gr1MoedxnOV",
        "outputId": "0b52e6b7-352f-427a-b7be-7e8ad83774d3",
        "colab": {
          "base_uri": "https://localhost:8080/"
        }
      },
      "id": "3Gr1MoedxnOV",
      "execution_count": 15,
      "outputs": [
        {
          "output_type": "stream",
          "name": "stdout",
          "text": [
            "Get data read...\n",
            "Training started...\n",
            "TRAIN | Epoch: 1/10 | Loss: 0.72 | Accuracy: 0.77\n",
            "TRAIN | Epoch: 2/10 | Loss: 0.30 | Accuracy: 0.91\n",
            "TRAIN | Epoch: 3/10 | Loss: 0.22 | Accuracy: 0.94\n",
            "TRAIN | Epoch: 4/10 | Loss: 0.18 | Accuracy: 0.95\n",
            "TRAIN | Epoch: 5/10 | Loss: 0.16 | Accuracy: 0.96\n",
            "TRAIN | Epoch: 6/10 | Loss: 0.15 | Accuracy: 0.96\n",
            "TRAIN | Epoch: 7/10 | Loss: 0.14 | Accuracy: 0.96\n",
            "TRAIN | Epoch: 8/10 | Loss: 0.13 | Accuracy: 0.97\n",
            "TRAIN | Epoch: 9/10 | Loss: 0.12 | Accuracy: 0.97\n",
            "TRAIN | Epoch: 10/10 | Loss: 0.11 | Accuracy: 0.97\n",
            "Testing Started...\n",
            "TEST | Average Accuracy per 155 Loaders: 0.965\n"
          ]
        }
      ]
    },
    {
      "cell_type": "markdown",
      "source": [
        "# Multilayer RNNs"
      ],
      "metadata": {
        "id": "LbkBLOWsya38"
      },
      "id": "LbkBLOWsya38"
    },
    {
      "cell_type": "code",
      "source": [
        "class MultilayerRNN(nn.Module):\n",
        "  def __init__(self, input_size, hidden_size, layer_size,\n",
        "               output_size, relu=True):\n",
        "    super(MultilayerRNN, self).__init__()\n",
        "    self.input_size, self.hidden_size = input_size, hidden_size\n",
        "    self.output_size = output_size\n",
        "    self.layer_size = layer_size\n",
        "\n",
        "    if relu:\n",
        "      self.rnn = nn.RNN(input_size, hidden_size, layer_size,\n",
        "                        batch_first=True, nonlinearity='relu')\n",
        "    else:\n",
        "      self.rnn = nn.RNN(input_size, hidden_size, layer_size,\n",
        "                        batch_first=True, nonlinearity='tanh')\n",
        "\n",
        "    self.fc = nn.Linear(hidden_size, output_size)\n",
        "\n",
        "  def forward(self, images, prints=False):\n",
        "    if prints: print('image shape', images.detach().numpy().shape)\n",
        "\n",
        "    hidden_state = torch.zeros(self.layer_size, images.size(0), hidden_size)\n",
        "    hidden_state = hidden_state.requires_grad_()\n",
        "    if prints: print('Hidden state shape',\n",
        "                     hidden_state.detach().numpy().shape)\n",
        "\n",
        "    # compute RNN\n",
        "    output, last_hidden_state = self.rnn(images, hidden_state.detach())\n",
        "    if prints: print('RNN output shape', output.detach().numpy().shape, '\\n' +\n",
        "                     'RNN last hidden state shape',\n",
        "                     last_hidden_state.detach().numpy().shape)\n",
        "\n",
        "    # compute Fully connected layer\n",
        "    output = self.fc(output[:, -1, :])\n",
        "    if prints: print('Fully connected shape:', output.detach().numpy().shape)\n",
        "\n",
        "    return output\n",
        ""
      ],
      "metadata": {
        "id": "2KuNUcChzT_2"
      },
      "id": "2KuNUcChzT_2",
      "execution_count": 23,
      "outputs": []
    },
    {
      "cell_type": "code",
      "source": [
        "# === statics ========\n",
        "batch_size = 64\n",
        "input_size = 28\n",
        "hidden_size = 100      # neurons\n",
        "layer_size = 2         # layers\n",
        "output_size = 10\n",
        "# ================="
      ],
      "metadata": {
        "id": "q2kFx_aN2jPM"
      },
      "id": "q2kFx_aN2jPM",
      "execution_count": 24,
      "outputs": []
    },
    {
      "cell_type": "code",
      "source": [
        "multilayer_rnn = MultilayerRNN(input_size, hidden_size, layer_size,\n",
        "                               output_size, relu=False)\n",
        "\n",
        "# === TRAIN ====\n",
        "train_network(multilayer_rnn, train, test, num_epochs=10)"
      ],
      "metadata": {
        "id": "ZmxlmNql2ukz",
        "outputId": "8b7db9cc-9d91-4886-9306-dd8e4df916d7",
        "colab": {
          "base_uri": "https://localhost:8080/"
        }
      },
      "id": "ZmxlmNql2ukz",
      "execution_count": 25,
      "outputs": [
        {
          "output_type": "stream",
          "name": "stdout",
          "text": [
            "Get data read...\n",
            "Training started...\n",
            "TRAIN | Epoch: 1/10 | Loss: 0.70 | Accuracy: 0.77\n",
            "TRAIN | Epoch: 2/10 | Loss: 0.29 | Accuracy: 0.92\n",
            "TRAIN | Epoch: 3/10 | Loss: 0.21 | Accuracy: 0.94\n",
            "TRAIN | Epoch: 4/10 | Loss: 0.18 | Accuracy: 0.95\n",
            "TRAIN | Epoch: 5/10 | Loss: 0.16 | Accuracy: 0.96\n",
            "TRAIN | Epoch: 6/10 | Loss: 0.14 | Accuracy: 0.96\n",
            "TRAIN | Epoch: 7/10 | Loss: 0.14 | Accuracy: 0.96\n",
            "TRAIN | Epoch: 8/10 | Loss: 0.15 | Accuracy: 0.96\n",
            "TRAIN | Epoch: 9/10 | Loss: 0.14 | Accuracy: 0.96\n",
            "TRAIN | Epoch: 10/10 | Loss: 0.11 | Accuracy: 0.97\n",
            "Testing Started...\n",
            "TEST | Average Accuracy per 155 Loaders: 0.965\n"
          ]
        }
      ]
    },
    {
      "cell_type": "markdown",
      "source": [
        "# LSTM"
      ],
      "metadata": {
        "id": "J2ipqHCyydui"
      },
      "id": "J2ipqHCyydui"
    },
    {
      "cell_type": "code",
      "source": [
        "class LSTM(nn.Module):\n",
        "  def __init__(self, input_size, hidden_size, layer_size,\n",
        "               output_size, bidirectional=True):\n",
        "    super(LSTM, self).__init__()\n",
        "    self.input_size, self.hidden_size = input_size, hidden_size\n",
        "    self.layer_size, self.output_size = layer_size, output_size\n",
        "    self.bidirectional = bidirectional\n",
        "\n",
        "    # 1. LSTM model\n",
        "    self.lstm = nn.LSTM(input_size, hidden_size, layer_size,\n",
        "                        batch_first=True, bidirectional=bidirectional)\n",
        "\n",
        "    # 2. Fully connected layer\n",
        "    if bidirectional: self.layer = nn.Linear(hidden_size*2, output_size)\n",
        "    else: self.layer = nn.Linear(hidden_size, output_size)\n",
        "\n",
        "  def forward(self, images):\n",
        "    if self.bidirectional:\n",
        "      hidden_state = torch.zeros(self.layer_size*2,\n",
        "                                 images.size(0), self.hidden_size)\n",
        "      cell_state = torch.zeros(self.layer_size*2,\n",
        "                               images.size(0), self.hidden_size)\n",
        "\n",
        "    else:\n",
        "      hidden_state = torch.zeros(self.layer_size,\n",
        "                                 images.size(0), self.hidden_size)\n",
        "      cell_state = torch.zeros(self.layer_size,\n",
        "                               images.size(0), self.hidden_size)\n",
        "\n",
        "    # LSTM\n",
        "    output, (last_hidden_state, last_cell_state) = self.lstm(images,\n",
        "                                                             (hidden_state,\n",
        "                                                              cell_state))\n",
        "    # RESHAPE\n",
        "    output = output[:, -1, :]\n",
        "\n",
        "    # fully connected\n",
        "    output = self.layer(output)\n",
        "\n",
        "    return output"
      ],
      "metadata": {
        "id": "QBQkaP6q4lXU"
      },
      "id": "QBQkaP6q4lXU",
      "execution_count": 26,
      "outputs": []
    },
    {
      "cell_type": "code",
      "source": [
        "# ==== STATICS ====\n",
        "batch_size = 64\n",
        "input_size = 28\n",
        "hidden_size = 100\n",
        "layer_size = 2\n",
        "output_size = 10\n",
        "\n",
        "# Instantiate the model\n",
        "# We'll use TANH as our activation function\n",
        "lstm_rnn = LSTM(input_size, hidden_size, layer_size, output_size)\n",
        "\n",
        "# ==== TRAIN ====\n",
        "train_network(lstm_rnn, train, test, num_epochs=10)"
      ],
      "metadata": {
        "id": "ueWzxJKS7Vo5",
        "outputId": "b8b3f904-a26b-4aa1-828b-91cab470da64",
        "colab": {
          "base_uri": "https://localhost:8080/"
        }
      },
      "id": "ueWzxJKS7Vo5",
      "execution_count": 27,
      "outputs": [
        {
          "output_type": "stream",
          "name": "stdout",
          "text": [
            "Get data read...\n",
            "Training started...\n",
            "TRAIN | Epoch: 1/10 | Loss: 0.44 | Accuracy: 0.86\n",
            "TRAIN | Epoch: 2/10 | Loss: 0.13 | Accuracy: 0.96\n",
            "TRAIN | Epoch: 3/10 | Loss: 0.09 | Accuracy: 0.97\n",
            "TRAIN | Epoch: 4/10 | Loss: 0.07 | Accuracy: 0.98\n",
            "TRAIN | Epoch: 5/10 | Loss: 0.06 | Accuracy: 0.98\n",
            "TRAIN | Epoch: 6/10 | Loss: 0.05 | Accuracy: 0.99\n",
            "TRAIN | Epoch: 7/10 | Loss: 0.04 | Accuracy: 0.99\n",
            "TRAIN | Epoch: 8/10 | Loss: 0.04 | Accuracy: 0.99\n",
            "TRAIN | Epoch: 9/10 | Loss: 0.03 | Accuracy: 0.99\n",
            "TRAIN | Epoch: 10/10 | Loss: 0.03 | Accuracy: 0.99\n",
            "Testing Started...\n",
            "TEST | Average Accuracy per 155 Loaders: 0.993\n"
          ]
        }
      ]
    },
    {
      "cell_type": "markdown",
      "source": [
        "# Confusion Matrix\n"
      ],
      "metadata": {
        "id": "3iOKebl47pmZ"
      },
      "id": "3iOKebl47pmZ"
    },
    {
      "cell_type": "code",
      "source": [
        "import sklearn.metrics as metrics\n",
        "\n",
        "def confusion_matrix(model, test_data):\n",
        "  torch.no_grad() # disable gradient computing\n",
        "  model.eval()\n",
        "\n",
        "  preds, actuals = [], []\n",
        "\n",
        "  for image, label in test:\n",
        "    image = image.view(-1, 28, 28)\n",
        "    out = model(image)\n",
        "\n",
        "    pred = torch.max(out, dim=1)[1].item()\n",
        "    preds.append(pred)\n",
        "    actuals.append(label)\n",
        "\n",
        "  return metrics.confusion_matrix(preds, actuals)\n",
        "\n",
        "\n",
        "# get the plot\n",
        "sns.heatmap(confusion_matrix(lstm_rnn, test), linewidths=0.1,\n",
        "            annot=True, fmt='g', cmap='Greens')\n",
        "plt.title('Confusion Matrix')"
      ],
      "metadata": {
        "id": "pD28d2ow7txE",
        "outputId": "fade9ee7-6cb0-4afc-a1ec-97004f0f826d",
        "colab": {
          "base_uri": "https://localhost:8080/",
          "height": 469
        }
      },
      "id": "pD28d2ow7txE",
      "execution_count": 29,
      "outputs": [
        {
          "output_type": "execute_result",
          "data": {
            "text/plain": [
              "Text(0.5, 1.0, 'Confusion Matrix')"
            ]
          },
          "metadata": {},
          "execution_count": 29
        },
        {
          "output_type": "display_data",
          "data": {
            "text/plain": [
              "<Figure size 640x480 with 2 Axes>"
            ],
            "image/png": "[encoded data removed]"
          },
          "metadata": {}
        }
      ]
    },
    {
      "cell_type": "markdown",
      "source": [
        "# **References:**\n",
        "* Misra Turp. 2022. [Basics of Recurrent Neural Networks](https://youtu.be/M6-AIQnB4_Q?si=TrBq7jsb6L8OMnFV), [LSTM & GRUs](https://youtu.be/E4c_bom0_6Y?si=qGaQ3FYlpRphiIan). YouTube.\n",
        "* Andrada. 2020. [PyTorch RNNs and LSTM](https://www.kaggle.com/code/andradaolteanu/pytorch-rnns-and-lstms-explained-acc-0-99). Kaggle."
      ],
      "metadata": {
        "id": "9TMFudbEEj5F"
      },
      "id": "9TMFudbEEj5F"
    }
  ],
  "metadata": {
    "kernelspec": {
      "display_name": "Python 3",
      "language": "python",
      "name": "python3"
    },
    "language_info": {
      "codemirror_mode": {
        "name": "ipython",
        "version": 3
      },
      "file_extension": ".py",
      "mimetype": "text/x-python",
      "name": "python",
      "nbconvert_exporter": "python",
      "pygments_lexer": "ipython3",
      "version": "3.8.8"
    },
    "colab": {
      "provenance": [],
      "include_colab_link": true
    }
  },
  "nbformat": 4,
  "nbformat_minor": 5
}