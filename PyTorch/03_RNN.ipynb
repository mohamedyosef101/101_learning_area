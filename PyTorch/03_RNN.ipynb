{
  "cells": [
    {
      "cell_type": "markdown",
      "metadata": {
        "id": "view-in-github",
        "colab_type": "text"
      },
      "source": [
        "<a href=\"https://colab.research.google.com/github/mohamedyosef101/101_learning_area/blob/area/PyTorch/RNN.ipynb\" target=\"_parent\"><img src=\"https://colab.research.google.com/assets/colab-badge.svg\" alt=\"Open In Colab\"/></a>"
      ]
    },
    {
      "cell_type": "markdown",
      "source": [
        "# **Recurrent** Neural Networks"
      ],
      "metadata": {
        "id": "4jo4Du7hDWF3"
      },
      "id": "4jo4Du7hDWF3"
    },
    {
      "cell_type": "markdown",
      "source": [
        "Recurrent neural networks (RNNs) are a type of artificial neural network architecture designed to **handle sequential data**, where the order of elements matters.\n",
        "\n",
        "Unlike traditional neural networks that process individual inputs independently, **RNNs have an internal \"memory\"** that allows them to remember information from previous inputs and use it to influence their predictions for the current input."
      ],
      "metadata": {
        "id": "813yRJTYGCnr"
      },
      "id": "813yRJTYGCnr"
    },
    {
      "cell_type": "code",
      "source": [
        "import torch\n",
        "from torch import nn\n",
        "import torch.nn.functional as F\n",
        "import torch.optim as optim\n",
        "\n",
        "import torchvision\n",
        "import torchvision.transforms as transforms\n",
        "from torch.utils.data import DataLoader as dl\n",
        "\n",
        "import os\n",
        "import numpy as np\n",
        "import matplotlib.pyplot as plt\n",
        "import seaborn as sns\n",
        "import random\n",
        "\n",
        "device = torch.device('cuda' if torch.cuda.is_available() else 'cpu')\n",
        "print('Device available now:', device)"
      ],
      "metadata": {
        "id": "9h6Dtby6DdSN",
        "outputId": "5f22a298-0386-40db-d3f6-235cdb24e471",
        "colab": {
          "base_uri": "https://localhost:8080/"
        }
      },
      "id": "9h6Dtby6DdSN",
      "execution_count": 1,
      "outputs": [
        {
          "output_type": "stream",
          "name": "stdout",
          "text": [
            "Device available now: cpu\n"
          ]
        }
      ]
    },
    {
      "cell_type": "markdown",
      "source": [
        "# Step 1. Get the data"
      ],
      "metadata": {
        "id": "6rD4ik0jHiPI"
      },
      "id": "6rD4ik0jHiPI"
    },
    {
      "cell_type": "markdown",
      "source": [
        "Using `ToTensor`, *will make you able to normalize, perform data augmenatation, etc.*"
      ],
      "metadata": {
        "id": "tng6PvkRH8a8"
      },
      "id": "tng6PvkRH8a8"
    },
    {
      "cell_type": "code",
      "source": [
        "# hide the output\n",
        "%%capture\n",
        "\n",
        "# set the transform to -> ToTensor\n",
        "transform = transforms.Compose([transforms.ToTensor()])\n",
        "\n",
        "# Downlaod data\n",
        "train = torchvision.datasets.MNIST('data', train=True,\n",
        "                                   download=True, transform=transform)\n",
        "test = torchvision.datasets.MNIST('data', train=False,\n",
        "                                  download=True, transform=transform)"
      ],
      "metadata": {
        "id": "ks2NjiEHHma-"
      },
      "id": "ks2NjiEHHma-",
      "execution_count": 2,
      "outputs": []
    },
    {
      "cell_type": "code",
      "source": [
        "# Data Loader to select a batch from it\n",
        "train_loader = dl(train, batch_size=64)\n",
        "test_loader = dl(test, batch_size=64)"
      ],
      "metadata": {
        "id": "nR4MtTsC1tcy"
      },
      "id": "nR4MtTsC1tcy",
      "execution_count": 3,
      "outputs": []
    },
    {
      "cell_type": "markdown",
      "source": [
        "# Step 2. Vanilla RNN"
      ],
      "metadata": {
        "id": "XdJpdWRKJHVm"
      },
      "id": "XdJpdWRKJHVm"
    },
    {
      "cell_type": "markdown",
      "source": [
        "A **pro tip** I took from [Andrada](https://www.kaggle.com/andradaolteanu) is to use print, *as many times as you can*, because it helps you understand what is happening."
      ],
      "metadata": {
        "id": "gyTY7Hv83rOW"
      },
      "id": "gyTY7Hv83rOW"
    },
    {
      "cell_type": "code",
      "source": [
        "class VanillaRNN(nn.Module):\n",
        "  def __init__(self, batch_size, input_size, hidden_size, output_size):\n",
        "    super(VanillaRNN, self).__init__()\n",
        "\n",
        "    # RNN layer\n",
        "    self.rnn = nn.RNN(input_size, hidden_size)\n",
        "\n",
        "    # Fully connected layer\n",
        "    self.fc = nn.Linear(hidden_size, output_size)\n",
        "\n",
        "  def forward(self, images, prints=False):\n",
        "    if prints: print('Original Images Shape:', images.shape)\n",
        "\n",
        "    # data augmentations\n",
        "    images = images.permute(1, 0, 2)\n",
        "    if prints: print('Permuted Images Shape', images.shape)\n",
        "\n",
        "    # initalize hidden state with zeros\n",
        "    hidden_state = torch.zeros(1, batch_size, hidden_size)\n",
        "    if prints: print('Initial hidden state shape:', hidden_state.shape, '\\n')\n",
        "\n",
        "    # Creating RNN\n",
        "    hidden_outputs, hidden_state = self.rnn(images, hidden_state)\n",
        "\n",
        "    # Log probabilities\n",
        "    out = self.fc(hidden_state)\n",
        "\n",
        "    if prints:\n",
        "      print('----hidden outputs shape:', hidden_outputs.shape, '\\n' +\n",
        "            '----final hidden state:', hidden_state.shape, '\\n' +\n",
        "            '----out shape:', out.shape, '\\n')\n",
        "\n",
        "    # Reshape out\n",
        "    out = out.view(-1, output_size)\n",
        "    if prints: print('Out Final Shape:', out.shape)\n",
        "\n",
        "    return out"
      ],
      "metadata": {
        "id": "Hr-svq8DJL3f"
      },
      "id": "Hr-svq8DJL3f",
      "execution_count": 17,
      "outputs": []
    },
    {
      "cell_type": "code",
      "source": [
        "# Statics\n",
        "batch_size = 64\n",
        "input_size = 28\n",
        "hidden_size = 150\n",
        "output_size = 10"
      ],
      "metadata": {
        "id": "3QEVd5u4NGNM"
      },
      "id": "3QEVd5u4NGNM",
      "execution_count": 18,
      "outputs": []
    },
    {
      "cell_type": "code",
      "source": [
        "# take a sample\n",
        "\n",
        "images_example, labels_example = next(iter(train_loader))\n",
        "print('original image shape:', images_example.shape)\n",
        "\n",
        "# Reshape\n",
        "images_example = images_example.view(-1, 28, 28)\n",
        "print('changed images shape:', images_example.shape, '\\n' +\n",
        "      'labels shape:', labels_example.shape, '\\n')"
      ],
      "metadata": {
        "id": "p2VyROyDNTL-",
        "outputId": "3056daae-98d3-449b-f975-38c37a5c2785",
        "colab": {
          "base_uri": "https://localhost:8080/"
        }
      },
      "id": "p2VyROyDNTL-",
      "execution_count": 19,
      "outputs": [
        {
          "output_type": "stream",
          "name": "stdout",
          "text": [
            "original image shape: torch.Size([64, 1, 28, 28])\n",
            "changed images shape: torch.Size([64, 28, 28]) \n",
            "labels shape: torch.Size([64]) \n",
            "\n"
          ]
        }
      ]
    },
    {
      "cell_type": "code",
      "source": [
        "# Creating a small model\n",
        "model_example = VanillaRNN(batch_size, input_size,\n",
        "                           hidden_size, output_size)\n",
        "out = model_example(images_example, prints=True)"
      ],
      "metadata": {
        "id": "JgdKOj8J5yAB",
        "outputId": "1568ad43-cb05-4463-8029-e940ba57bfa8",
        "colab": {
          "base_uri": "https://localhost:8080/"
        }
      },
      "id": "JgdKOj8J5yAB",
      "execution_count": 20,
      "outputs": [
        {
          "output_type": "stream",
          "name": "stdout",
          "text": [
            "Original Images Shape: torch.Size([64, 28, 28])\n",
            "Permuted Images Shape torch.Size([28, 64, 28])\n",
            "Initial hidden state shape: torch.Size([1, 64, 150]) \n",
            "\n",
            "----hidden outputs shape: torch.Size([28, 64, 150]) \n",
            "----final hidden state: torch.Size([1, 64, 150]) \n",
            "----out shape: torch.Size([1, 64, 10]) \n",
            "\n",
            "Out Final Shape: torch.Size([64, 10])\n"
          ]
        }
      ]
    },
    {
      "cell_type": "code",
      "source": [
        "# Understand Model Parameters\n",
        "params = list(model_example.parameters())\n",
        "print(f'There are {len(params)} parameters')\n",
        "print('Parameters 0 - U:', params[0].shape, '\\n' +\n",
        "      'Parameters 1 - W:', params[1].shape, '\\n' +\n",
        "      'Parameters 2 - Bias:', params[2].shape, '\\n' +\n",
        "      'Parameters 3 - Bias:', params[3].shape, '\\n' +\n",
        "      'Parameters 4 - Forward weights:', params[4].shape, '\\n' +\n",
        "      'Parameters 5 - Predictions:', params[5].shape, '\\n')"
      ],
      "metadata": {
        "id": "w0AMtqB09lEg",
        "outputId": "f6ddce65-67b4-4d56-d873-f75c1080b8b4",
        "colab": {
          "base_uri": "https://localhost:8080/"
        }
      },
      "id": "w0AMtqB09lEg",
      "execution_count": 27,
      "outputs": [
        {
          "output_type": "stream",
          "name": "stdout",
          "text": [
            "There are 6 parameters\n",
            "Parameters 0 - U: torch.Size([150, 28]) \n",
            "Parameters 1 - W: torch.Size([150, 150]) \n",
            "Parameters 2 - Bias: torch.Size([150]) \n",
            "Parameters 3 - Bias: torch.Size([150]) \n",
            "Parameters 4 - Forward weights: torch.Size([10, 150]) \n",
            "Parameters 5 - Predictions: torch.Size([10]) \n",
            "\n"
          ]
        }
      ]
    },
    {
      "cell_type": "markdown",
      "source": [
        "# **References:**\n",
        "* Misra Turp. 2022. [Basics of Recurrent Neural Networks](https://youtu.be/M6-AIQnB4_Q?si=TrBq7jsb6L8OMnFV), [LSTM & GRUs](https://youtu.be/E4c_bom0_6Y?si=qGaQ3FYlpRphiIan). YouTube.\n",
        "* Andrada. 2020. [PyTorch RNNs and LSTM](https://www.kaggle.com/code/andradaolteanu/pytorch-rnns-and-lstms-explained-acc-0-99). Kaggle."
      ],
      "metadata": {
        "id": "9TMFudbEEj5F"
      },
      "id": "9TMFudbEEj5F"
    }
  ],
  "metadata": {
    "kernelspec": {
      "display_name": "Python 3",
      "language": "python",
      "name": "python3"
    },
    "language_info": {
      "codemirror_mode": {
        "name": "ipython",
        "version": 3
      },
      "file_extension": ".py",
      "mimetype": "text/x-python",
      "name": "python",
      "nbconvert_exporter": "python",
      "pygments_lexer": "ipython3",
      "version": "3.8.8"
    },
    "colab": {
      "provenance": [],
      "include_colab_link": true
    }
  },
  "nbformat": 4,
  "nbformat_minor": 5
}
