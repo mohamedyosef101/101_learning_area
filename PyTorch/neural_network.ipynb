{
  "cells": [
    {
      "cell_type": "markdown",
      "metadata": {
        "id": "view-in-github",
        "colab_type": "text"
      },
      "source": [
        "<a href=\"https://colab.research.google.com/github/mohamedyosef101/101_learning_area/blob/area/PyTorch/neural_network.ipynb\" target=\"_parent\"><img src=\"https://colab.research.google.com/assets/colab-badge.svg\" alt=\"Open In Colab\"/></a>"
      ]
    },
    {
      "cell_type": "markdown",
      "source": [
        "# **N**eural **N**etworks\n",
        "<img src=\"https://pytorch.org/tutorials/_images/mnist.png\" alt=\"netwrok that classifies digit images\">"
      ],
      "metadata": {
        "id": "gjL2_9Qf1HXQ"
      },
      "id": "gjL2_9Qf1HXQ"
    },
    {
      "cell_type": "code",
      "source": [
        "import torch\n",
        "import torch.nn as nn\n",
        "import torch.nn.functional as f\n",
        "\n",
        "\n",
        "class Net(nn.Module):\n",
        "  def __init__(self):\n",
        "\n",
        "    # Kernal\n",
        "    self.conv1 = nn.Conv2d(1, 6, 5)\n",
        "    self.conv2 = nn.Conv2d(6, 16, 5)\n",
        "\n",
        "    # an affine operation\n",
        "    self.fc1 = nn.Linear(16*5*5, 120)\n",
        "    self.fc2 = nn.Linear(120, 84)\n",
        "    self.fc3 = nn.Linear(84, 10)\n",
        "\n",
        "  def forward(self, x):\n",
        "    # max pooling\n",
        "    x = f.max_pool2d(f.relu(self.conv1(x)), (2, 2))\n",
        "    # if the size is a square\n",
        "    x = f.max_pool2d(f.relu(self.conv1(x)), 2)\n",
        "\n",
        "    # flatten all dimensions except the batch dimension\n",
        "    x = torch.flatten(x, 1)\n",
        "\n",
        "    x = f.relu(self.fc1(x))\n",
        "    x = f.relu(self.fc2(x))\n",
        "    x = self.fc3(x)\n",
        "    return x\n",
        "\n",
        "\n",
        "# test it out\n",
        "net = Net()\n",
        "print(net)"
      ],
      "metadata": {
        "id": "ZfET1sNg2Fla"
      },
      "id": "ZfET1sNg2Fla",
      "execution_count": null,
      "outputs": []
    }
  ],
  "metadata": {
    "kernelspec": {
      "display_name": "Python 3",
      "language": "python",
      "name": "python3"
    },
    "language_info": {
      "codemirror_mode": {
        "name": "ipython",
        "version": 3
      },
      "file_extension": ".py",
      "mimetype": "text/x-python",
      "name": "python",
      "nbconvert_exporter": "python",
      "pygments_lexer": "ipython3",
      "version": "3.8.8"
    },
    "colab": {
      "provenance": [],
      "include_colab_link": true
    }
  },
  "nbformat": 4,
  "nbformat_minor": 5
}