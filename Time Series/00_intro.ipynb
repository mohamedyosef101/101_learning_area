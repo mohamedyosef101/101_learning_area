{
  "cells": [
    {
      "cell_type": "markdown",
      "source": [
        "# Dates & Times"
      ],
      "metadata": {
        "id": "_cFE23Q0RzvA"
      },
      "id": "_cFE23Q0RzvA"
    },
    {
      "cell_type": "code",
      "source": [
        "import pandas as pd\n",
        "import numpy as np"
      ],
      "metadata": {
        "id": "6NAEiXJ0R4A1"
      },
      "id": "6NAEiXJ0R4A1",
      "execution_count": 1,
      "outputs": []
    },
    {
      "cell_type": "code",
      "source": [
        "# Range\n",
        "pd.date_range('1 Mar 2023', periods = 3, freq='Y').strftime('%d %b %y')\n",
        "# or '%d-%m-%y'"
      ],
      "metadata": {
        "id": "yeFU6Mx4R797",
        "outputId": "ec7babf0-1c3c-4dc1-970f-6094f5b1ca7c",
        "colab": {
          "base_uri": "https://localhost:8080/"
        }
      },
      "id": "yeFU6Mx4R797",
      "execution_count": 12,
      "outputs": [
        {
          "output_type": "execute_result",
          "data": {
            "text/plain": [
              "Index(['31 Dec 23', '31 Dec 24', '31 Dec 25'], dtype='object')"
            ]
          },
          "metadata": {},
          "execution_count": 12
        }
      ]
    },
    {
      "cell_type": "code",
      "source": [
        "pd.Timestamp(year=2024, month=3, day=16)"
      ],
      "metadata": {
        "id": "JatJYKBuSYYA",
        "outputId": "d1fd4867-a5ca-4d63-a54d-4bfe74568cec",
        "colab": {
          "base_uri": "https://localhost:8080/"
        }
      },
      "id": "JatJYKBuSYYA",
      "execution_count": 13,
      "outputs": [
        {
          "output_type": "execute_result",
          "data": {
            "text/plain": [
              "Timestamp('2024-03-16 00:00:00')"
            ]
          },
          "metadata": {},
          "execution_count": 13
        }
      ]
    },
    {
      "cell_type": "code",
      "source": [
        "pd.Period('2024-03-01', freq='Q')"
      ],
      "metadata": {
        "id": "06ZV4R4nVfvm",
        "outputId": "1b7423f8-f05a-4237-b774-1ae8c64fc1ae",
        "colab": {
          "base_uri": "https://localhost:8080/"
        }
      },
      "id": "06ZV4R4nVfvm",
      "execution_count": 15,
      "outputs": [
        {
          "output_type": "execute_result",
          "data": {
            "text/plain": [
              "Period('2024Q1', 'Q-DEC')"
            ]
          },
          "metadata": {},
          "execution_count": 15
        }
      ]
    }
  ],
  "metadata": {
    "kernelspec": {
      "display_name": "Python 3",
      "language": "python",
      "name": "python3"
    },
    "language_info": {
      "codemirror_mode": {
        "name": "ipython",
        "version": 3
      },
      "file_extension": ".py",
      "mimetype": "text/x-python",
      "name": "python",
      "nbconvert_exporter": "python",
      "pygments_lexer": "ipython3",
      "version": "3.8.8"
    },
    "colab": {
      "provenance": []
    }
  },
  "nbformat": 4,
  "nbformat_minor": 5
}