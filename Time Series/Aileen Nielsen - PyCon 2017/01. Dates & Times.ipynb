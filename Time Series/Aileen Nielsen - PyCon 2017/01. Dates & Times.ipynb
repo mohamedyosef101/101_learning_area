{
  "cells": [
    {
      "cell_type": "markdown",
      "metadata": {
        "id": "view-in-github",
        "colab_type": "text"
      },
      "source": [
        "<a href=\"https://colab.research.google.com/github/mohamedyosef101/101_learning_area/blob/area/Time%20Series/Aileen%20Nielsen%20-%20PyCon%202017/01.%20Dates%20%26%20Times.ipynb\" target=\"_parent\"><img src=\"https://colab.research.google.com/assets/colab-badge.svg\" alt=\"Open In Colab\"/></a>"
      ]
    },
    {
      "cell_type": "code",
      "execution_count": 2,
      "metadata": {
        "id": "skxHoQWDpBUu"
      },
      "outputs": [],
      "source": [
        "import pandas as pd\n",
        "import numpy as np"
      ]
    },
    {
      "cell_type": "markdown",
      "metadata": {
        "id": "R5KnSGt3pBUx"
      },
      "source": [
        "# Generate series of times"
      ]
    },
    {
      "cell_type": "code",
      "execution_count": 3,
      "metadata": {
        "id": "vND7q_i5pBUz",
        "outputId": "3c549848-b6f7-4f7f-9c17-d04d82d38325",
        "colab": {
          "base_uri": "https://localhost:8080/"
        }
      },
      "outputs": [
        {
          "output_type": "execute_result",
          "data": {
            "text/plain": [
              "DatetimeIndex(['2016-07-31 10:15:00', '2016-08-31 10:15:00',\n",
              "               '2016-09-30 10:15:00', '2016-10-31 10:15:00',\n",
              "               '2016-11-30 10:15:00', '2016-12-31 10:15:00',\n",
              "               '2017-01-31 10:15:00', '2017-02-28 10:15:00',\n",
              "               '2017-03-31 10:15:00', '2017-04-30 10:15:00'],\n",
              "              dtype='datetime64[ns]', freq='M')"
            ]
          },
          "metadata": {},
          "execution_count": 3
        }
      ],
      "source": [
        "# specify with start date & number of periods\n",
        "rng = pd.date_range('2016 Jul 15 10:15', periods = 10, freq = 'M')\n",
        "rng"
      ]
    },
    {
      "cell_type": "markdown",
      "metadata": {
        "collapsed": true,
        "id": "3i6PL_lQpBU1"
      },
      "source": [
        "### let's explore some of the other options for date_range\n",
        "http://pandas.pydata.org/pandas-docs/stable/generated/pandas.date_range.html\n",
        "\n",
        "In particular, let's take a look at 'normalize' and 'end'"
      ]
    },
    {
      "cell_type": "code",
      "execution_count": 4,
      "metadata": {
        "id": "b2xCu6Q5pBU1",
        "outputId": "6ca2e514-5ba6-4606-c18a-bc600db3e4c1",
        "colab": {
          "base_uri": "https://localhost:8080/"
        }
      },
      "outputs": [
        {
          "output_type": "execute_result",
          "data": {
            "text/plain": [
              "DatetimeIndex(['2016-07-31', '2016-08-31', '2016-09-30', '2016-10-31',\n",
              "               '2016-11-30', '2016-12-31', '2017-01-31', '2017-02-28',\n",
              "               '2017-03-31', '2017-04-30'],\n",
              "              dtype='datetime64[ns]', freq='M')"
            ]
          },
          "metadata": {},
          "execution_count": 4
        }
      ],
      "source": [
        "rng = pd.date_range('2016 Jul 15', periods = 10, freq = 'M')\n",
        "rng"
      ]
    },
    {
      "cell_type": "markdown",
      "metadata": {
        "id": "Z7e22o4ipBU2"
      },
      "source": [
        "### Which of these formats DON'T work?\n",
        "'2016 Jul 1', '7/1/2016', '1/7/2016', 'July 1, 2016', '2016-07-01'\n",
        "\n",
        "\n",
        "#### You'll want to try this with pd.to_datetime"
      ]
    },
    {
      "cell_type": "code",
      "execution_count": null,
      "metadata": {
        "collapsed": true,
        "id": "aoXY573XpBU2"
      },
      "outputs": [],
      "source": [
        "# You may encounter the need to deal with European style formatted dates.\n",
        "# In that case, you'll want to use pd.to_datetime"
      ]
    },
    {
      "cell_type": "code",
      "execution_count": null,
      "metadata": {
        "collapsed": true,
        "id": "kzX1nKd6pBU3"
      },
      "outputs": [],
      "source": [
        "# See the behavior with the following examples. Do you see the pattern?"
      ]
    },
    {
      "cell_type": "code",
      "execution_count": 5,
      "metadata": {
        "collapsed": true,
        "id": "qCbrhW19pBU3",
        "outputId": "4ab0e429-c2ef-4288-e469-9c6da4c7d3f7",
        "colab": {
          "base_uri": "https://localhost:8080/"
        }
      },
      "outputs": [
        {
          "output_type": "execute_result",
          "data": {
            "text/plain": [
              "False"
            ]
          },
          "metadata": {},
          "execution_count": 5
        }
      ],
      "source": [
        "pd.to_datetime('01/07/2016', dayfirst = True) == pd.to_datetime('01/07/2016', dayfirst = False)"
      ]
    },
    {
      "cell_type": "code",
      "execution_count": 6,
      "metadata": {
        "collapsed": true,
        "id": "7RSz_XjwpBU4",
        "outputId": "102e79c9-8a4b-49d6-8948-3fd551e5bc9e",
        "colab": {
          "base_uri": "https://localhost:8080/"
        }
      },
      "outputs": [
        {
          "output_type": "execute_result",
          "data": {
            "text/plain": [
              "False"
            ]
          },
          "metadata": {},
          "execution_count": 6
        }
      ],
      "source": [
        "pd.to_datetime('01-07-2016', dayfirst = True) == pd.to_datetime('01-07-2016', dayfirst = False)"
      ]
    },
    {
      "cell_type": "code",
      "execution_count": 7,
      "metadata": {
        "collapsed": true,
        "id": "-Uc28EYjpBU4",
        "outputId": "172f497d-86df-407c-98f9-e0e65f8a8a87",
        "colab": {
          "base_uri": "https://localhost:8080/"
        }
      },
      "outputs": [
        {
          "output_type": "execute_result",
          "data": {
            "text/plain": [
              "True"
            ]
          },
          "metadata": {},
          "execution_count": 7
        }
      ],
      "source": [
        "pd.to_datetime('2016-01-07', dayfirst = True) == pd.to_datetime('2016-01-07', dayfirst = False)"
      ]
    },
    {
      "cell_type": "markdown",
      "metadata": {
        "id": "y3gsc4aypBU5"
      },
      "source": [
        "# Timestamps\n",
        "A specific point in time."
      ]
    },
    {
      "cell_type": "code",
      "execution_count": 8,
      "metadata": {
        "id": "J7LmtglwpBU5",
        "outputId": "dda5c4e1-6d88-4b29-c6e5-772e4520d8e5",
        "colab": {
          "base_uri": "https://localhost:8080/"
        }
      },
      "outputs": [
        {
          "output_type": "execute_result",
          "data": {
            "text/plain": [
              "Timestamp('2016-07-10 00:00:00')"
            ]
          },
          "metadata": {},
          "execution_count": 8
        }
      ],
      "source": [
        "# add increasing detail\n",
        "pd.Timestamp('2016-07-10')"
      ]
    },
    {
      "cell_type": "code",
      "execution_count": 9,
      "metadata": {
        "id": "85avh2eRpBU5",
        "outputId": "071cc9ca-1ea5-4b3d-fcfe-e65fa1b6c506",
        "colab": {
          "base_uri": "https://localhost:8080/"
        }
      },
      "outputs": [
        {
          "output_type": "execute_result",
          "data": {
            "text/plain": [
              "Timestamp('2016-07-10 10:15:15')"
            ]
          },
          "metadata": {},
          "execution_count": 9
        }
      ],
      "source": [
        "pd.Timestamp('2016-07-10 10:15:15')"
      ]
    },
    {
      "cell_type": "markdown",
      "metadata": {
        "id": "aJl3r_l6pBU5"
      },
      "source": [
        "### How much detail can you add?"
      ]
    },
    {
      "cell_type": "markdown",
      "metadata": {
        "id": "ygpiQ9IrpBU5"
      },
      "source": [
        "### What are some properties of time stamps?\n",
        "Hint: http://pandas.pydata.org/pandas-docs/stable/timeseries.html#time-date-components"
      ]
    },
    {
      "cell_type": "code",
      "execution_count": 11,
      "metadata": {
        "collapsed": true,
        "id": "y-MaqVK-pBU6"
      },
      "outputs": [],
      "source": [
        "t = pd.Timestamp('2016-07-10 10:15:15')"
      ]
    },
    {
      "cell_type": "code",
      "execution_count": 12,
      "metadata": {
        "id": "8JcJJUefpBU6",
        "outputId": "cb887c62-1ecb-4028-fafa-efb1a8e6f785",
        "colab": {
          "base_uri": "https://localhost:8080/"
        }
      },
      "outputs": [
        {
          "output_type": "execute_result",
          "data": {
            "text/plain": [
              "3"
            ]
          },
          "metadata": {},
          "execution_count": 12
        }
      ],
      "source": [
        "t.quarter"
      ]
    },
    {
      "cell_type": "code",
      "execution_count": 13,
      "metadata": {
        "id": "qOyUQkcjpBU6",
        "outputId": "2fc73ef4-7943-4144-c09a-cc8f4db18537",
        "colab": {
          "base_uri": "https://localhost:8080/"
        }
      },
      "outputs": [
        {
          "output_type": "execute_result",
          "data": {
            "text/plain": [
              "Timestamp('2016-07-10 20:00:00')"
            ]
          },
          "metadata": {},
          "execution_count": 13
        }
      ],
      "source": [
        "t = pd.Timestamp('2016-07-10 8 pm')\n",
        "t"
      ]
    },
    {
      "cell_type": "markdown",
      "metadata": {
        "id": "MYtb1OYcpBU6"
      },
      "source": [
        "### How are time stamps lacking?"
      ]
    },
    {
      "cell_type": "code",
      "execution_count": null,
      "metadata": {
        "collapsed": true,
        "id": "0cxTEIWRpBU6"
      },
      "outputs": [],
      "source": []
    },
    {
      "cell_type": "markdown",
      "metadata": {
        "id": "2lL54qEApBU6"
      },
      "source": [
        "# Time offsets"
      ]
    },
    {
      "cell_type": "code",
      "execution_count": 14,
      "metadata": {
        "id": "yicKZKq5pBU7",
        "outputId": "c653d650-a047-4293-c80d-c3d62531ce8b",
        "colab": {
          "base_uri": "https://localhost:8080/"
        }
      },
      "outputs": [
        {
          "output_type": "execute_result",
          "data": {
            "text/plain": [
              "Timedelta('1 days 00:00:00.000001')"
            ]
          },
          "metadata": {},
          "execution_count": 14
        }
      ],
      "source": [
        "pd.Timedelta('1 day 1us') # 'us' micro-second"
      ]
    },
    {
      "cell_type": "code",
      "execution_count": 16,
      "metadata": {
        "id": "sch4VHNzpBU7",
        "outputId": "31afe433-5940-4a81-ea37-4de7e4634cbd",
        "colab": {
          "base_uri": "https://localhost:8080/"
        }
      },
      "outputs": [
        {
          "output_type": "execute_result",
          "data": {
            "text/plain": [
              "Timestamp('2016-07-01 09:30:00')"
            ]
          },
          "metadata": {},
          "execution_count": 16
        }
      ],
      "source": [
        "pd.Timestamp('2016-07-01 8:00') + pd.Timedelta('1.5 hours')"
      ]
    },
    {
      "cell_type": "code",
      "execution_count": 17,
      "metadata": {
        "id": "tmWNKtDspBU7",
        "outputId": "9e85a58c-2b02-4b18-e34d-1ca36dd08cab",
        "colab": {
          "base_uri": "https://localhost:8080/"
        }
      },
      "outputs": [
        {
          "output_type": "execute_result",
          "data": {
            "text/plain": [
              "Timedelta('0 days 00:00:00.000000015')"
            ]
          },
          "metadata": {},
          "execution_count": 17
        }
      ],
      "source": [
        "pd.Timedelta('15ns') #bug? what kind of bug?"
      ]
    },
    {
      "cell_type": "code",
      "execution_count": 18,
      "metadata": {
        "id": "ayj8t4NxpBU7",
        "outputId": "a3dba21f-4e40-4867-e6a2-b8b10594af88",
        "colab": {
          "base_uri": "https://localhost:8080/"
        }
      },
      "outputs": [
        {
          "output_type": "execute_result",
          "data": {
            "text/plain": [
              "DatetimeIndex(['2016-08-01', '2016-09-01', '2016-10-01', '2016-11-01',\n",
              "               '2016-12-01', '2017-01-01', '2017-02-01', '2017-03-01',\n",
              "               '2017-04-01', '2017-05-01'],\n",
              "              dtype='datetime64[ns]', freq=None)"
            ]
          },
          "metadata": {},
          "execution_count": 18
        }
      ],
      "source": [
        "rng + pd.Timedelta('1day')"
      ]
    },
    {
      "cell_type": "markdown",
      "metadata": {
        "id": "0-uwGHOMpBU7"
      },
      "source": [
        "# Time spans"
      ]
    },
    {
      "cell_type": "code",
      "execution_count": 19,
      "metadata": {
        "id": "rL8Ea96ipBU7",
        "outputId": "604c7433-8e53-4c1d-8751-eea621659e18",
        "colab": {
          "base_uri": "https://localhost:8080/"
        }
      },
      "outputs": [
        {
          "output_type": "execute_result",
          "data": {
            "text/plain": [
              "True"
            ]
          },
          "metadata": {},
          "execution_count": 19
        }
      ],
      "source": [
        "p = pd.Period('2016-07')\n",
        "t = pd.Timestamp('2016-07-21')\n",
        "p.start_time < t and p.end_time > t"
      ]
    },
    {
      "cell_type": "code",
      "execution_count": 20,
      "metadata": {
        "id": "_Cez6ZcvpBU7",
        "outputId": "02da2e36-8954-4cc0-c483-c2552f0c49a5",
        "colab": {
          "base_uri": "https://localhost:8080/"
        }
      },
      "outputs": [
        {
          "output_type": "execute_result",
          "data": {
            "text/plain": [
              "PeriodIndex(['2016-01-01 12:00', '2016-01-01 13:00', '2016-01-01 14:00',\n",
              "             '2016-01-01 15:00', '2016-01-01 16:00', '2016-01-01 17:00',\n",
              "             '2016-01-01 18:00', '2016-01-01 19:00', '2016-01-01 20:00',\n",
              "             '2016-01-01 21:00'],\n",
              "            dtype='period[H]')"
            ]
          },
          "metadata": {},
          "execution_count": 20
        }
      ],
      "source": [
        "rng = pd.period_range('2016-01-01 12:15', freq = 'H', periods = 10)\n",
        "rng"
      ]
    },
    {
      "cell_type": "code",
      "execution_count": 21,
      "metadata": {
        "id": "QGzWwgC1pBU8",
        "outputId": "f33259e1-dd62-426f-e8ba-469dccd96293",
        "colab": {
          "base_uri": "https://localhost:8080/"
        }
      },
      "outputs": [
        {
          "output_type": "execute_result",
          "data": {
            "text/plain": [
              "PeriodIndex(['2016-01-01 12:15', '2016-01-01 13:15', '2016-01-01 14:15',\n",
              "             '2016-01-01 15:15', '2016-01-01 16:15', '2016-01-01 17:15',\n",
              "             '2016-01-01 18:15', '2016-01-01 19:15', '2016-01-01 20:15',\n",
              "             '2016-01-01 21:15'],\n",
              "            dtype='period[60T]')"
            ]
          },
          "metadata": {},
          "execution_count": 21
        }
      ],
      "source": [
        "rng = pd.period_range('2016-01-01 12:15', freq = '60T', periods = 10)\n",
        "# 60T: 60 minutes\n",
        "\n",
        "rng"
      ]
    },
    {
      "cell_type": "code",
      "execution_count": 22,
      "metadata": {
        "id": "JxKU7RkepBU8",
        "outputId": "1d8ef816-dc9b-4172-f358-27fa490965d3",
        "colab": {
          "base_uri": "https://localhost:8080/"
        }
      },
      "outputs": [
        {
          "output_type": "execute_result",
          "data": {
            "text/plain": [
              "PeriodIndex(['2016-01-01 12:00', '2016-01-01 13:00', '2016-01-01 14:00',\n",
              "             '2016-01-01 15:00', '2016-01-01 16:00', '2016-01-01 17:00',\n",
              "             '2016-01-01 18:00', '2016-01-01 19:00', '2016-01-01 20:00',\n",
              "             '2016-01-01 21:00'],\n",
              "            dtype='period[H]')"
            ]
          },
          "metadata": {},
          "execution_count": 22
        }
      ],
      "source": [
        "rng = pd.period_range('2016-01-01 12:15', freq = '1H', periods = 10)\n",
        "rng"
      ]
    },
    {
      "cell_type": "markdown",
      "metadata": {
        "id": "svB7dRDcpBU8"
      },
      "source": [
        "### How can you determine whether a timestamp falls within a given period?"
      ]
    },
    {
      "cell_type": "code",
      "execution_count": 24,
      "metadata": {
        "id": "s8dlJkIipBU8",
        "outputId": "21c88321-1c64-4218-a6b5-a432fd4b4875",
        "colab": {
          "base_uri": "https://localhost:8080/"
        }
      },
      "outputs": [
        {
          "output_type": "execute_result",
          "data": {
            "text/plain": [
              "Timestamp('2016-07-31 23:59:59.999999999')"
            ]
          },
          "metadata": {},
          "execution_count": 24
        }
      ],
      "source": [
        "p = pd.Period('2016-07')\n",
        "p.start_time\n",
        "p.end_time"
      ]
    },
    {
      "cell_type": "markdown",
      "metadata": {
        "id": "jp02cb13pBU8"
      },
      "source": [
        "### Try out some other functionality with different offset-aliases. Anything interesting?"
      ]
    },
    {
      "cell_type": "code",
      "execution_count": null,
      "metadata": {
        "collapsed": true,
        "id": "Gwt8Mi3hpBU8"
      },
      "outputs": [],
      "source": []
    },
    {
      "cell_type": "markdown",
      "metadata": {
        "id": "HhRn8u-QpBU9"
      },
      "source": [
        "### How can you make a pandas Time Series with these aliases?"
      ]
    },
    {
      "cell_type": "code",
      "execution_count": 25,
      "metadata": {
        "id": "iBQoDOxEpBU9"
      },
      "outputs": [],
      "source": [
        "num_periods = 40\n",
        "ts_pd = pd.Series(range(num_periods), pd.period_range('2016-07-01 11:15', freq = '60T', periods = num_periods))"
      ]
    },
    {
      "cell_type": "code",
      "execution_count": 26,
      "metadata": {
        "id": "FjNB5Q4CpBU9",
        "outputId": "7b376358-b4c8-47e2-f011-011e77a9ebe1",
        "colab": {
          "base_uri": "https://localhost:8080/"
        }
      },
      "outputs": [
        {
          "output_type": "execute_result",
          "data": {
            "text/plain": [
              "2016-07-01 11:15    0\n",
              "2016-07-01 12:15    1\n",
              "2016-07-01 13:15    2\n",
              "Freq: 60T, dtype: int64"
            ]
          },
          "metadata": {},
          "execution_count": 26
        }
      ],
      "source": [
        "ts_pd['2016-7-1 11':'2016-7-1 13']"
      ]
    },
    {
      "cell_type": "markdown",
      "metadata": {
        "id": "eYRwUJUKpBU9"
      },
      "source": [
        "### How can we index a time series with a date_range?"
      ]
    },
    {
      "cell_type": "code",
      "execution_count": 27,
      "metadata": {
        "collapsed": true,
        "id": "4SjDTuJ9pBVC"
      },
      "outputs": [],
      "source": [
        "num_periods = 40\n",
        "ts_dt = pd.Series(range(num_periods), pd.date_range('2016-07-01 11:15', freq = '60T', periods = num_periods))"
      ]
    },
    {
      "cell_type": "markdown",
      "metadata": {
        "id": "0wJTFFahpBVD"
      },
      "source": [
        "### What are the use cases for a series with a DateTimeIndex vs a PeriodIndex? Where will we see a difference?"
      ]
    },
    {
      "cell_type": "code",
      "execution_count": 28,
      "metadata": {
        "id": "fL_g1pfSpBVD",
        "outputId": "a78c30a5-b13e-435e-b0d4-9bc3f4b8f7f8",
        "colab": {
          "base_uri": "https://localhost:8080/"
        }
      },
      "outputs": [
        {
          "output_type": "execute_result",
          "data": {
            "text/plain": [
              "2016-07-01 11:15:00    0\n",
              "Freq: 60T, dtype: int64"
            ]
          },
          "metadata": {},
          "execution_count": 28
        }
      ],
      "source": [
        "ts_dt['2016-7-1 11']"
      ]
    },
    {
      "cell_type": "markdown",
      "metadata": {
        "id": "aLT7_FVQpBVD"
      },
      "source": [
        "### How can we convert between a DateTimeIndex and a PeriodIndex?"
      ]
    },
    {
      "cell_type": "code",
      "execution_count": 29,
      "metadata": {
        "id": "idNvSEjBpBVD",
        "outputId": "3d2c1d61-01da-48b0-c2bc-947265f4409d",
        "colab": {
          "base_uri": "https://localhost:8080/"
        }
      },
      "outputs": [
        {
          "output_type": "execute_result",
          "data": {
            "text/plain": [
              "2016-07-01 11:15:00     0\n",
              "2016-07-01 12:15:00     1\n",
              "2016-07-01 13:15:00     2\n",
              "2016-07-01 14:15:00     3\n",
              "2016-07-01 15:15:00     4\n",
              "2016-07-01 16:15:00     5\n",
              "2016-07-01 17:15:00     6\n",
              "2016-07-01 18:15:00     7\n",
              "2016-07-01 19:15:00     8\n",
              "2016-07-01 20:15:00     9\n",
              "2016-07-01 21:15:00    10\n",
              "2016-07-01 22:15:00    11\n",
              "2016-07-01 23:15:00    12\n",
              "2016-07-02 00:15:00    13\n",
              "2016-07-02 01:15:00    14\n",
              "2016-07-02 02:15:00    15\n",
              "2016-07-02 03:15:00    16\n",
              "2016-07-02 04:15:00    17\n",
              "2016-07-02 05:15:00    18\n",
              "2016-07-02 06:15:00    19\n",
              "2016-07-02 07:15:00    20\n",
              "2016-07-02 08:15:00    21\n",
              "2016-07-02 09:15:00    22\n",
              "2016-07-02 10:15:00    23\n",
              "2016-07-02 11:15:00    24\n",
              "2016-07-02 12:15:00    25\n",
              "2016-07-02 13:15:00    26\n",
              "2016-07-02 14:15:00    27\n",
              "2016-07-02 15:15:00    28\n",
              "2016-07-02 16:15:00    29\n",
              "2016-07-02 17:15:00    30\n",
              "2016-07-02 18:15:00    31\n",
              "2016-07-02 19:15:00    32\n",
              "2016-07-02 20:15:00    33\n",
              "2016-07-02 21:15:00    34\n",
              "2016-07-02 22:15:00    35\n",
              "2016-07-02 23:15:00    36\n",
              "2016-07-03 00:15:00    37\n",
              "2016-07-03 01:15:00    38\n",
              "2016-07-03 02:15:00    39\n",
              "Freq: H, dtype: int64"
            ]
          },
          "metadata": {},
          "execution_count": 29
        }
      ],
      "source": [
        "ts_dt.to_period()\n",
        "ts_pd.to_timestamp()"
      ]
    },
    {
      "cell_type": "markdown",
      "metadata": {
        "id": "n8inawdCpBVD"
      },
      "source": [
        "# Try\n",
        "\n",
        "(1) How can you create a pd.Timestamp with a European style formatted date string? hint: dayfirst flag\n",
        "\n",
        "(2) How can you generate string representation in a desired format from a pd.Timestamp?"
      ]
    },
    {
      "cell_type": "code",
      "execution_count": 30,
      "metadata": {
        "id": "ggY8PluMpBVE"
      },
      "outputs": [],
      "source": [
        "t1 = pd.to_datetime('2016-06-18 12:15pm', dayfirst = True).strftime(format = '%Y/%M/%D')\n",
        "\n",
        "t2 = pd.Timestamp('2016-06-18 12:15pm').strftime(format = '%Y/%M/%D')"
      ]
    }
  ],
  "metadata": {
    "kernelspec": {
      "display_name": "Python 3",
      "language": "python",
      "name": "python3"
    },
    "language_info": {
      "codemirror_mode": {
        "name": "ipython",
        "version": 3
      },
      "file_extension": ".py",
      "mimetype": "text/x-python",
      "name": "python",
      "nbconvert_exporter": "python",
      "pygments_lexer": "ipython3",
      "version": "3.5.2"
    },
    "colab": {
      "provenance": [],
      "include_colab_link": true
    }
  },
  "nbformat": 4,
  "nbformat_minor": 0
}