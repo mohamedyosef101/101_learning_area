{
  "cells": [
    {
      "cell_type": "code",
      "execution_count": 1,
      "metadata": {
        "collapsed": true,
        "id": "ZZoNeMX2tj-A"
      },
      "outputs": [],
      "source": [
        "import numpy as np\n",
        "import pandas as pd"
      ]
    },
    {
      "cell_type": "markdown",
      "metadata": {
        "id": "2nRNJvY8tj-C"
      },
      "source": [
        "# pandas Time zone information"
      ]
    },
    {
      "cell_type": "code",
      "execution_count": 4,
      "metadata": {
        "collapsed": true,
        "id": "-jNMY539tj-E",
        "outputId": "aa1cc4a9-622d-4ba2-957c-2b71b546c522",
        "colab": {
          "base_uri": "https://localhost:8080/"
        }
      },
      "outputs": [
        {
          "output_type": "stream",
          "name": "stdout",
          "text": [
            "None\n"
          ]
        }
      ],
      "source": [
        "rng = pd.date_range('3/6/2016 00:00', periods = 15, freq = 'd')\n",
        "print(rng.tz) # you don't care about time zone"
      ]
    },
    {
      "cell_type": "code",
      "source": [
        "rng"
      ],
      "metadata": {
        "id": "N5tYHU-Gt0iH",
        "outputId": "08af9c34-fa53-43a9-d993-7bcac43e5eca",
        "colab": {
          "base_uri": "https://localhost:8080/"
        }
      },
      "execution_count": 3,
      "outputs": [
        {
          "output_type": "execute_result",
          "data": {
            "text/plain": [
              "DatetimeIndex(['2016-03-06', '2016-03-07', '2016-03-08', '2016-03-09',\n",
              "               '2016-03-10', '2016-03-11', '2016-03-12', '2016-03-13',\n",
              "               '2016-03-14', '2016-03-15', '2016-03-16', '2016-03-17',\n",
              "               '2016-03-18', '2016-03-19', '2016-03-20'],\n",
              "              dtype='datetime64[ns]', freq='D')"
            ]
          },
          "metadata": {},
          "execution_count": 3
        }
      ]
    },
    {
      "cell_type": "code",
      "execution_count": 5,
      "metadata": {
        "id": "8aWIj72ttj-E",
        "outputId": "3a295e2d-dafd-4c59-c66e-09809751d631",
        "colab": {
          "base_uri": "https://localhost:8080/"
        }
      },
      "outputs": [
        {
          "output_type": "execute_result",
          "data": {
            "text/plain": [
              "<DstTzInfo 'Europe/Paris' LMT+0:09:00 STD>"
            ]
          },
          "metadata": {},
          "execution_count": 5
        }
      ],
      "source": [
        "rng = pd.date_range('3/6/2016 00:00', periods = 15, freq = 'd', tz = 'Europe/Paris')\n",
        "rng.tz"
      ]
    },
    {
      "cell_type": "markdown",
      "metadata": {
        "id": "cEH9hFEctj-F"
      },
      "source": [
        "### Getting lists of time zones"
      ]
    },
    {
      "cell_type": "code",
      "execution_count": 6,
      "metadata": {
        "id": "9pF5pfqstj-F",
        "outputId": "934ee9dc-c68a-47eb-f5df-8934b9f83eb6",
        "colab": {
          "base_uri": "https://localhost:8080/"
        }
      },
      "outputs": [
        {
          "output_type": "stream",
          "name": "stdout",
          "text": [
            "433\n"
          ]
        }
      ],
      "source": [
        "from pytz import common_timezones, all_timezones\n",
        "print(len(common_timezones))"
      ]
    },
    {
      "cell_type": "code",
      "execution_count": 7,
      "metadata": {
        "id": "GQA6PJGQtj-G",
        "outputId": "5b82fecc-a2dc-4d08-cba6-847fc87cfc6b",
        "colab": {
          "base_uri": "https://localhost:8080/"
        }
      },
      "outputs": [
        {
          "output_type": "stream",
          "name": "stdout",
          "text": [
            "596\n"
          ]
        }
      ],
      "source": [
        "print(len(all_timezones))"
      ]
    },
    {
      "cell_type": "markdown",
      "metadata": {
        "id": "afr8wpu-tj-G"
      },
      "source": [
        "### What are some time zones considered 'common'?"
      ]
    },
    {
      "cell_type": "code",
      "execution_count": 8,
      "metadata": {
        "collapsed": true,
        "id": "8wWsAtj6tj-G",
        "outputId": "5840b736-b2ca-4176-ab33-12452c605329",
        "colab": {
          "base_uri": "https://localhost:8080/"
        }
      },
      "outputs": [
        {
          "output_type": "execute_result",
          "data": {
            "text/plain": [
              "['Africa/Abidjan',\n",
              " 'Africa/Accra',\n",
              " 'Africa/Addis_Ababa',\n",
              " 'Africa/Algiers',\n",
              " 'Africa/Asmara',\n",
              " 'Africa/Bamako',\n",
              " 'Africa/Bangui',\n",
              " 'Africa/Banjul',\n",
              " 'Africa/Bissau',\n",
              " 'Africa/Blantyre']"
            ]
          },
          "metadata": {},
          "execution_count": 8
        }
      ],
      "source": [
        "common_timezones[0:10]"
      ]
    },
    {
      "cell_type": "markdown",
      "metadata": {
        "id": "CZiOs9rvtj-G"
      },
      "source": [
        "### Localizing a timestamp"
      ]
    },
    {
      "cell_type": "code",
      "execution_count": 9,
      "metadata": {
        "id": "LJaTpBEPtj-H",
        "outputId": "cd849446-3220-49a8-a979-685cc4ad3e0c",
        "colab": {
          "base_uri": "https://localhost:8080/"
        }
      },
      "outputs": [
        {
          "output_type": "execute_result",
          "data": {
            "text/plain": [
              "Timestamp('2016-05-05 08:15:00')"
            ]
          },
          "metadata": {},
          "execution_count": 9
        }
      ],
      "source": [
        "t_naive = pd.Timestamp('2016-05-05 08:15')\n",
        "t_naive"
      ]
    },
    {
      "cell_type": "code",
      "execution_count": 10,
      "metadata": {
        "id": "yTQAenRItj-H",
        "outputId": "19e2450a-4de1-4af3-fc04-cbcf4ce7f364",
        "colab": {
          "base_uri": "https://localhost:8080/"
        }
      },
      "outputs": [
        {
          "output_type": "execute_result",
          "data": {
            "text/plain": [
              "Timestamp('2016-05-05 08:15:00-0500', tz='US/Central')"
            ]
          },
          "metadata": {},
          "execution_count": 10
        }
      ],
      "source": [
        "t = t_naive.tz_localize(tz = 'US/Central')\n",
        "t"
      ]
    },
    {
      "cell_type": "code",
      "execution_count": 11,
      "metadata": {
        "id": "4B4IyWr-tj-I",
        "outputId": "756b4127-77be-421f-ad75-592a09fdefb7",
        "colab": {
          "base_uri": "https://localhost:8080/"
        }
      },
      "outputs": [
        {
          "output_type": "execute_result",
          "data": {
            "text/plain": [
              "Timestamp('2016-05-05 22:15:00+0900', tz='Asia/Tokyo')"
            ]
          },
          "metadata": {},
          "execution_count": 11
        }
      ],
      "source": [
        "t.tz_convert('Asia/Tokyo')"
      ]
    },
    {
      "cell_type": "markdown",
      "metadata": {
        "id": "icITG25Utj-I"
      },
      "source": [
        "### What is the difference between tz_convert and tz_localize?\n",
        "\n",
        "hint: try to run tz_convert on a naive time stamp"
      ]
    },
    {
      "cell_type": "markdown",
      "metadata": {
        "id": "My3Mk37dtj-J"
      },
      "source": [
        "### Ambiguous times"
      ]
    },
    {
      "cell_type": "code",
      "execution_count": 12,
      "metadata": {
        "id": "3SM1OSuUtj-J",
        "outputId": "26053f14-d106-4318-d567-1db689189b57",
        "colab": {
          "base_uri": "https://localhost:8080/"
        }
      },
      "outputs": [
        {
          "output_type": "execute_result",
          "data": {
            "text/plain": [
              "2016-03-10 00:00:00-05:00    0\n",
              "2016-03-11 00:00:00-05:00    1\n",
              "2016-03-12 00:00:00-05:00    2\n",
              "2016-03-13 00:00:00-05:00    3\n",
              "2016-03-14 00:00:00-04:00    4\n",
              "2016-03-15 00:00:00-04:00    5\n",
              "2016-03-16 00:00:00-04:00    6\n",
              "2016-03-17 00:00:00-04:00    7\n",
              "2016-03-18 00:00:00-04:00    8\n",
              "2016-03-19 00:00:00-04:00    9\n",
              "Freq: D, dtype: int64"
            ]
          },
          "metadata": {},
          "execution_count": 12
        }
      ],
      "source": [
        "# You'll get weirdness with timezones based on daylight savings:\n",
        "rng = pd.date_range('2016-03-10', periods = 10, tz = 'US/Eastern')\n",
        "ts = pd.Series(range(10), index = rng)\n",
        "# What do you notice below?\n",
        "ts"
      ]
    },
    {
      "cell_type": "code",
      "execution_count": 16,
      "metadata": {
        "collapsed": true,
        "id": "QLiNVjbntj-K"
      },
      "outputs": [],
      "source": [
        "# For the same reason you can run into 'ambiguous' dates\n",
        "rng_hourly = pd.DatetimeIndex(['11/06/2011 00:00', '11/06/2011 01:00','11/06/2011 01:00', '11/06/2011 02:00','11/06/2011 03:00'])"
      ]
    },
    {
      "cell_type": "code",
      "source": [
        "rng_hourly"
      ],
      "metadata": {
        "id": "zBqCPfYlu6Uk",
        "outputId": "11db518e-94f1-4857-ac4d-815539a9a740",
        "colab": {
          "base_uri": "https://localhost:8080/"
        }
      },
      "execution_count": 17,
      "outputs": [
        {
          "output_type": "execute_result",
          "data": {
            "text/plain": [
              "DatetimeIndex(['2011-11-06 00:00:00', '2011-11-06 01:00:00',\n",
              "               '2011-11-06 01:00:00', '2011-11-06 02:00:00',\n",
              "               '2011-11-06 03:00:00'],\n",
              "              dtype='datetime64[ns]', freq=None)"
            ]
          },
          "metadata": {},
          "execution_count": 17
        }
      ]
    },
    {
      "cell_type": "code",
      "execution_count": 18,
      "metadata": {
        "id": "b-8-27qqtj-K",
        "outputId": "3616314c-69af-4710-9776-5c24654fc910",
        "colab": {
          "base_uri": "https://localhost:8080/",
          "height": 252
        }
      },
      "outputs": [
        {
          "output_type": "error",
          "ename": "AmbiguousTimeError",
          "evalue": "Cannot infer dst time from 2011-11-06 01:00:00, try using the 'ambiguous' argument",
          "traceback": [
            "\u001b[0;31m---------------------------------------------------------------------------\u001b[0m",
            "\u001b[0;31mAmbiguousTimeError\u001b[0m                        Traceback (most recent call last)",
            "\u001b[0;32m<ipython-input-18-00b34c86f0ad>\u001b[0m in \u001b[0;36m<cell line: 2>\u001b[0;34m()\u001b[0m\n\u001b[1;32m      1\u001b[0m \u001b[0;31m# What happens if we localize?\u001b[0m\u001b[0;34m\u001b[0m\u001b[0;34m\u001b[0m\u001b[0m\n\u001b[0;32m----> 2\u001b[0;31m \u001b[0mrng_hourly\u001b[0m\u001b[0;34m.\u001b[0m\u001b[0mtz_localize\u001b[0m\u001b[0;34m(\u001b[0m\u001b[0;34m'US/Central'\u001b[0m\u001b[0;34m)\u001b[0m\u001b[0;34m\u001b[0m\u001b[0;34m\u001b[0m\u001b[0m\n\u001b[0m",
            "\u001b[0;32m/usr/local/lib/python3.10/dist-packages/pandas/core/indexes/datetimes.py\u001b[0m in \u001b[0;36mtz_localize\u001b[0;34m(self, tz, ambiguous, nonexistent)\u001b[0m\n\u001b[1;32m    279\u001b[0m     \u001b[0;34m@\u001b[0m\u001b[0mdoc\u001b[0m\u001b[0;34m(\u001b[0m\u001b[0mDatetimeArray\u001b[0m\u001b[0;34m.\u001b[0m\u001b[0mtz_localize\u001b[0m\u001b[0;34m)\u001b[0m\u001b[0;34m\u001b[0m\u001b[0;34m\u001b[0m\u001b[0m\n\u001b[1;32m    280\u001b[0m     \u001b[0;32mdef\u001b[0m \u001b[0mtz_localize\u001b[0m\u001b[0;34m(\u001b[0m\u001b[0mself\u001b[0m\u001b[0;34m,\u001b[0m \u001b[0mtz\u001b[0m\u001b[0;34m,\u001b[0m \u001b[0mambiguous\u001b[0m\u001b[0;34m=\u001b[0m\u001b[0;34m\"raise\"\u001b[0m\u001b[0;34m,\u001b[0m \u001b[0mnonexistent\u001b[0m\u001b[0;34m=\u001b[0m\u001b[0;34m\"raise\"\u001b[0m\u001b[0;34m)\u001b[0m \u001b[0;34m->\u001b[0m \u001b[0mDatetimeIndex\u001b[0m\u001b[0;34m:\u001b[0m\u001b[0;34m\u001b[0m\u001b[0;34m\u001b[0m\u001b[0m\n\u001b[0;32m--> 281\u001b[0;31m         \u001b[0marr\u001b[0m \u001b[0;34m=\u001b[0m \u001b[0mself\u001b[0m\u001b[0;34m.\u001b[0m\u001b[0m_data\u001b[0m\u001b[0;34m.\u001b[0m\u001b[0mtz_localize\u001b[0m\u001b[0;34m(\u001b[0m\u001b[0mtz\u001b[0m\u001b[0;34m,\u001b[0m \u001b[0mambiguous\u001b[0m\u001b[0;34m,\u001b[0m \u001b[0mnonexistent\u001b[0m\u001b[0;34m)\u001b[0m\u001b[0;34m\u001b[0m\u001b[0;34m\u001b[0m\u001b[0m\n\u001b[0m\u001b[1;32m    282\u001b[0m         \u001b[0;32mreturn\u001b[0m \u001b[0mtype\u001b[0m\u001b[0;34m(\u001b[0m\u001b[0mself\u001b[0m\u001b[0;34m)\u001b[0m\u001b[0;34m.\u001b[0m\u001b[0m_simple_new\u001b[0m\u001b[0;34m(\u001b[0m\u001b[0marr\u001b[0m\u001b[0;34m,\u001b[0m \u001b[0mname\u001b[0m\u001b[0;34m=\u001b[0m\u001b[0mself\u001b[0m\u001b[0;34m.\u001b[0m\u001b[0mname\u001b[0m\u001b[0;34m)\u001b[0m\u001b[0;34m\u001b[0m\u001b[0;34m\u001b[0m\u001b[0m\n\u001b[1;32m    283\u001b[0m \u001b[0;34m\u001b[0m\u001b[0m\n",
            "\u001b[0;32m/usr/local/lib/python3.10/dist-packages/pandas/core/arrays/_mixins.py\u001b[0m in \u001b[0;36mmethod\u001b[0;34m(self, *args, **kwargs)\u001b[0m\n\u001b[1;32m     83\u001b[0m     \u001b[0;32mdef\u001b[0m \u001b[0mmethod\u001b[0m\u001b[0;34m(\u001b[0m\u001b[0mself\u001b[0m\u001b[0;34m,\u001b[0m \u001b[0;34m*\u001b[0m\u001b[0margs\u001b[0m\u001b[0;34m,\u001b[0m \u001b[0;34m**\u001b[0m\u001b[0mkwargs\u001b[0m\u001b[0;34m)\u001b[0m\u001b[0;34m:\u001b[0m\u001b[0;34m\u001b[0m\u001b[0;34m\u001b[0m\u001b[0m\n\u001b[1;32m     84\u001b[0m         \u001b[0;32mif\u001b[0m \u001b[0mself\u001b[0m\u001b[0;34m.\u001b[0m\u001b[0mndim\u001b[0m \u001b[0;34m==\u001b[0m \u001b[0;36m1\u001b[0m\u001b[0;34m:\u001b[0m\u001b[0;34m\u001b[0m\u001b[0;34m\u001b[0m\u001b[0m\n\u001b[0;32m---> 85\u001b[0;31m             \u001b[0;32mreturn\u001b[0m \u001b[0mmeth\u001b[0m\u001b[0;34m(\u001b[0m\u001b[0mself\u001b[0m\u001b[0;34m,\u001b[0m \u001b[0;34m*\u001b[0m\u001b[0margs\u001b[0m\u001b[0;34m,\u001b[0m \u001b[0;34m**\u001b[0m\u001b[0mkwargs\u001b[0m\u001b[0;34m)\u001b[0m\u001b[0;34m\u001b[0m\u001b[0;34m\u001b[0m\u001b[0m\n\u001b[0m\u001b[1;32m     86\u001b[0m \u001b[0;34m\u001b[0m\u001b[0m\n\u001b[1;32m     87\u001b[0m         \u001b[0mflags\u001b[0m \u001b[0;34m=\u001b[0m \u001b[0mself\u001b[0m\u001b[0;34m.\u001b[0m\u001b[0m_ndarray\u001b[0m\u001b[0;34m.\u001b[0m\u001b[0mflags\u001b[0m\u001b[0;34m\u001b[0m\u001b[0;34m\u001b[0m\u001b[0m\n",
            "\u001b[0;32m/usr/local/lib/python3.10/dist-packages/pandas/core/arrays/datetimes.py\u001b[0m in \u001b[0;36mtz_localize\u001b[0;34m(self, tz, ambiguous, nonexistent)\u001b[0m\n\u001b[1;32m    985\u001b[0m             \u001b[0;31m# Convert to UTC\u001b[0m\u001b[0;34m\u001b[0m\u001b[0;34m\u001b[0m\u001b[0m\n\u001b[1;32m    986\u001b[0m \u001b[0;34m\u001b[0m\u001b[0m\n\u001b[0;32m--> 987\u001b[0;31m             new_dates = tzconversion.tz_localize_to_utc(\n\u001b[0m\u001b[1;32m    988\u001b[0m                 \u001b[0mself\u001b[0m\u001b[0;34m.\u001b[0m\u001b[0masi8\u001b[0m\u001b[0;34m,\u001b[0m\u001b[0;34m\u001b[0m\u001b[0;34m\u001b[0m\u001b[0m\n\u001b[1;32m    989\u001b[0m                 \u001b[0mtz\u001b[0m\u001b[0;34m,\u001b[0m\u001b[0;34m\u001b[0m\u001b[0;34m\u001b[0m\u001b[0m\n",
            "\u001b[0;32m/usr/local/lib/python3.10/dist-packages/pandas/_libs/tslibs/tzconversion.pyx\u001b[0m in \u001b[0;36mpandas._libs.tslibs.tzconversion.tz_localize_to_utc\u001b[0;34m()\u001b[0m\n",
            "\u001b[0;31mAmbiguousTimeError\u001b[0m: Cannot infer dst time from 2011-11-06 01:00:00, try using the 'ambiguous' argument"
          ]
        }
      ],
      "source": [
        "# What happens if we localize?\n",
        "rng_hourly.tz_localize('US/Central')"
      ]
    },
    {
      "cell_type": "markdown",
      "metadata": {
        "id": "nfxSKt9Otj-K"
      },
      "source": [
        "### How do we deal with this ambiguous time error?\n",
        "hint: http://pandas.pydata.org/pandas-docs/stable/timeseries.html#ambiguous-times-when-localizing"
      ]
    },
    {
      "cell_type": "code",
      "execution_count": 19,
      "metadata": {
        "id": "MqeQLNaytj-K",
        "outputId": "e1d4046f-29fb-4d1d-9655-db8d03605006",
        "colab": {
          "base_uri": "https://localhost:8080/"
        }
      },
      "outputs": [
        {
          "output_type": "execute_result",
          "data": {
            "text/plain": [
              "DatetimeIndex(['2011-11-06 00:00:00-05:00', '2011-11-06 01:00:00-05:00',\n",
              "               '2011-11-06 01:00:00-06:00', '2011-11-06 02:00:00-06:00',\n",
              "               '2011-11-06 03:00:00-06:00'],\n",
              "              dtype='datetime64[ns, US/Central]', freq=None)"
            ]
          },
          "metadata": {},
          "execution_count": 19
        }
      ],
      "source": [
        "# %load snippets/ambig.py\n",
        "rng_hourly.tz_localize('US/Central', ambiguous = 'infer')"
      ]
    },
    {
      "cell_type": "markdown",
      "metadata": {
        "id": "oWuwuIbHtj-K"
      },
      "source": [
        "### How can we check whether the inference did what we wanted?"
      ]
    },
    {
      "cell_type": "code",
      "execution_count": 20,
      "metadata": {
        "id": "sR-otG2Utj-L",
        "outputId": "575594f6-ae23-4970-d219-27e4d27b728f",
        "colab": {
          "base_uri": "https://localhost:8080/"
        }
      },
      "outputs": [
        {
          "output_type": "execute_result",
          "data": {
            "text/plain": [
              "DatetimeIndex(['2011-11-06 05:00:00+00:00', '2011-11-06 06:00:00+00:00',\n",
              "               '2011-11-06 07:00:00+00:00', '2011-11-06 08:00:00+00:00',\n",
              "               '2011-11-06 09:00:00+00:00'],\n",
              "              dtype='datetime64[ns, UTC]', freq=None)"
            ]
          },
          "metadata": {},
          "execution_count": 20
        }
      ],
      "source": [
        "# %load snippets/confirm.py\n",
        "rng_hourly.tz_localize('US/Central', ambiguous = 'infer').tz_convert('utc')"
      ]
    },
    {
      "cell_type": "markdown",
      "metadata": {
        "id": "ppdNh202tj-L"
      },
      "source": [
        "### Pandas goes to amazing length to try to figure things out for you"
      ]
    },
    {
      "cell_type": "code",
      "execution_count": 21,
      "metadata": {
        "id": "YGqwuyVPtj-L",
        "outputId": "faed2851-cf1c-4742-ccb8-dd5df02deefa",
        "colab": {
          "base_uri": "https://localhost:8080/",
          "height": 235
        }
      },
      "outputs": [
        {
          "output_type": "error",
          "ename": "NonExistentTimeError",
          "evalue": "2016-03-13 02:00:00",
          "traceback": [
            "\u001b[0;31m---------------------------------------------------------------------------\u001b[0m",
            "\u001b[0;31mNonExistentTimeError\u001b[0m                      Traceback (most recent call last)",
            "\u001b[0;32m<ipython-input-21-a18e22d661d9>\u001b[0m in \u001b[0;36m<cell line: 2>\u001b[0;34m()\u001b[0m\n\u001b[1;32m      1\u001b[0m \u001b[0;31m# What's going on here?\u001b[0m\u001b[0;34m\u001b[0m\u001b[0;34m\u001b[0m\u001b[0m\n\u001b[0;32m----> 2\u001b[0;31m \u001b[0mpd\u001b[0m\u001b[0;34m.\u001b[0m\u001b[0mTimestamp\u001b[0m\u001b[0;34m(\u001b[0m\u001b[0;34m'2016-03-13 02:00'\u001b[0m\u001b[0;34m,\u001b[0m \u001b[0mtz\u001b[0m \u001b[0;34m=\u001b[0m \u001b[0;34m'US/Eastern'\u001b[0m\u001b[0;34m)\u001b[0m\u001b[0;34m\u001b[0m\u001b[0;34m\u001b[0m\u001b[0m\n\u001b[0m",
            "\u001b[0;32m/usr/local/lib/python3.10/dist-packages/pandas/_libs/tslibs/timestamps.pyx\u001b[0m in \u001b[0;36mpandas._libs.tslibs.timestamps.Timestamp.__new__\u001b[0;34m()\u001b[0m\n",
            "\u001b[0;32m/usr/local/lib/python3.10/dist-packages/pandas/_libs/tslibs/conversion.pyx\u001b[0m in \u001b[0;36mpandas._libs.tslibs.conversion.convert_to_tsobject\u001b[0;34m()\u001b[0m\n",
            "\u001b[0;32m/usr/local/lib/python3.10/dist-packages/pandas/_libs/tslibs/conversion.pyx\u001b[0m in \u001b[0;36mpandas._libs.tslibs.conversion._convert_str_to_tsobject\u001b[0;34m()\u001b[0m\n",
            "\u001b[0;32m/usr/local/lib/python3.10/dist-packages/pandas/_libs/tslibs/tzconversion.pyx\u001b[0m in \u001b[0;36mpandas._libs.tslibs.tzconversion.tz_localize_to_utc_single\u001b[0;34m()\u001b[0m\n",
            "\u001b[0;32m/usr/local/lib/python3.10/dist-packages/pandas/_libs/tslibs/tzconversion.pyx\u001b[0m in \u001b[0;36mpandas._libs.tslibs.tzconversion.tz_localize_to_utc\u001b[0;34m()\u001b[0m\n",
            "\u001b[0;31mNonExistentTimeError\u001b[0m: 2016-03-13 02:00:00"
          ]
        }
      ],
      "source": [
        "# What's going on here?\n",
        "pd.Timestamp('2016-03-13 02:00', tz = 'US/Eastern') # time change"
      ]
    }
  ],
  "metadata": {
    "kernelspec": {
      "display_name": "Python 3",
      "language": "python",
      "name": "python3"
    },
    "language_info": {
      "codemirror_mode": {
        "name": "ipython",
        "version": 3
      },
      "file_extension": ".py",
      "mimetype": "text/x-python",
      "name": "python",
      "nbconvert_exporter": "python",
      "pygments_lexer": "ipython3",
      "version": "3.5.2"
    },
    "colab": {
      "provenance": []
    }
  },
  "nbformat": 4,
  "nbformat_minor": 0
}