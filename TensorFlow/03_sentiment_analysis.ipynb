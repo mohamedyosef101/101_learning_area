{
  "cells": [
    {
      "cell_type": "markdown",
      "metadata": {
        "id": "view-in-github",
        "colab_type": "text"
      },
      "source": [
        "<a href=\"https://colab.research.google.com/github/mohamedyosef101/101_learning_area/blob/area/TensorFlow/03_sentiment_analysis.ipynb\" target=\"_parent\"><img src=\"https://colab.research.google.com/assets/colab-badge.svg\" alt=\"Open In Colab\"/></a>"
      ]
    },
    {
      "cell_type": "markdown",
      "source": [
        "# **Sentiment** Analysis\n",
        "It is a natural language processing (NLP) technique used to determine the sentiment or emotion expressed in a piece of text."
      ],
      "metadata": {
        "id": "ropz2mRi0zy-"
      },
      "id": "ropz2mRi0zy-"
    },
    {
      "cell_type": "code",
      "source": [
        "import os\n",
        "import re\n",
        "import shutil\n",
        "import string\n",
        "\n",
        "import pandas as pd\n",
        "import numpy as np\n",
        "import matplotlib.pyplot as plt\n",
        "import seaborn as sns\n",
        "import datetime as dt\n",
        "\n",
        "import tensorflow as tf\n",
        "from tensorflow import keras\n",
        "from keras import layers\n",
        "from keras import losses\n",
        "\n",
        "print(f\"Last notebook run: {dt.datetime.now()}\")"
      ],
      "metadata": {
        "id": "zlce3Gm111Tp",
        "outputId": "5170cf1d-8184-4680-86f6-d91d7448463b",
        "colab": {
          "base_uri": "https://localhost:8080/"
        }
      },
      "id": "zlce3Gm111Tp",
      "execution_count": 5,
      "outputs": [
        {
          "output_type": "stream",
          "name": "stdout",
          "text": [
            "Last notebook run: 2024-01-14 17:45:24.470827\n"
          ]
        }
      ]
    },
    {
      "cell_type": "markdown",
      "source": [
        "# Get the **data**"
      ],
      "metadata": {
        "id": "bNFlg98X3IwF"
      },
      "id": "bNFlg98X3IwF"
    },
    {
      "cell_type": "markdown",
      "source": [
        "[Large Movie Review](https://ai.stanford.edu/~amaas/data/sentiment) dataset (*by Andrew Maas*).\n",
        "\n",
        "This dataset contains the text of 50,000 movie reviews from IMDB. There are 25,000 reviews for training and 25,000 reviews for testing."
      ],
      "metadata": {
        "id": "mnJ0we4I3QUG"
      },
      "id": "mnJ0we4I3QUG"
    },
    {
      "cell_type": "code",
      "source": [
        "# load the data from Stanford\n",
        "\n",
        "url = \"https://ai.stanford.edu/~amaas/data/sentiment/aclImdb_v1.tar.gz\"\n",
        "\n",
        "data = keras.utils.get_file(\"aclImdb_v1\", url,\n",
        "                            untar=True, cache_dir='.',\n",
        "                            cache_subdir='')\n",
        "\n",
        "data_dir = os.path.join(os.path.dirname(data), 'aclImdb')"
      ],
      "metadata": {
        "id": "cfEWXEoP3O3H",
        "outputId": "56bcf5bf-574c-473d-c862-1c62ad48592d",
        "colab": {
          "base_uri": "https://localhost:8080/"
        }
      },
      "id": "cfEWXEoP3O3H",
      "execution_count": 6,
      "outputs": [
        {
          "output_type": "stream",
          "name": "stdout",
          "text": [
            "Downloading data from https://ai.stanford.edu/~amaas/data/sentiment/aclImdb_v1.tar.gz\n",
            "84125825/84125825 [==============================] - 20s 0us/step\n"
          ]
        }
      ]
    },
    {
      "cell_type": "code",
      "source": [
        "os.listdir(data_dir)"
      ],
      "metadata": {
        "id": "6qKkZmglD-8x",
        "outputId": "fe55b113-241c-455f-d907-db54c429b4b8",
        "colab": {
          "base_uri": "https://localhost:8080/"
        }
      },
      "id": "6qKkZmglD-8x",
      "execution_count": 7,
      "outputs": [
        {
          "output_type": "execute_result",
          "data": {
            "text/plain": [
              "['test', 'imdb.vocab', 'README', 'train', 'imdbEr.txt']"
            ]
          },
          "metadata": {},
          "execution_count": 7
        }
      ]
    }
  ],
  "metadata": {
    "kernelspec": {
      "display_name": "Python 3",
      "language": "python",
      "name": "python3"
    },
    "language_info": {
      "codemirror_mode": {
        "name": "ipython",
        "version": 3
      },
      "file_extension": ".py",
      "mimetype": "text/x-python",
      "name": "python",
      "nbconvert_exporter": "python",
      "pygments_lexer": "ipython3",
      "version": "3.8.8"
    },
    "colab": {
      "provenance": [],
      "include_colab_link": true
    }
  },
  "nbformat": 4,
  "nbformat_minor": 5
}