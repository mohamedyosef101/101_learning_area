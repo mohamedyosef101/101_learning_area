{
  "cells": [
    {
      "cell_type": "markdown",
      "source": [
        "<a href=\"\"><img alt=\"open with colab\" src=\"https://img.shields.io/badge/Open_with_colab-gray?logo=googlecolab\"></a>\n",
        "\n",
        "<br>\n",
        "\n",
        "\n",
        "# Classify images **of clothing**\n"
      ],
      "metadata": {
        "id": "oT1Kbkw1F0p_"
      },
      "id": "oT1Kbkw1F0p_"
    },
    {
      "cell_type": "code",
      "source": [
        "# Load the libraries\n",
        "import tensorflow as tf\n",
        "from tensorflow import keras\n",
        "from keras import layers\n",
        "\n",
        "import pandas as pd\n",
        "import numpy as np\n",
        "import matplotlib.pyplot as plt\n",
        "import seaborn as sns\n",
        "\n",
        "import datetime as dt\n",
        "print(f\"Last Notebook run: {dt.datetime.now()}\")"
      ],
      "metadata": {
        "id": "UbCRJuJCGFL8",
        "outputId": "c59b3d9e-e5e0-415b-d901-20bbc829bf01",
        "colab": {
          "base_uri": "https://localhost:8080/"
        }
      },
      "id": "UbCRJuJCGFL8",
      "execution_count": null,
      "outputs": [
        {
          "output_type": "stream",
          "name": "stdout",
          "text": [
            "Last Notebook run: 2024-01-08 09:39:49.422096\n"
          ]
        }
      ]
    },
    {
      "cell_type": "markdown",
      "source": [
        "# Get the **data**\n",
        "[Fashion MNIST](https://github.com/zalandoresearch/fashion-mnist) dataset *(by Zalando, MIT License)*.\n",
        "\n",
        "The contains 70,000 grayscale images in 10 categories. The images show individual articles of clothing at low resolution *(*28 by 28 pixels*)*"
      ],
      "metadata": {
        "id": "mFptuQ3PGxn1"
      },
      "id": "mFptuQ3PGxn1"
    },
    {
      "cell_type": "code",
      "source": [
        "# load the data from keras\n",
        "fashion_mnist = tf.keras.datasets.fashion_mnist\n",
        "\n",
        "(X_train, y_train), (X_test, y_test) = fashion_mnist.load_data()"
      ],
      "metadata": {
        "id": "BzCni5l2IAK0",
        "outputId": "1d773eb2-61a3-45d1-b97a-1111fc974656",
        "colab": {
          "base_uri": "https://localhost:8080/"
        }
      },
      "id": "BzCni5l2IAK0",
      "execution_count": null,
      "outputs": [
        {
          "output_type": "stream",
          "name": "stdout",
          "text": [
            "Downloading data from https://storage.googleapis.com/tensorflow/tf-keras-datasets/train-labels-idx1-ubyte.gz\n",
            "29515/29515 [==============================] - 0s 0us/step\n",
            "Downloading data from https://storage.googleapis.com/tensorflow/tf-keras-datasets/train-images-idx3-ubyte.gz\n",
            "26421880/26421880 [==============================] - 0s 0us/step\n",
            "Downloading data from https://storage.googleapis.com/tensorflow/tf-keras-datasets/t10k-labels-idx1-ubyte.gz\n",
            "5148/5148 [==============================] - 0s 0us/step\n",
            "Downloading data from https://storage.googleapis.com/tensorflow/tf-keras-datasets/t10k-images-idx3-ubyte.gz\n",
            "4422102/4422102 [==============================] - 0s 0us/step\n"
          ]
        }
      ]
    },
    {
      "cell_type": "code",
      "source": [
        "y_train"
      ],
      "metadata": {
        "id": "wWEnWzoHJPpH",
        "outputId": "0fd747b6-5709-4ad4-ef8e-402684f54f05",
        "colab": {
          "base_uri": "https://localhost:8080/"
        }
      },
      "id": "wWEnWzoHJPpH",
      "execution_count": null,
      "outputs": [
        {
          "output_type": "execute_result",
          "data": {
            "text/plain": [
              "array([9, 0, 0, ..., 3, 0, 5], dtype=uint8)"
            ]
          },
          "metadata": {},
          "execution_count": 3
        }
      ]
    },
    {
      "cell_type": "code",
      "source": [
        "### What we want to classify? ###\n",
        "\n",
        "class_names = ['T-shirt/top', 'Trouser', 'Pullover', 'Dress', 'Coat',\n",
        "               'Sandal', 'Shirt', 'Sneaker', 'Bag', 'Ankle boot']\n",
        "\n",
        "# The string represent the index which means zero rep. T-shirt"
      ],
      "metadata": {
        "id": "jJOp534MIf7V"
      },
      "id": "jJOp534MIf7V",
      "execution_count": null,
      "outputs": []
    },
    {
      "cell_type": "markdown",
      "source": [
        "# Data **Exploration**"
      ],
      "metadata": {
        "id": "Uk5iF0MkI-G4"
      },
      "id": "Uk5iF0MkI-G4"
    },
    {
      "cell_type": "code",
      "source": [
        "X_train.shape"
      ],
      "metadata": {
        "id": "PR9lg0KJJCZ_",
        "outputId": "3e52b17b-1a1c-4bb0-e2ed-d46055c1c83e",
        "colab": {
          "base_uri": "https://localhost:8080/"
        }
      },
      "id": "PR9lg0KJJCZ_",
      "execution_count": null,
      "outputs": [
        {
          "output_type": "execute_result",
          "data": {
            "text/plain": [
              "(60000, 28, 28)"
            ]
          },
          "metadata": {},
          "execution_count": 5
        }
      ]
    },
    {
      "cell_type": "code",
      "source": [
        "# Normalization\n",
        "X_train = X_train / 255\n",
        "X_test = X_test / 255"
      ],
      "metadata": {
        "id": "9H2Dr4peJadH"
      },
      "id": "9H2Dr4peJadH",
      "execution_count": null,
      "outputs": []
    },
    {
      "cell_type": "code",
      "source": [
        "# Verify that the data is in the correct format\n",
        "\n",
        "plt.figure(figsize=(10, 10))\n",
        "\n",
        "for i in range(5):\n",
        "  plt.subplot(5, 5, i+1)\n",
        "  plt.xticks([])\n",
        "  plt.yticks([])\n",
        "  plt.grid(False)\n",
        "  plt.imshow(X_train[i], cmap=plt.cm.binary)\n",
        "  plt.xlabel(class_names[y_train[i]])\n",
        "\n",
        "plt.show()"
      ],
      "metadata": {
        "id": "y2AoiBElJvZf",
        "outputId": "d5ea8d27-6400-458f-d965-8455d8fb474e",
        "colab": {
          "base_uri": "https://localhost:8080/",
          "height": 161
        }
      },
      "id": "y2AoiBElJvZf",
      "execution_count": null,
      "outputs": [
        {
          "output_type": "display_data",
          "data": {
            "text/plain": [
              "<Figure size 1000x1000 with 5 Axes>"
            ],
            "image/png": "[encoded data removed]"
          },
          "metadata": {}
        }
      ]
    },
    {
      "cell_type": "markdown",
      "source": [
        "# Set initial **model**"
      ],
      "metadata": {
        "id": "5td4O6spMA1n"
      },
      "id": "5td4O6spMA1n"
    },
    {
      "cell_type": "code",
      "source": [
        "model = keras.Sequential([\n",
        "    layers.Flatten(input_shape=(28, 28)),\n",
        "    layers.Dense(128, activation='relu'),\n",
        "    layers.Dense(10)\n",
        "])"
      ],
      "metadata": {
        "id": "k3kdE2NvMIUl"
      },
      "id": "k3kdE2NvMIUl",
      "execution_count": null,
      "outputs": []
    },
    {
      "cell_type": "markdown",
      "source": [
        "[**`layers.Flatten`**](https://www.tensorflow.org/api_docs/python/tf/keras/layers/Flatten) transforms the formate of the input from a 2-dimensional array (28 by 28) to a one-dimensional array (28 * 28 = 784).\n",
        "\n",
        "> **Also**, *`layers.Flatten` has nothing to do with the learning; it only changes the formate of the input to 1D.*\n",
        "\n"
      ],
      "metadata": {
        "id": "5vUmCIMoU6EW"
      },
      "id": "5vUmCIMoU6EW"
    },
    {
      "cell_type": "markdown",
      "source": [
        "### **Compile** the model"
      ],
      "metadata": {
        "id": "EUnPjYtDad8l"
      },
      "id": "EUnPjYtDad8l"
    },
    {
      "cell_type": "code",
      "source": [
        "# compile the model\n",
        "model.compile(\n",
        "    optimizer='adam',\n",
        "    loss=tf.keras.losses.SparseCategoricalCrossentropy(from_logits=True),\n",
        "    metrics=['accuracy']\n",
        ")"
      ],
      "metadata": {
        "id": "_O6uVSc2N2oV"
      },
      "id": "_O6uVSc2N2oV",
      "execution_count": null,
      "outputs": []
    },
    {
      "cell_type": "markdown",
      "source": [
        "* [**SparseCategoricalCrossentropy**](https://www.tensorflow.org/api_docs/python/tf/keras/losses/SparseCategoricalCrossentropy) is a loss function that you can use when there are two or more label classes.\n",
        "\n",
        "* **`from_logits=True`** tells the loss function to expect unnormalized input values (logits) as well as raw outputs rather than probabilities.\n",
        "\n",
        "<div><br></div>\n",
        "\n",
        "\n",
        "> **NOTE:** labels should be provided as integers. If you want to provide labels using `one-hot` encoding, then use `CategoricalCrossentropy` loss."
      ],
      "metadata": {
        "id": "qyvInKRaW2qS"
      },
      "id": "qyvInKRaW2qS"
    },
    {
      "cell_type": "markdown",
      "source": [
        "### **Train** the model\n",
        "It called `model.fit` because it \"*fits*\" the model to the training data."
      ],
      "metadata": {
        "id": "QCyaGgvXbUPg"
      },
      "id": "QCyaGgvXbUPg"
    },
    {
      "cell_type": "code",
      "source": [
        "# fit the model\n",
        "%%time\n",
        "history = model.fit(X_train, y_train,\n",
        "          epochs=10, verbose=0, validation_split=0.2)"
      ],
      "metadata": {
        "id": "34N6rcSnOVV1",
        "outputId": "6c510f53-ff29-424d-fe2f-59556d8e75c8",
        "colab": {
          "base_uri": "https://localhost:8080/"
        }
      },
      "id": "34N6rcSnOVV1",
      "execution_count": null,
      "outputs": [
        {
          "output_type": "stream",
          "name": "stdout",
          "text": [
            "CPU times: user 55.4 s, sys: 3.69 s, total: 59.1 s\n",
            "Wall time: 47.1 s\n"
          ]
        }
      ]
    },
    {
      "cell_type": "markdown",
      "source": [
        "### **Evaluate** the model"
      ],
      "metadata": {
        "id": "17XKXFKNjeOV"
      },
      "id": "17XKXFKNjeOV"
    },
    {
      "cell_type": "code",
      "source": [
        "# see what the model have done...\n",
        "hist = pd.DataFrame(history.history)\n",
        "\n",
        "\n",
        "plt.plot(history.history['accuracy'], label='accuracy', color='black')\n",
        "plt.plot(history.history['val_accuracy'], label='val_accuracy', color='green')\n",
        "plt.xlabel('Epoch')\n",
        "plt.ylabel('Accuracy')\n",
        "plt.ylim([0.80, 0.99])\n",
        "plt.legend()\n",
        "#plt.grid(True)\n",
        "\n",
        "plt.show()"
      ],
      "metadata": {
        "id": "SAR8q15HPUD4",
        "outputId": "7118d951-b2e0-4dfc-aab9-8ccdf0ef50a5",
        "colab": {
          "base_uri": "https://localhost:8080/",
          "height": 449
        }
      },
      "id": "SAR8q15HPUD4",
      "execution_count": null,
      "outputs": [
        {
          "output_type": "display_data",
          "data": {
            "text/plain": [
              "<Figure size 640x480 with 1 Axes>"
            ],
            "image/png": "[encoded data removed]"
          },
          "metadata": {}
        }
      ]
    },
    {
      "cell_type": "code",
      "source": [
        "# See the accuracy on the test set\n",
        "test_loss, test_acc = model.evaluate(X_test,  y_test, verbose=0)\n",
        "\n",
        "print('\\nTest accuracy:', test_acc)"
      ],
      "metadata": {
        "id": "WXS1wty9i9P-"
      },
      "id": "WXS1wty9i9P-",
      "execution_count": null,
      "outputs": []
    },
    {
      "cell_type": "markdown",
      "source": [
        "The accuracy on the validation and test sets is a little less than the accuracy on the training set and this gab represents \"*overfitting*\".\n",
        "\n",
        "> **Overfitting** is when you model learns the training data so well but it fails to deal with new, unseen data. <br>\n",
        "(( *It's like memorizing a single test question so perfectly you can't answer it in a different way even if the wording changes slightly.* ))"
      ],
      "metadata": {
        "id": "qzT5_0HfeC-k"
      },
      "id": "qzT5_0HfeC-k"
    },
    {
      "cell_type": "markdown",
      "source": [
        "# Improve the **model**"
      ],
      "metadata": {
        "id": "p2XRUhHLl-fA"
      },
      "id": "p2XRUhHLl-fA"
    }
  ],
  "metadata": {
    "kernelspec": {
      "display_name": "Python 3",
      "language": "python",
      "name": "python3"
    },
    "language_info": {
      "codemirror_mode": {
        "name": "ipython",
        "version": 3
      },
      "file_extension": ".py",
      "mimetype": "text/x-python",
      "name": "python",
      "nbconvert_exporter": "python",
      "pygments_lexer": "ipython3",
      "version": "3.8.8"
    },
    "colab": {
      "provenance": []
    }
  },
  "nbformat": 4,
  "nbformat_minor": 5
}