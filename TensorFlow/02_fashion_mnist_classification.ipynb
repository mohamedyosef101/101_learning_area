{
  "cells": [
    {
      "cell_type": "markdown",
      "metadata": {
        "id": "view-in-github",
        "colab_type": "text"
      },
      "source": [
        "<a href=\"https://colab.research.google.com/github/mohamedyosef101/101_learning_area/blob/area/TensorFlow/02_fashion_mnist_classification.ipynb\" target=\"_parent\"><img src=\"https://colab.research.google.com/assets/colab-badge.svg\" alt=\"Open In Colab\"/></a>"
      ]
    },
    {
      "cell_type": "markdown",
      "source": [
        "# Classify images **of clothing**\n"
      ],
      "metadata": {
        "id": "oT1Kbkw1F0p_"
      },
      "id": "oT1Kbkw1F0p_"
    },
    {
      "cell_type": "markdown",
      "source": [
        "### Typical architecture of a classification network.\n",
        "| **Hyperparameter** | **Binary Classification** | **Multiclass classification** |\n",
        "| --- | --- | --- |\n",
        "| Input layer shape | Same as number of features | Same as binary classification |\n",
        "| Hidden layer(s) | Problem specific, minimum = 1, maximum = unlimited | Same as binary classification |\n",
        "| Neurons per hidden layer | Problem specific, generally 10 to 100 | Same as binary classification |\n",
        "| Output layer shape | 1 (one class or the other) | 1 per class (e.g. 3 for food, person or dog photo) |\n",
        "| Hidden activation | Usually [ReLU](https://www.kaggle.com/dansbecker/rectified-linear-units-relu-in-deep-learning) (rectified linear unit) | Same as binary classification |\n",
        "| Output activation | [Sigmoid](https://en.wikipedia.org/wiki/Sigmoid_function) | [Softmax](https://en.wikipedia.org/wiki/Softmax_function) |\n",
        "| Loss function | [Cross entropy](https://en.wikipedia.org/wiki/Cross_entropy#Cross-entropy_loss_function_and_logistic_regression) ([`BinaryCrossentropy`](https://www.tensorflow.org/api_docs/python/tf/keras/losses/BinaryCrossentropy)) | Cross entropy ([`CategoricalCrossentropy`](https://www.tensorflow.org/api_docs/python/tf/keras/losses/CategoricalCrossentropy)) |\n",
        "| Optimizer | [SGD](https://www.tensorflow.org/api_docs/python/tf/keras/optimizers/SGD) (stochastic gradient descent), [Adam](https://www.tensorflow.org/api_docs/python/tf/keras/optimizers/Adam) | Same as binary classification |\n",
        "\n",
        "> **Source:** <br> *Page 295 of [Hands-On Machine Learning Book by Aurélien Géron](https://www.oreilly.com/library/view/hands-on-machine-learning/9781492032632/)*"
      ],
      "metadata": {
        "id": "bsEH4Os-3-az"
      },
      "id": "bsEH4Os-3-az"
    },
    {
      "cell_type": "code",
      "source": [
        "# Load the libraries\n",
        "import tensorflow as tf\n",
        "from tensorflow import keras\n",
        "from keras import layers\n",
        "\n",
        "import pandas as pd\n",
        "import numpy as np\n",
        "import matplotlib.pyplot as plt\n",
        "import seaborn as sns\n",
        "\n",
        "import datetime as dt\n",
        "print(f\"Last Notebook run: {dt.datetime.now()}\")"
      ],
      "metadata": {
        "id": "UbCRJuJCGFL8",
        "outputId": "2fda19b6-15b9-4678-af2e-5e2eb1facd58",
        "colab": {
          "base_uri": "https://localhost:8080/"
        }
      },
      "id": "UbCRJuJCGFL8",
      "execution_count": 20,
      "outputs": [
        {
          "output_type": "stream",
          "name": "stdout",
          "text": [
            "Last Notebook run: 2024-01-10 10:11:47.057402\n"
          ]
        }
      ]
    },
    {
      "cell_type": "markdown",
      "source": [
        "# Get the **data**\n",
        "[Fashion MNIST](https://github.com/zalandoresearch/fashion-mnist) dataset *(by Zalando, MIT License)*.\n",
        "\n",
        "The contains 70,000 grayscale images in 10 categories. The images show individual articles of clothing at low resolution *(*28 by 28 pixels*)*"
      ],
      "metadata": {
        "id": "mFptuQ3PGxn1"
      },
      "id": "mFptuQ3PGxn1"
    },
    {
      "cell_type": "code",
      "source": [
        "# load the data from keras\n",
        "fashion_mnist = tf.keras.datasets.fashion_mnist\n",
        "\n",
        "(X_train, y_train), (X_test, y_test) = fashion_mnist.load_data()"
      ],
      "metadata": {
        "id": "BzCni5l2IAK0"
      },
      "id": "BzCni5l2IAK0",
      "execution_count": 21,
      "outputs": []
    },
    {
      "cell_type": "code",
      "source": [
        "y_train"
      ],
      "metadata": {
        "id": "wWEnWzoHJPpH",
        "outputId": "5fc942c5-ef59-4ddb-dd3c-ed1ad07b42a4",
        "colab": {
          "base_uri": "https://localhost:8080/"
        }
      },
      "id": "wWEnWzoHJPpH",
      "execution_count": 22,
      "outputs": [
        {
          "output_type": "execute_result",
          "data": {
            "text/plain": [
              "array([9, 0, 0, ..., 3, 0, 5], dtype=uint8)"
            ]
          },
          "metadata": {},
          "execution_count": 22
        }
      ]
    },
    {
      "cell_type": "code",
      "source": [
        "### What we want to classify? ###\n",
        "\n",
        "class_names = ['T-shirt/top', 'Trouser', 'Pullover', 'Dress', 'Coat',\n",
        "               'Sandal', 'Shirt', 'Sneaker', 'Bag', 'Ankle boot']\n",
        "\n",
        "# The string represent the index which means zero rep. T-shirt"
      ],
      "metadata": {
        "id": "jJOp534MIf7V"
      },
      "id": "jJOp534MIf7V",
      "execution_count": 23,
      "outputs": []
    },
    {
      "cell_type": "markdown",
      "source": [
        "# Data **Exploration**"
      ],
      "metadata": {
        "id": "Uk5iF0MkI-G4"
      },
      "id": "Uk5iF0MkI-G4"
    },
    {
      "cell_type": "code",
      "source": [
        "X_train.shape"
      ],
      "metadata": {
        "id": "PR9lg0KJJCZ_",
        "outputId": "4cc93468-e8f1-4774-e5e6-81dbcaa6e590",
        "colab": {
          "base_uri": "https://localhost:8080/"
        }
      },
      "id": "PR9lg0KJJCZ_",
      "execution_count": 24,
      "outputs": [
        {
          "output_type": "execute_result",
          "data": {
            "text/plain": [
              "(60000, 28, 28)"
            ]
          },
          "metadata": {},
          "execution_count": 24
        }
      ]
    },
    {
      "cell_type": "code",
      "source": [
        "# Normalization\n",
        "X_train = X_train / 255\n",
        "X_test = X_test / 255"
      ],
      "metadata": {
        "id": "9H2Dr4peJadH"
      },
      "id": "9H2Dr4peJadH",
      "execution_count": 25,
      "outputs": []
    },
    {
      "cell_type": "code",
      "source": [
        "# Verify that the data is in the correct format\n",
        "\n",
        "plt.figure(figsize=(10, 10))\n",
        "\n",
        "for i in range(5):\n",
        "  plt.subplot(5, 5, i+1)\n",
        "  plt.xticks([])\n",
        "  plt.yticks([])\n",
        "  plt.grid(False)\n",
        "  plt.imshow(X_train[i], cmap=plt.cm.binary)\n",
        "  plt.xlabel(class_names[y_train[i]])\n",
        "\n",
        "plt.show()"
      ],
      "metadata": {
        "id": "y2AoiBElJvZf",
        "outputId": "b7fd753e-b78c-41b8-e7dc-2dd0678a3ad9",
        "colab": {
          "base_uri": "https://localhost:8080/",
          "height": 0
        }
      },
      "id": "y2AoiBElJvZf",
      "execution_count": 26,
      "outputs": [
        {
          "output_type": "display_data",
          "data": {
            "text/plain": [
              "<Figure size 1000x1000 with 5 Axes>"
            ],
            "image/png": "[encoded data removed]"
          },
          "metadata": {}
        }
      ]
    },
    {
      "cell_type": "markdown",
      "source": [
        "# Set initial **model**"
      ],
      "metadata": {
        "id": "5td4O6spMA1n"
      },
      "id": "5td4O6spMA1n"
    },
    {
      "cell_type": "code",
      "source": [
        "model = keras.Sequential([\n",
        "    layers.Flatten(input_shape=(28, 28)),\n",
        "    layers.Dense(128, activation='relu'),\n",
        "    layers.Dense(10, activation='softmax')\n",
        "])"
      ],
      "metadata": {
        "id": "k3kdE2NvMIUl"
      },
      "id": "k3kdE2NvMIUl",
      "execution_count": 27,
      "outputs": []
    },
    {
      "cell_type": "markdown",
      "source": [
        "[**`layers.Flatten`**](https://www.tensorflow.org/api_docs/python/tf/keras/layers/Flatten) transforms the formate of the input from a 2-dimensional array (28 by 28) to a one-dimensional array (28 * 28 = 784).\n",
        "\n",
        "> **Also**, *`layers.Flatten` has nothing to do with the learning; it only changes the formate of the input to 1D.*\n",
        "\n"
      ],
      "metadata": {
        "id": "5vUmCIMoU6EW"
      },
      "id": "5vUmCIMoU6EW"
    },
    {
      "cell_type": "markdown",
      "source": [
        "### **Compile** the model"
      ],
      "metadata": {
        "id": "EUnPjYtDad8l"
      },
      "id": "EUnPjYtDad8l"
    },
    {
      "cell_type": "code",
      "source": [
        "# compile the model\n",
        "model.compile(\n",
        "    optimizer='adam',\n",
        "    loss=keras.losses.SparseCategoricalCrossentropy(),\n",
        "    metrics=['accuracy']\n",
        ")"
      ],
      "metadata": {
        "id": "_O6uVSc2N2oV"
      },
      "id": "_O6uVSc2N2oV",
      "execution_count": 28,
      "outputs": []
    },
    {
      "cell_type": "markdown",
      "source": [
        "[**`SparseCategoricalCrossentropy`**](https://www.tensorflow.org/api_docs/python/tf/keras/losses/SparseCategoricalCrossentropy) is a loss function that you can use when there are two or more label classes.\n",
        "\n",
        "\n",
        "<div><br></div>\n",
        "\n",
        "\n",
        "> **NOTE:** labels should be provided as integers. If you want to provide labels using `one-hot` encoding (*e.g. [0, 1, 0...]*), then use `CategoricalCrossentropy` loss."
      ],
      "metadata": {
        "id": "qyvInKRaW2qS"
      },
      "id": "qyvInKRaW2qS"
    },
    {
      "cell_type": "markdown",
      "source": [
        "### **Train** the model\n",
        "It called `model.fit` because it \"*fits*\" the model to the training data."
      ],
      "metadata": {
        "id": "QCyaGgvXbUPg"
      },
      "id": "QCyaGgvXbUPg"
    },
    {
      "cell_type": "code",
      "source": [
        "# fit the model\n",
        "%%time\n",
        "history = model.fit(X_train, y_train,\n",
        "                    epochs=10, verbose=0, validation_split=0.2)"
      ],
      "metadata": {
        "id": "34N6rcSnOVV1",
        "outputId": "ff5f4203-0ad8-4f76-fae6-a7e9f18a3a14",
        "colab": {
          "base_uri": "https://localhost:8080/"
        }
      },
      "id": "34N6rcSnOVV1",
      "execution_count": 29,
      "outputs": [
        {
          "output_type": "stream",
          "name": "stdout",
          "text": [
            "CPU times: user 38.1 s, sys: 3.73 s, total: 41.8 s\n",
            "Wall time: 33.1 s\n"
          ]
        }
      ]
    },
    {
      "cell_type": "markdown",
      "source": [
        "### **Evaluate** the model"
      ],
      "metadata": {
        "id": "17XKXFKNjeOV"
      },
      "id": "17XKXFKNjeOV"
    },
    {
      "cell_type": "code",
      "source": [
        "# see what the model have done...\n",
        "hist = pd.DataFrame(history.history)\n",
        "\n",
        "\n",
        "plt.plot(hist['accuracy'], label='accuracy', color='black')\n",
        "plt.plot(hist['val_accuracy'], label='val_accuracy', color='green')\n",
        "plt.xlabel('Epoch')\n",
        "plt.ylabel('Accuracy')\n",
        "plt.grid(True)\n",
        "plt.ylim([0.80, 0.95])\n",
        "plt.legend()\n",
        "\n",
        "plt.show()"
      ],
      "metadata": {
        "id": "SAR8q15HPUD4",
        "outputId": "3b20a2ee-f20c-4423-ec0d-2c1628827115",
        "colab": {
          "base_uri": "https://localhost:8080/",
          "height": 0
        }
      },
      "id": "SAR8q15HPUD4",
      "execution_count": 30,
      "outputs": [
        {
          "output_type": "display_data",
          "data": {
            "text/plain": [
              "<Figure size 640x480 with 1 Axes>"
            ],
            "image/png": "[encoded data removed]"
          },
          "metadata": {}
        }
      ]
    },
    {
      "cell_type": "code",
      "source": [
        "# See the accuracy on the test set\n",
        "test_loss, test_acc = model.evaluate(X_test,  y_test, verbose=0)\n",
        "\n",
        "print('\\nTest accuracy:', test_acc)"
      ],
      "metadata": {
        "id": "WXS1wty9i9P-",
        "outputId": "9b2a32f4-6bfe-4180-9bf2-ca5649072d58",
        "colab": {
          "base_uri": "https://localhost:8080/"
        }
      },
      "id": "WXS1wty9i9P-",
      "execution_count": 31,
      "outputs": [
        {
          "output_type": "stream",
          "name": "stdout",
          "text": [
            "\n",
            "Test accuracy: 0.8791999816894531\n"
          ]
        }
      ]
    },
    {
      "cell_type": "markdown",
      "source": [
        "The accuracy on the validation and test sets is a little less than the accuracy on the training set and this gab represents \"*overfitting*\".\n",
        "\n",
        "> **Overfitting** is when you model learns the training data so well but it fails to deal with new, unseen data. <br>\n",
        "(( *It's like memorizing a single test question so perfectly you can't answer it in a different way even if the wording changes slightly.* ))"
      ],
      "metadata": {
        "id": "qzT5_0HfeC-k"
      },
      "id": "qzT5_0HfeC-k"
    },
    {
      "cell_type": "markdown",
      "source": [
        "# Improve the **model**\n",
        "There are serveral strategies to deal with overfitting but I'll use L2 and dropout regularization."
      ],
      "metadata": {
        "id": "p2XRUhHLl-fA"
      },
      "id": "p2XRUhHLl-fA"
    },
    {
      "cell_type": "code",
      "source": [
        "# L2 and Dropout regularization\n",
        "\n",
        "model_2 = keras.Sequential([\n",
        "    # input layer\n",
        "    layers.Flatten(input_shape=[28, 28]),\n",
        "\n",
        "    # 3 hidden layers\n",
        "    layers.Dense(64, activation='relu'),\n",
        "    layers.Dense(96, activation='relu', kernel_regularizer='l2'),\n",
        "    layers.Dense(64, activation='relu', kernel_initializer='GlorotUniform'),\n",
        "\n",
        "    # dropout layer\n",
        "    layers.Dropout(rate=0.2),\n",
        "\n",
        "    # output layer\n",
        "    layers.Dense(10, activation='softmax')\n",
        "])\n",
        "\n",
        "# compile the model\n",
        "model_2.compile(optimizer='adam',\n",
        "                loss='sparse_categorical_crossentropy',\n",
        "                metrics=['accuracy'])"
      ],
      "metadata": {
        "id": "TkOGoPuzuaG3"
      },
      "id": "TkOGoPuzuaG3",
      "execution_count": 32,
      "outputs": []
    },
    {
      "cell_type": "code",
      "source": [
        "# fit the model\n",
        "%%time\n",
        "history_2 = model_2.fit(\n",
        "    X_train, y_train,\n",
        "    epochs=10, verbose=0,\n",
        "    validation_split=0.2\n",
        ")"
      ],
      "metadata": {
        "id": "ftYzxNxPy-ji",
        "outputId": "4763c9c5-8c66-4334-de35-40da8af12621",
        "colab": {
          "base_uri": "https://localhost:8080/"
        }
      },
      "id": "ftYzxNxPy-ji",
      "execution_count": 33,
      "outputs": [
        {
          "output_type": "stream",
          "name": "stdout",
          "text": [
            "CPU times: user 33.9 s, sys: 2.7 s, total: 36.6 s\n",
            "Wall time: 42 s\n"
          ]
        }
      ]
    },
    {
      "cell_type": "code",
      "source": [
        "# see what the model have done...\n",
        "hist_2 = pd.DataFrame(history_2.history)\n",
        "\n",
        "\n",
        "plt.plot(hist_2['accuracy'], label='accuracy', color='black')\n",
        "plt.plot(hist_2['val_accuracy'], label='val_accuracy', color='green')\n",
        "plt.xlabel('Epoch')\n",
        "plt.ylabel('Accuracy')\n",
        "plt.grid(True)\n",
        "plt.ylim([0.80, 1])\n",
        "plt.legend()\n",
        "\n",
        "plt.show()"
      ],
      "metadata": {
        "id": "hJ8Z_GmI0a1V",
        "outputId": "a044e39b-d8d3-4679-d87d-a814ac5a06fa",
        "colab": {
          "base_uri": "https://localhost:8080/",
          "height": 455
        }
      },
      "id": "hJ8Z_GmI0a1V",
      "execution_count": 34,
      "outputs": [
        {
          "output_type": "display_data",
          "data": {
            "text/plain": [
              "<Figure size 640x480 with 1 Axes>"
            ],
            "image/png": "[encoded data removed]"
          },
          "metadata": {}
        }
      ]
    },
    {
      "cell_type": "markdown",
      "source": [
        "**More about how to deal with overfitting**:\n",
        "- [Strategies to prevent overfitting](https://www.tensorflow.org/tutorials/keras/overfit_and_underfit#strategies_to_prevent_overfitting). TensorFlow"
      ],
      "metadata": {
        "id": "FbIoSxGF3Zfo"
      },
      "id": "FbIoSxGF3Zfo"
    }
  ],
  "metadata": {
    "kernelspec": {
      "display_name": "Python 3",
      "language": "python",
      "name": "python3"
    },
    "language_info": {
      "codemirror_mode": {
        "name": "ipython",
        "version": 3
      },
      "file_extension": ".py",
      "mimetype": "text/x-python",
      "name": "python",
      "nbconvert_exporter": "python",
      "pygments_lexer": "ipython3",
      "version": "3.8.8"
    },
    "colab": {
      "provenance": [],
      "include_colab_link": true
    }
  },
  "nbformat": 4,
  "nbformat_minor": 5
}