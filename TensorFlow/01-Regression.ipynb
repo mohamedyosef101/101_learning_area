{
  "cells": [
    {
      "cell_type": "markdown",
      "metadata": {
        "id": "view-in-github",
        "colab_type": "text"
      },
      "source": [
        "<a href=\"https://colab.research.google.com/github/mohamedyosef101/learning_area/blob/area/TensorFlow/01-Regression.ipynb\" target=\"_parent\"><img src=\"https://colab.research.google.com/assets/colab-badge.svg\" alt=\"Open In Colab\"/></a>"
      ]
    },
    {
      "cell_type": "markdown",
      "source": [
        "# What is **Regression Analysis**\n",
        "A statistical technique used to investigate the relationship between a dependent variable (target/label) and one or more independent variables (features).\n",
        "\n",
        "\n",
        "## Typical architecture of a regression neural network.\n",
        "There are many different ways but this is a generic setup.\n",
        "\n",
        "\n",
        "\n",
        "| **Hyperparameter** | **Typical value** |\n",
        "| --- | --- |\n",
        "| Input layer shape | Same shape as number of features (e.g. 3 for # bedrooms, # bathrooms, # car spaces in housing price prediction) |\n",
        "| Hidden layer(s) | Problem specific, minimum = 1, maximum = unlimited |\n",
        "| Neurons per hidden layer | Problem specific, generally 10 to 100 |\n",
        "| Output layer shape | Same shape as desired prediction shape (e.g. 1 for house price) |\n",
        "| Hidden activation | Usually [ReLU](https://www.kaggle.com/dansbecker/rectified-linear-units-relu-in-deep-learning) (rectified linear unit) |\n",
        "| Output activation | None, ReLU, logistic/tanh |\n",
        "| Loss function | [MSE](https://en.wikipedia.org/wiki/Mean_squared_error) (mean square error) or [MAE](https://en.wikipedia.org/wiki/Mean_absolute_error) (mean absolute error)/Huber (combination of MAE/MSE) if outliers |\n",
        "| Optimizer | [SGD](https://www.tensorflow.org/api_docs/python/tf/keras/optimizers/SGD) (stochastic gradient descent), [Adam](https://www.tensorflow.org/api_docs/python/tf/keras/optimizers/Adam) |\n",
        "\n",
        "*Table 1: Typical architecture of a regression network. Source: Adapted from page 293 of [Hands-On Machine Learning with Scikit-Learn, Keras & TensorFlow Book by Aurélien Géron](https://www.oreilly.com/library/view/hands-on-machine-learning/9781492032632/)*"
      ],
      "metadata": {
        "id": "bhoYqoVmjhUK"
      },
      "id": "bhoYqoVmjhUK"
    },
    {
      "cell_type": "code",
      "source": [
        "# import the library\n",
        "import tensorflow as tf\n",
        "import datetime as dt\n",
        "print(f\"Notebook last run: {dt.datetime.now()}\")"
      ],
      "metadata": {
        "id": "h_Mpu7hJlR26",
        "outputId": "d1d59469-be6c-48fc-d015-ab4561d97e59",
        "colab": {
          "base_uri": "https://localhost:8080/"
        }
      },
      "id": "h_Mpu7hJlR26",
      "execution_count": 1,
      "outputs": [
        {
          "output_type": "stream",
          "name": "stdout",
          "text": [
            "Notebook last run: 2024-01-02 19:11:24.019511\n"
          ]
        }
      ]
    },
    {
      "cell_type": "code",
      "source": [
        "# Let's play with some linear data\n",
        "\n",
        "import numpy as np\n",
        "import matplotlib.pyplot as plt\n",
        "import seaborn as sns\n",
        "\n",
        "# Create features\n",
        "X = np.array([-7.0, -4.0, -1.0, 2.0, 5.0, 8.0, 11.0, 14.0])\n",
        "\n",
        "# Create labels\n",
        "y = np.array([3.0, 6.0, 9.0, 12.0, 15.0, 18.0, 21.0, 24.0])\n",
        "\n",
        "# viz\n",
        "sns.lineplot(x=X, y=y)"
      ],
      "metadata": {
        "id": "1AzQQZp4lkrh",
        "outputId": "a9615ac7-8894-4316-aaeb-fcad0e160ed4",
        "colab": {
          "base_uri": "https://localhost:8080/",
          "height": 452
        }
      },
      "id": "1AzQQZp4lkrh",
      "execution_count": 3,
      "outputs": [
        {
          "output_type": "execute_result",
          "data": {
            "text/plain": [
              "<Axes: >"
            ]
          },
          "metadata": {},
          "execution_count": 3
        },
        {
          "output_type": "display_data",
          "data": {
            "text/plain": [
              "<Figure size 640x480 with 1 Axes>"
            ],
            "image/png": "[encoded data removed]"
          },
          "metadata": {}
        }
      ]
    },
    {
      "cell_type": "code",
      "source": [
        "tf.__version__"
      ],
      "metadata": {
        "id": "vok8rHzDnRsB",
        "outputId": "eb77252f-cb24-4336-8388-511cef271f45",
        "colab": {
          "base_uri": "https://localhost:8080/",
          "height": 35
        }
      },
      "id": "vok8rHzDnRsB",
      "execution_count": 4,
      "outputs": [
        {
          "output_type": "execute_result",
          "data": {
            "text/plain": [
              "'2.15.0'"
            ],
            "application/vnd.google.colaboratory.intrinsic+json": {
              "type": "string"
            }
          },
          "metadata": {},
          "execution_count": 4
        }
      ]
    },
    {
      "cell_type": "code",
      "source": [
        "# steps in modelling with tensorflow\n",
        "\n",
        "# 1. create the model\n",
        "model = tf.keras.Sequential([\n",
        "    tf.keras.layers.Dense(1)\n",
        "])\n",
        "\n",
        "# 2. compile the model\n",
        "model.compile(loss=tf.keras.losses.mae,\n",
        "              optimizer=tf.keras.optimizers.SGD(),\n",
        "              metrics=[\"mae\"])\n",
        "\n",
        "# 3. fit the model\n",
        "model.fit(tf.expand_dims(X, axis=-1), y, epochs=5)"
      ],
      "metadata": {
        "id": "OB2QTAsHniBi",
        "outputId": "32660e74-502d-4a3d-9642-65b525476288",
        "colab": {
          "base_uri": "https://localhost:8080/"
        }
      },
      "id": "OB2QTAsHniBi",
      "execution_count": 6,
      "outputs": [
        {
          "output_type": "stream",
          "name": "stdout",
          "text": [
            "Epoch 1/5\n",
            "1/1 [==============================] - 1s 749ms/step - loss: 18.1465 - mae: 18.1465\n",
            "Epoch 2/5\n",
            "1/1 [==============================] - 0s 12ms/step - loss: 17.8653 - mae: 17.8653\n",
            "Epoch 3/5\n",
            "1/1 [==============================] - 0s 11ms/step - loss: 17.5840 - mae: 17.5840\n",
            "Epoch 4/5\n",
            "1/1 [==============================] - 0s 10ms/step - loss: 17.3028 - mae: 17.3028\n",
            "Epoch 5/5\n",
            "1/1 [==============================] - 0s 12ms/step - loss: 17.0215 - mae: 17.0215\n"
          ]
        },
        {
          "output_type": "execute_result",
          "data": {
            "text/plain": [
              "<keras.src.callbacks.History at 0x7fdd620c3e80>"
            ]
          },
          "metadata": {},
          "execution_count": 6
        }
      ]
    },
    {
      "cell_type": "code",
      "source": [
        "# test the model\n",
        "model.predict([17.0])\n",
        "\n",
        "# the answer should be close to 27.0"
      ],
      "metadata": {
        "id": "C_ctY7sPpViB",
        "outputId": "354ea571-07d7-432e-9830-e427b1ff7e5e",
        "colab": {
          "base_uri": "https://localhost:8080/"
        }
      },
      "id": "C_ctY7sPpViB",
      "execution_count": 7,
      "outputs": [
        {
          "output_type": "stream",
          "name": "stdout",
          "text": [
            "1/1 [==============================] - 0s 177ms/step\n"
          ]
        },
        {
          "output_type": "execute_result",
          "data": {
            "text/plain": [
              "array([[-12.974434]], dtype=float32)"
            ]
          },
          "metadata": {},
          "execution_count": 7
        }
      ]
    },
    {
      "cell_type": "markdown",
      "source": [
        "# Improving the model\n",
        "common ways:\n",
        "* Adding layers\n",
        "* Increase the number of hidden units\n",
        "* Change the activation functions\n",
        "* Change the optimization function\n",
        "* Change the learning rate\n",
        "* Fitting on more data\n",
        "* Fitting for longer"
      ],
      "metadata": {
        "id": "I12FTbeUphwF"
      },
      "id": "I12FTbeUphwF"
    },
    {
      "cell_type": "code",
      "source": [
        "# model 102\n",
        "tf.random.set_seed(7) # 42 is famous fo good luck but I love 7\n",
        "\n",
        "# evaluate the model\n",
        "model102 = tf.keras.Sequential([\n",
        "    tf.keras.layers.Dense(1)\n",
        "])\n",
        "\n",
        "# compile the new model\n",
        "model102.compile(loss=tf.keras.losses.mae,\n",
        "                 optimizer=tf.keras.optimizers.SGD(),\n",
        "                 metrics=[\"mae\"])\n",
        "\n",
        "# Fit the model\n",
        "model.fit(tf.expand_dims(X, axis=-1), y, epochs=100)\n"
      ],
      "metadata": {
        "id": "ekgIPDtrpfFS",
        "outputId": "9767eb8b-1992-475f-d96b-64d7e69babf5",
        "colab": {
          "base_uri": "https://localhost:8080/"
        }
      },
      "id": "ekgIPDtrpfFS",
      "execution_count": 8,
      "outputs": [
        {
          "output_type": "stream",
          "name": "stdout",
          "text": [
            "Epoch 1/100\n",
            "1/1 [==============================] - 0s 62ms/step - loss: 16.7403 - mae: 16.7403\n",
            "Epoch 2/100\n",
            "1/1 [==============================] - 0s 12ms/step - loss: 16.4590 - mae: 16.4590\n",
            "Epoch 3/100\n",
            "1/1 [==============================] - 0s 12ms/step - loss: 16.1778 - mae: 16.1778\n",
            "Epoch 4/100\n",
            "1/1 [==============================] - 0s 11ms/step - loss: 15.8965 - mae: 15.8965\n",
            "Epoch 5/100\n",
            "1/1 [==============================] - 0s 10ms/step - loss: 15.6153 - mae: 15.6153\n",
            "Epoch 6/100\n",
            "1/1 [==============================] - 0s 12ms/step - loss: 15.3340 - mae: 15.3340\n",
            "Epoch 7/100\n",
            "1/1 [==============================] - 0s 11ms/step - loss: 15.0528 - mae: 15.0528\n",
            "Epoch 8/100\n",
            "1/1 [==============================] - 0s 12ms/step - loss: 14.8027 - mae: 14.8027\n",
            "Epoch 9/100\n",
            "1/1 [==============================] - 0s 10ms/step - loss: 14.6702 - mae: 14.6702\n",
            "Epoch 10/100\n",
            "1/1 [==============================] - 0s 11ms/step - loss: 14.5377 - mae: 14.5377\n",
            "Epoch 11/100\n",
            "1/1 [==============================] - 0s 13ms/step - loss: 14.4052 - mae: 14.4052\n",
            "Epoch 12/100\n",
            "1/1 [==============================] - 0s 12ms/step - loss: 14.2727 - mae: 14.2727\n",
            "Epoch 13/100\n",
            "1/1 [==============================] - 0s 11ms/step - loss: 14.1402 - mae: 14.1402\n",
            "Epoch 14/100\n",
            "1/1 [==============================] - 0s 11ms/step - loss: 14.0077 - mae: 14.0077\n",
            "Epoch 15/100\n",
            "1/1 [==============================] - 0s 11ms/step - loss: 13.8752 - mae: 13.8752\n",
            "Epoch 16/100\n",
            "1/1 [==============================] - 0s 13ms/step - loss: 13.7427 - mae: 13.7427\n",
            "Epoch 17/100\n",
            "1/1 [==============================] - 0s 12ms/step - loss: 13.6102 - mae: 13.6102\n",
            "Epoch 18/100\n",
            "1/1 [==============================] - 0s 12ms/step - loss: 13.4777 - mae: 13.4777\n",
            "Epoch 19/100\n",
            "1/1 [==============================] - 0s 11ms/step - loss: 13.3452 - mae: 13.3452\n",
            "Epoch 20/100\n",
            "1/1 [==============================] - 0s 12ms/step - loss: 13.2127 - mae: 13.2127\n",
            "Epoch 21/100\n",
            "1/1 [==============================] - 0s 11ms/step - loss: 13.0802 - mae: 13.0802\n",
            "Epoch 22/100\n",
            "1/1 [==============================] - 0s 11ms/step - loss: 12.9477 - mae: 12.9477\n",
            "Epoch 23/100\n",
            "1/1 [==============================] - 0s 12ms/step - loss: 12.8152 - mae: 12.8152\n",
            "Epoch 24/100\n",
            "1/1 [==============================] - 0s 13ms/step - loss: 12.6827 - mae: 12.6827\n",
            "Epoch 25/100\n",
            "1/1 [==============================] - 0s 11ms/step - loss: 12.5502 - mae: 12.5502\n",
            "Epoch 26/100\n",
            "1/1 [==============================] - 0s 11ms/step - loss: 12.4177 - mae: 12.4177\n",
            "Epoch 27/100\n",
            "1/1 [==============================] - 0s 11ms/step - loss: 12.2852 - mae: 12.2852\n",
            "Epoch 28/100\n",
            "1/1 [==============================] - 0s 11ms/step - loss: 12.1527 - mae: 12.1527\n",
            "Epoch 29/100\n",
            "1/1 [==============================] - 0s 10ms/step - loss: 12.0202 - mae: 12.0202\n",
            "Epoch 30/100\n",
            "1/1 [==============================] - 0s 11ms/step - loss: 11.8877 - mae: 11.8877\n",
            "Epoch 31/100\n",
            "1/1 [==============================] - 0s 14ms/step - loss: 11.7552 - mae: 11.7552\n",
            "Epoch 32/100\n",
            "1/1 [==============================] - 0s 11ms/step - loss: 11.6227 - mae: 11.6227\n",
            "Epoch 33/100\n",
            "1/1 [==============================] - 0s 12ms/step - loss: 11.4902 - mae: 11.4902\n",
            "Epoch 34/100\n",
            "1/1 [==============================] - 0s 14ms/step - loss: 11.3577 - mae: 11.3577\n",
            "Epoch 35/100\n",
            "1/1 [==============================] - 0s 11ms/step - loss: 11.2252 - mae: 11.2252\n",
            "Epoch 36/100\n",
            "1/1 [==============================] - 0s 12ms/step - loss: 11.0927 - mae: 11.0927\n",
            "Epoch 37/100\n",
            "1/1 [==============================] - 0s 14ms/step - loss: 10.9602 - mae: 10.9602\n",
            "Epoch 38/100\n",
            "1/1 [==============================] - 0s 12ms/step - loss: 10.8277 - mae: 10.8277\n",
            "Epoch 39/100\n",
            "1/1 [==============================] - 0s 11ms/step - loss: 10.6952 - mae: 10.6952\n",
            "Epoch 40/100\n",
            "1/1 [==============================] - 0s 14ms/step - loss: 10.5627 - mae: 10.5627\n",
            "Epoch 41/100\n",
            "1/1 [==============================] - 0s 12ms/step - loss: 10.4302 - mae: 10.4302\n",
            "Epoch 42/100\n",
            "1/1 [==============================] - 0s 14ms/step - loss: 10.2977 - mae: 10.2977\n",
            "Epoch 43/100\n",
            "1/1 [==============================] - 0s 11ms/step - loss: 10.1652 - mae: 10.1652\n",
            "Epoch 44/100\n",
            "1/1 [==============================] - 0s 13ms/step - loss: 10.0327 - mae: 10.0327\n",
            "Epoch 45/100\n",
            "1/1 [==============================] - 0s 10ms/step - loss: 9.9002 - mae: 9.9002\n",
            "Epoch 46/100\n",
            "1/1 [==============================] - 0s 10ms/step - loss: 9.7677 - mae: 9.7677\n",
            "Epoch 47/100\n",
            "1/1 [==============================] - 0s 10ms/step - loss: 9.6352 - mae: 9.6352\n",
            "Epoch 48/100\n",
            "1/1 [==============================] - 0s 11ms/step - loss: 9.5027 - mae: 9.5027\n",
            "Epoch 49/100\n",
            "1/1 [==============================] - 0s 10ms/step - loss: 9.3702 - mae: 9.3702\n",
            "Epoch 50/100\n",
            "1/1 [==============================] - 0s 10ms/step - loss: 9.2377 - mae: 9.2377\n",
            "Epoch 51/100\n",
            "1/1 [==============================] - 0s 11ms/step - loss: 9.1052 - mae: 9.1052\n",
            "Epoch 52/100\n",
            "1/1 [==============================] - 0s 15ms/step - loss: 8.9727 - mae: 8.9727\n",
            "Epoch 53/100\n",
            "1/1 [==============================] - 0s 13ms/step - loss: 8.8402 - mae: 8.8402\n",
            "Epoch 54/100\n",
            "1/1 [==============================] - 0s 14ms/step - loss: 8.7077 - mae: 8.7077\n",
            "Epoch 55/100\n",
            "1/1 [==============================] - 0s 11ms/step - loss: 8.5752 - mae: 8.5752\n",
            "Epoch 56/100\n",
            "1/1 [==============================] - 0s 13ms/step - loss: 8.4427 - mae: 8.4427\n",
            "Epoch 57/100\n",
            "1/1 [==============================] - 0s 11ms/step - loss: 8.3102 - mae: 8.3102\n",
            "Epoch 58/100\n",
            "1/1 [==============================] - 0s 11ms/step - loss: 8.1777 - mae: 8.1777\n",
            "Epoch 59/100\n",
            "1/1 [==============================] - 0s 11ms/step - loss: 8.0452 - mae: 8.0452\n",
            "Epoch 60/100\n",
            "1/1 [==============================] - 0s 10ms/step - loss: 7.9127 - mae: 7.9127\n",
            "Epoch 61/100\n",
            "1/1 [==============================] - 0s 11ms/step - loss: 7.7802 - mae: 7.7802\n",
            "Epoch 62/100\n",
            "1/1 [==============================] - 0s 12ms/step - loss: 7.6477 - mae: 7.6477\n",
            "Epoch 63/100\n",
            "1/1 [==============================] - 0s 11ms/step - loss: 7.5152 - mae: 7.5152\n",
            "Epoch 64/100\n",
            "1/1 [==============================] - 0s 10ms/step - loss: 7.3827 - mae: 7.3827\n",
            "Epoch 65/100\n",
            "1/1 [==============================] - 0s 11ms/step - loss: 7.2502 - mae: 7.2502\n",
            "Epoch 66/100\n",
            "1/1 [==============================] - 0s 11ms/step - loss: 7.1177 - mae: 7.1177\n",
            "Epoch 67/100\n",
            "1/1 [==============================] - 0s 11ms/step - loss: 6.9900 - mae: 6.9900\n",
            "Epoch 68/100\n",
            "1/1 [==============================] - 0s 13ms/step - loss: 6.9844 - mae: 6.9844\n",
            "Epoch 69/100\n",
            "1/1 [==============================] - 0s 11ms/step - loss: 6.9788 - mae: 6.9788\n",
            "Epoch 70/100\n",
            "1/1 [==============================] - 0s 12ms/step - loss: 6.9731 - mae: 6.9731\n",
            "Epoch 71/100\n",
            "1/1 [==============================] - 0s 12ms/step - loss: 6.9675 - mae: 6.9675\n",
            "Epoch 72/100\n",
            "1/1 [==============================] - 0s 13ms/step - loss: 6.9619 - mae: 6.9619\n",
            "Epoch 73/100\n",
            "1/1 [==============================] - 0s 13ms/step - loss: 6.9563 - mae: 6.9563\n",
            "Epoch 74/100\n",
            "1/1 [==============================] - 0s 11ms/step - loss: 6.9506 - mae: 6.9506\n",
            "Epoch 75/100\n",
            "1/1 [==============================] - 0s 10ms/step - loss: 6.9450 - mae: 6.9450\n",
            "Epoch 76/100\n",
            "1/1 [==============================] - 0s 15ms/step - loss: 6.9394 - mae: 6.9394\n",
            "Epoch 77/100\n",
            "1/1 [==============================] - 0s 10ms/step - loss: 6.9338 - mae: 6.9338\n",
            "Epoch 78/100\n",
            "1/1 [==============================] - 0s 11ms/step - loss: 6.9281 - mae: 6.9281\n",
            "Epoch 79/100\n",
            "1/1 [==============================] - 0s 11ms/step - loss: 6.9225 - mae: 6.9225\n",
            "Epoch 80/100\n",
            "1/1 [==============================] - 0s 11ms/step - loss: 6.9169 - mae: 6.9169\n",
            "Epoch 81/100\n",
            "1/1 [==============================] - 0s 10ms/step - loss: 6.9113 - mae: 6.9113\n",
            "Epoch 82/100\n",
            "1/1 [==============================] - 0s 16ms/step - loss: 6.9056 - mae: 6.9056\n",
            "Epoch 83/100\n",
            "1/1 [==============================] - 0s 11ms/step - loss: 6.9000 - mae: 6.9000\n",
            "Epoch 84/100\n",
            "1/1 [==============================] - 0s 10ms/step - loss: 6.8944 - mae: 6.8944\n",
            "Epoch 85/100\n",
            "1/1 [==============================] - 0s 10ms/step - loss: 6.8888 - mae: 6.8888\n",
            "Epoch 86/100\n",
            "1/1 [==============================] - 0s 11ms/step - loss: 6.8831 - mae: 6.8831\n",
            "Epoch 87/100\n",
            "1/1 [==============================] - 0s 11ms/step - loss: 6.8775 - mae: 6.8775\n",
            "Epoch 88/100\n",
            "1/1 [==============================] - 0s 11ms/step - loss: 6.8719 - mae: 6.8719\n",
            "Epoch 89/100\n",
            "1/1 [==============================] - 0s 11ms/step - loss: 6.8663 - mae: 6.8663\n",
            "Epoch 90/100\n",
            "1/1 [==============================] - 0s 11ms/step - loss: 6.8606 - mae: 6.8606\n",
            "Epoch 91/100\n",
            "1/1 [==============================] - 0s 11ms/step - loss: 6.8550 - mae: 6.8550\n",
            "Epoch 92/100\n",
            "1/1 [==============================] - 0s 11ms/step - loss: 6.8494 - mae: 6.8494\n",
            "Epoch 93/100\n",
            "1/1 [==============================] - 0s 11ms/step - loss: 6.8438 - mae: 6.8438\n",
            "Epoch 94/100\n",
            "1/1 [==============================] - 0s 11ms/step - loss: 6.8381 - mae: 6.8381\n",
            "Epoch 95/100\n",
            "1/1 [==============================] - 0s 11ms/step - loss: 6.8325 - mae: 6.8325\n",
            "Epoch 96/100\n",
            "1/1 [==============================] - 0s 11ms/step - loss: 6.8269 - mae: 6.8269\n",
            "Epoch 97/100\n",
            "1/1 [==============================] - 0s 11ms/step - loss: 6.8213 - mae: 6.8213\n",
            "Epoch 98/100\n",
            "1/1 [==============================] - 0s 10ms/step - loss: 6.8156 - mae: 6.8156\n",
            "Epoch 99/100\n",
            "1/1 [==============================] - 0s 10ms/step - loss: 6.8100 - mae: 6.8100\n",
            "Epoch 100/100\n",
            "1/1 [==============================] - 0s 11ms/step - loss: 6.8044 - mae: 6.8044\n"
          ]
        },
        {
          "output_type": "execute_result",
          "data": {
            "text/plain": [
              "<keras.src.callbacks.History at 0x7fdd61427340>"
            ]
          },
          "metadata": {},
          "execution_count": 8
        }
      ]
    },
    {
      "cell_type": "code",
      "source": [
        "# Try and predict what y would be if X was 17.0\n",
        "model.predict([17.0]) # the right answer is 27.0 (y = X + 10)"
      ],
      "metadata": {
        "id": "hTQvd44Frs4z",
        "outputId": "313391cb-b447-4374-e245-ce444ac0eef9",
        "colab": {
          "base_uri": "https://localhost:8080/"
        }
      },
      "id": "hTQvd44Frs4z",
      "execution_count": 9,
      "outputs": [
        {
          "output_type": "stream",
          "name": "stdout",
          "text": [
            "1/1 [==============================] - 0s 49ms/step\n"
          ]
        },
        {
          "output_type": "execute_result",
          "data": {
            "text/plain": [
              "array([[29.27556]], dtype=float32)"
            ]
          },
          "metadata": {},
          "execution_count": 9
        }
      ]
    }
  ],
  "metadata": {
    "kernelspec": {
      "display_name": "Python 3",
      "language": "python",
      "name": "python3"
    },
    "language_info": {
      "codemirror_mode": {
        "name": "ipython",
        "version": 3
      },
      "file_extension": ".py",
      "mimetype": "text/x-python",
      "name": "python",
      "nbconvert_exporter": "python",
      "pygments_lexer": "ipython3",
      "version": "3.8.8"
    },
    "colab": {
      "provenance": [],
      "include_colab_link": true
    }
  },
  "nbformat": 4,
  "nbformat_minor": 5
}