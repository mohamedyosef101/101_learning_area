{
  "cells": [
    {
      "cell_type": "markdown",
      "metadata": {
        "id": "view-in-github",
        "colab_type": "text"
      },
      "source": [
        "<a href=\"https://colab.research.google.com/github/mohamedyosef101/learning_area/blob/area/TensorFlow/00_Intro_to_Tensors.ipynb\" target=\"_parent\"><img src=\"https://colab.research.google.com/assets/colab-badge.svg\" alt=\"Open In Colab\"/></a>"
      ]
    },
    {
      "cell_type": "markdown",
      "source": [
        "# What is a Tensor?\n",
        "The word tensor comes form an old latin word which means to stretch.\n",
        "\n",
        "**Tensors:** are multi-dimensional arrays.\n",
        "\n",
        "![tesnor](https://www.tensorflow.org/static/guide/images/tensor/3-axis_numpy.png)\n",
        "\n",
        "\n",
        "*resources:*\n",
        "- TensorFlow Core. [*Introduction to Tensors*](https://www.tensorflow.org/guide/tensor)\n",
        "\n",
        "- Dan Fleisch. 2011. [*What's a Tensor?*](https://youtu.be/f5liqUk0ZTw?si=eoUM7IJ8PbYyvK1I). YouTube."
      ],
      "metadata": {
        "id": "spoAPopNccWw"
      },
      "id": "spoAPopNccWw"
    }
  ],
  "metadata": {
    "kernelspec": {
      "display_name": "Python 3",
      "language": "python",
      "name": "python3"
    },
    "language_info": {
      "codemirror_mode": {
        "name": "ipython",
        "version": 3
      },
      "file_extension": ".py",
      "mimetype": "text/x-python",
      "name": "python",
      "nbconvert_exporter": "python",
      "pygments_lexer": "ipython3",
      "version": "3.8.8"
    },
    "colab": {
      "provenance": [],
      "include_colab_link": true
    }
  },
  "nbformat": 4,
  "nbformat_minor": 5
}