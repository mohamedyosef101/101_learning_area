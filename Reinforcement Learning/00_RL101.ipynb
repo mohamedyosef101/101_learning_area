{
  "cells": [
    {
      "cell_type": "markdown",
      "metadata": {
        "id": "view-in-github",
        "colab_type": "text"
      },
      "source": [
        "<a href=\"https://colab.research.google.com/github/mohamedyosef101/101_learning_area/blob/area/Reinforcement%20Learning/00_RL101.ipynb\" target=\"_parent\"><img src=\"https://colab.research.google.com/assets/colab-badge.svg\" alt=\"Open In Colab\"/></a>"
      ]
    },
    {
      "cell_type": "markdown",
      "source": [
        "**Give a look to:**\n",
        "\n",
        "* Atarimania ROMs: http://www.atarimania.com/roms/Roms.rar\n",
        "* Swig: http://www.swig.org/Doc1.3/Windows.html"
      ],
      "metadata": {
        "id": "-UGVhpx5HDXQ"
      },
      "id": "-UGVhpx5HDXQ"
    },
    {
      "cell_type": "markdown",
      "source": [
        "# 1. Get it **ready**"
      ],
      "metadata": {
        "id": "xNeIvlxXGqmR"
      },
      "id": "xNeIvlxXGqmR"
    },
    {
      "cell_type": "markdown",
      "source": [
        "Stable Baselines is a reinforcement learning library that allows you to work with model-free algorithms.\n",
        "> *For more, read the documentation of  [Stable Baselines 3](https://stable-baselines3.readthedocs.io/en/master/)*."
      ],
      "metadata": {
        "id": "Vt4m-TQsHmIz"
      },
      "id": "Vt4m-TQsHmIz"
    },
    {
      "cell_type": "code",
      "source": [
        "!pip install stable-baselines3[extra]"
      ],
      "metadata": {
        "collapsed": true,
        "id": "I2Ta4K-aGwT9"
      },
      "id": "I2Ta4K-aGwT9",
      "execution_count": null,
      "outputs": []
    },
    {
      "cell_type": "code",
      "source": [
        "import os\n",
        "import gymnasium as gym\n",
        "from stable_baselines3 import PPO\n",
        "from stable_baselines3.common.vec_env import DummyVecEnv as dve\n",
        "from stable_baselines3.common.evaluation import evaluate_policy"
      ],
      "metadata": {
        "id": "IlMDrR0CJltm"
      },
      "id": "IlMDrR0CJltm",
      "execution_count": 11,
      "outputs": []
    },
    {
      "cell_type": "markdown",
      "source": [
        "# 2. Load the **environment**"
      ],
      "metadata": {
        "id": "bEXz_5CWKVXX"
      },
      "id": "bEXz_5CWKVXX"
    },
    {
      "cell_type": "markdown",
      "source": [
        "This environment corresponds to the version of the cart-pole problem described by *Barto, Sutton, and Anderson* in “[Neuronlike Adaptive Elements That Can Solve Difficult Learning Control Problem](https://ieeexplore.ieee.org/document/6313077)”.\n",
        "\n",
        "A pole is attached by an un-actuated joint to a cart, which moves along a frictionless track. The pendulum is placed upright on the cart and the goal is to balance the pole by applying forces in the left and right direction on the cart.\n",
        "\n",
        "<img src=\"https://gymnasium.farama.org/_images/cart_pole.gif\" width=\"480\">\n",
        "\n",
        "> *For more, read [Cart Pole Documentation](https://gymnasium.farama.org/environments/classic_control/cart_pole/) on [Gymnasium](https://gymnasium.farama.org/)*"
      ],
      "metadata": {
        "id": "C0N2B_AqQRXx"
      },
      "id": "C0N2B_AqQRXx"
    },
    {
      "cell_type": "code",
      "source": [
        "# Creating the environment\n",
        "env = gym.make('CartPole-v1')\n",
        "\n",
        "# Reset the environment\n",
        "observation, info = env.reset()"
      ],
      "metadata": {
        "id": "3X9IKja6Rj8d"
      },
      "id": "3X9IKja6Rj8d",
      "execution_count": 15,
      "outputs": []
    },
    {
      "cell_type": "markdown",
      "source": [
        "# I found a problem with the code so I will compelete this project later..."
      ],
      "metadata": {
        "id": "RBAZMKjJ4aHl"
      },
      "id": "RBAZMKjJ4aHl"
    }
  ],
  "metadata": {
    "kernelspec": {
      "display_name": "Python 3",
      "name": "python3"
    },
    "language_info": {
      "codemirror_mode": {
        "name": "ipython",
        "version": 3
      },
      "file_extension": ".py",
      "mimetype": "text/x-python",
      "name": "python",
      "nbconvert_exporter": "python",
      "pygments_lexer": "ipython3",
      "version": "3.8.8"
    },
    "colab": {
      "provenance": [],
      "include_colab_link": true
    },
    "accelerator": "TPU"
  },
  "nbformat": 4,
  "nbformat_minor": 5
}