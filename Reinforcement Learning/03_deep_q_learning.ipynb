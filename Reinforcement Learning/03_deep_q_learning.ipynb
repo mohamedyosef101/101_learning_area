{
  "cells": [
    {
      "cell_type": "markdown",
      "source": [
        "**Source:** [huggingface.co](https://huggingface.co/learn/deep-rl-course/unit4/hands-on)"
      ],
      "metadata": {
        "id": "YtBYkYIjb3Ji"
      },
      "id": "YtBYkYIjb3Ji"
    },
    {
      "cell_type": "markdown",
      "source": [
        "# Set up"
      ],
      "metadata": {
        "id": "f5RweVjncImz"
      },
      "id": "f5RweVjncImz"
    },
    {
      "cell_type": "code",
      "source": [
        "!pip install gymnasium pygame pyglet pickle5 pyyaml\n",
        "!sudo apt-get update\n",
        "!sudo apt-get install -y python-opengl\n",
        "!apt install ffmpeg xvfb\n",
        "!pip3 install pyvirtualdisplay"
      ],
      "metadata": {
        "id": "pHIpd5Y5cCdO"
      },
      "id": "pHIpd5Y5cCdO",
      "execution_count": null,
      "outputs": []
    }
  ],
  "metadata": {
    "kernelspec": {
      "display_name": "Python 3",
      "language": "python",
      "name": "python3"
    },
    "language_info": {
      "codemirror_mode": {
        "name": "ipython",
        "version": 3
      },
      "file_extension": ".py",
      "mimetype": "text/x-python",
      "name": "python",
      "nbconvert_exporter": "python",
      "pygments_lexer": "ipython3",
      "version": "3.8.8"
    },
    "colab": {
      "provenance": []
    }
  },
  "nbformat": 4,
  "nbformat_minor": 5
}