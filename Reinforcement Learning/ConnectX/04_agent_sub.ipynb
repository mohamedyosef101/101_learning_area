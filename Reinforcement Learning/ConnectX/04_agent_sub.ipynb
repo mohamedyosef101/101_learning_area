{
  "cells": [
    {
      "cell_type": "markdown",
      "metadata": {
        "id": "view-in-github",
        "colab_type": "text"
      },
      "source": [
        "<a href=\"https://colab.research.google.com/github/mohamedyosef101/101_learning_area/blob/area/Reinforcement%20Learning/ConnectX/04_agent_sub.ipynb\" target=\"_parent\"><img src=\"https://colab.research.google.com/assets/colab-badge.svg\" alt=\"Open In Colab\"/></a>"
      ]
    },
    {
      "cell_type": "markdown",
      "source": [
        "# **Deep RL** with sb3 and Gymnasium (PPO)"
      ],
      "metadata": {
        "id": "O6J27sCjElu6"
      },
      "id": "O6J27sCjElu6"
    },
    {
      "cell_type": "code",
      "source": [
        "%%capture\n",
        "!pip install swig cmake ffmpeg pyglet\n",
        "!pip install pyVirtualDisplay\n",
        "!pip install PyOpenGL PyOpenGL_accelerate\n",
        "!pip install Box2D Box2D-kengz stable-baselines3[extra]\n",
        "!pip install kaggle_environments"
      ],
      "metadata": {
        "id": "GuZegeWZE5u7"
      },
      "id": "GuZegeWZE5u7",
      "execution_count": null,
      "outputs": []
    },
    {
      "cell_type": "markdown",
      "source": [
        "# Step 0. **Setup**"
      ],
      "metadata": {
        "id": "UAxNpneyFofG"
      },
      "id": "UAxNpneyFofG"
    },
    {
      "cell_type": "code",
      "source": [
        "import gymnasium as gym\n",
        "import stable_baselines3 as sb3\n",
        "\n",
        "import os\n",
        "import time\n",
        "import pandas as pd\n",
        "import numpy as np\n",
        "import matplotlib.pyplot as plt\n",
        "\n",
        "import seaborn as sns\n",
        "sns.set()\n",
        "\n",
        "import warnings\n",
        "warnings.filterwarnings('ignore')\n",
        "\n",
        "import torch\n",
        "import torch.nn as nn\n",
        "import torch.nn.functional as F\n",
        "\n",
        "from random import choice\n",
        "from gymnasium import spaces\n",
        "from kaggle_environments import evaluate, make, utils\n",
        "from stable_baselines3.common.monitor import Monitor\n",
        "from stable_baselines3.common.vec_env import DummyVecEnv\n",
        "from stable_baselines3.common.callbacks import EvalCallback\n",
        "from stable_baselines3.common.callbacks import StopTrainingOnNoModelImprovement\n",
        "from stable_baselines3.common.env_checker import check_env"
      ],
      "metadata": {
        "id": "_De_wrLkFmyJ"
      },
      "id": "_De_wrLkFmyJ",
      "execution_count": null,
      "outputs": []
    },
    {
      "cell_type": "markdown",
      "source": [
        "Connect X has two default agents `random` and `negamax`. In the cell below, I'll let two `random` agents play."
      ],
      "metadata": {
        "id": "bIIPOcatMdKi"
      },
      "id": "bIIPOcatMdKi"
    },
    {
      "cell_type": "code",
      "source": [
        "# create the environment\n",
        "env = make(\"connectx\", debug=True)\n",
        "\n",
        "# play an example\n",
        "env.run([\"random\", \"random\"])\n",
        "env.render(mode=\"ipython\")"
      ],
      "metadata": {
        "id": "KA5hP1PLLHLu"
      },
      "id": "KA5hP1PLLHLu",
      "execution_count": null,
      "outputs": []
    },
    {
      "cell_type": "markdown",
      "source": [
        "# **References**\n",
        "* Pelin Keskin. (Jul 2023). [*Deep RL with stable_baselines3 and Gymnasium (PPO)*](https://www.kaggle.com/code/pelinkeskin/deep-rl-with-stable-baseline3-and-gymnasium-ppo). Kaggle.\n",
        "* Alexis Cook. [*Intro to Game AI and RL*](https://www.kaggle.com/learn/intro-to-game-ai-and-reinforcement-learning). Kaggle Learn."
      ],
      "metadata": {
        "id": "pTEtKd0fLhZU"
      },
      "id": "pTEtKd0fLhZU"
    }
  ],
  "metadata": {
    "kernelspec": {
      "display_name": "Python 3",
      "language": "python",
      "name": "python3"
    },
    "language_info": {
      "codemirror_mode": {
        "name": "ipython",
        "version": 3
      },
      "file_extension": ".py",
      "mimetype": "text/x-python",
      "name": "python",
      "nbconvert_exporter": "python",
      "pygments_lexer": "ipython3",
      "version": "3.8.8"
    },
    "colab": {
      "provenance": [],
      "include_colab_link": true
    }
  },
  "nbformat": 4,
  "nbformat_minor": 5
}