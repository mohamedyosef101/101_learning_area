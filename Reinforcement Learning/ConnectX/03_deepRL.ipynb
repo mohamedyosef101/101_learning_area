{
  "cells": [
    {
      "cell_type": "markdown",
      "metadata": {
        "id": "view-in-github",
        "colab_type": "text"
      },
      "source": [
        "<a href=\"https://colab.research.google.com/github/mohamedyosef101/101_learning_area/blob/area/Reinforcement%20Learning/ConnectX/03_deepRL.ipynb\" target=\"_parent\"><img src=\"https://colab.research.google.com/assets/colab-badge.svg\" alt=\"Open In Colab\"/></a>"
      ]
    },
    {
      "cell_type": "markdown",
      "source": [
        "# **Deep** Reinforcement Learning"
      ],
      "metadata": {
        "id": "HHS_8-8JDwKq"
      },
      "id": "HHS_8-8JDwKq"
    },
    {
      "cell_type": "markdown",
      "source": [
        "Source: [Intro to Game AI & RL](https://www.kaggle.com/code/alexisbcook/deep-reinforcement-learning/tutorial). Kaggle."
      ],
      "metadata": {
        "id": "ZoDRDrF5a8Au"
      },
      "id": "ZoDRDrF5a8Au"
    },
    {
      "cell_type": "code",
      "source": [
        "%%capture\n",
        "!pip install kaggle_environments"
      ],
      "metadata": {
        "id": "dG6U-4oGM6jZ"
      },
      "id": "dG6U-4oGM6jZ",
      "execution_count": 1,
      "outputs": []
    },
    {
      "cell_type": "code",
      "source": [
        "import random\n",
        "import numpy as np\n",
        "import pandas as pd\n",
        "import matplotlib.pyplot as plt\n",
        "\n",
        "import gym\n",
        "from gym import spaces\n",
        "from kaggle_environments import make, evaluate"
      ],
      "metadata": {
        "id": "HRu-J6oIMpT9"
      },
      "id": "HRu-J6oIMpT9",
      "execution_count": 2,
      "outputs": []
    },
    {
      "cell_type": "markdown",
      "source": [
        "# Create the environment"
      ],
      "metadata": {
        "id": "doepfiJAUU0y"
      },
      "id": "doepfiJAUU0y"
    },
    {
      "cell_type": "code",
      "source": [
        "class ConnectFourGym(gym.Env):\n",
        "  def __init__(self, agent2=\"random\"):\n",
        "    ks_env = make(\"connectx\", debug=True)\n",
        "    self.env = ks_env.train([None, agent2])\n",
        "    self.rows = ks_env.configuration.rows\n",
        "    self.columns = ks_env.configuration.columns\n",
        "    self.action_space = spaces.Discrete(self.columns)\n",
        "    self.observation_space = spaces.Box(low=0, high=2,\n",
        "                                        shape=(1, self.rows, self.columns),\n",
        "                                        dtype=int)\n",
        "    self.reward_range = (-10, 1)\n",
        "    self.spec = None\n",
        "    self.metadata = None\n",
        "\n",
        "  def reset(self):\n",
        "    self.obs = self.env.reset()\n",
        "    obs_reshape = np.array(self.obs['board']).reshape(1, self.rows,\n",
        "                                                      self.columns)\n",
        "    return obs_reshape\n",
        "\n",
        "\n",
        "  def change_reward(self, old_reward, done):\n",
        "    if old_reward == 1:\n",
        "      return 1\n",
        "    elif done:\n",
        "      return -1\n",
        "    else:\n",
        "      return 1/(self.rows*self.columns)\n",
        "\n",
        "  def step(self, action):\n",
        "    is_valid = (self.obs['board'][int(action)] == 0)\n",
        "    if is_valid:\n",
        "      self.obs, old_reward, done, _ = self.env.step(int(action))\n",
        "      reward = self.change_reward(old_reward, done)\n",
        "    else:\n",
        "      reward, done, _ = -10, True, {}\n",
        "    obs_reshape = np.array(self.obs['board']).reshape(1, self.rows,\n",
        "                                                      self.columns)\n",
        "    return obs_reshape, reward, done, _"
      ],
      "metadata": {
        "id": "iFppxy-ANQVY"
      },
      "id": "iFppxy-ANQVY",
      "execution_count": 3,
      "outputs": []
    },
    {
      "cell_type": "code",
      "source": [
        "env = ConnectFourGym(agent2=\"random\")"
      ],
      "metadata": {
        "id": "LPFlYt8ATwwC"
      },
      "id": "LPFlYt8ATwwC",
      "execution_count": 5,
      "outputs": []
    },
    {
      "cell_type": "markdown",
      "source": [
        "# Neural Network Architecture"
      ],
      "metadata": {
        "id": "W1rf21jXUs19"
      },
      "id": "W1rf21jXUs19"
    },
    {
      "cell_type": "code",
      "source": [
        "%%capture\n",
        "!pip install \"stable-baselines3\""
      ],
      "metadata": {
        "id": "PBzMyennUxp6"
      },
      "id": "PBzMyennUxp6",
      "execution_count": 6,
      "outputs": []
    },
    {
      "cell_type": "code",
      "source": [
        "import torch\n",
        "import torch.nn as nn\n",
        "from stable_baselines3 import PPO as ppo\n",
        "from stable_baselines3.common.torch_layers import BaseFeaturesExtractor as bfe"
      ],
      "metadata": {
        "id": "Bval2d23U_Sn"
      },
      "id": "Bval2d23U_Sn",
      "execution_count": 8,
      "outputs": []
    },
    {
      "cell_type": "code",
      "source": [
        "class CustomCNN(bfe):\n",
        "  def __init__(self, observation_space: gym.spaces.Box,\n",
        "               features_dim: int=128):\n",
        "    super(CustomCNN, self).__init__(observation_space, features_dim)\n",
        "    n_input_channels = observation_space.shape[0]\n",
        "\n",
        "    self.cnn = nn.Sequential(\n",
        "        nn.Conv2d(n_input_channels, 32, kernel_size=3),\n",
        "        nn.ReLU(),\n",
        "        nn.Conv2d(32, 64, kernel_size=3),\n",
        "        nn.ReLU(),\n",
        "        nn.Flatten()\n",
        "    )\n",
        "    with torch.no_grad():\n",
        "      n_flatten = self.cnn(\n",
        "          torch.as_tensor(observation_space.sample()[None]).float()\n",
        "      ).shape[1]\n",
        "      self.linear = nn.Sequential(\n",
        "          nn.Linear(n_flatten, features_dim), nn.ReLU()\n",
        "      )\n",
        "  def forward(self, observations: torch.Tensor) -> torch.Tensor:\n",
        "    return self.linear(self.cnn(observations))"
      ],
      "metadata": {
        "id": "aH84Bw4JVaf3"
      },
      "id": "aH84Bw4JVaf3",
      "execution_count": 11,
      "outputs": []
    },
    {
      "cell_type": "code",
      "source": [
        "# Initialize agent\n",
        "policy_kwargs = dict(features_extractor_class=CustomCNN)\n",
        "model = ppo(\"CnnPolicy\", env, policy_kwargs=policy_kwargs, verbose=0)"
      ],
      "metadata": {
        "id": "fJo9rFLWXzsB",
        "outputId": "520d2b91-1824-4c34-90fd-50933aab46ad",
        "colab": {
          "base_uri": "https://localhost:8080/"
        }
      },
      "id": "fJo9rFLWXzsB",
      "execution_count": 12,
      "outputs": [
        {
          "output_type": "stream",
          "name": "stderr",
          "text": [
            "/usr/local/lib/python3.10/dist-packages/stable_baselines3/common/vec_env/patch_gym.py:49: UserWarning: You provided an OpenAI Gym environment. We strongly recommend transitioning to Gymnasium environments. Stable-Baselines3 is automatically wrapping your environments in a compatibility layer, which could potentially cause issues.\n",
            "  warnings.warn(\n"
          ]
        }
      ]
    },
    {
      "cell_type": "code",
      "source": [
        "# Train agent\n",
        "model.learn(total_timesteps=60000)"
      ],
      "metadata": {
        "id": "tSNqySAtYKEX"
      },
      "id": "tSNqySAtYKEX",
      "execution_count": null,
      "outputs": []
    },
    {
      "cell_type": "markdown",
      "source": [
        "# Define our agent"
      ],
      "metadata": {
        "id": "jNzCVlBLYbPb"
      },
      "id": "jNzCVlBLYbPb"
    },
    {
      "cell_type": "code",
      "source": [
        "def agent1(obs, config):\n",
        "  col, _ = model.predict(np.array(obs['board']).reshape(1, 6, 7))\n",
        "  is_valid = (obs['board'][int(col)])\n",
        "\n",
        "  if is_valid:\n",
        "    return int(col)\n",
        "  else:\n",
        "    return random.choice([col for col in range(config.columns) if obs.board[int(col)] == 0])"
      ],
      "metadata": {
        "id": "sBVUq3e3YfWU"
      },
      "id": "sBVUq3e3YfWU",
      "execution_count": null,
      "outputs": []
    },
    {
      "cell_type": "code",
      "source": [
        "# play the game\n",
        "env = make(\"connectx\")\n",
        "env.run([agent1, \"random\"])\n",
        "env.render(mode=\"ipython\")"
      ],
      "metadata": {
        "id": "yRkGN9I2ZzrL"
      },
      "id": "yRkGN9I2ZzrL",
      "execution_count": null,
      "outputs": []
    },
    {
      "cell_type": "markdown",
      "source": [
        "# Evauation"
      ],
      "metadata": {
        "id": "7wPuMIUfaFE2"
      },
      "id": "7wPuMIUfaFE2"
    },
    {
      "cell_type": "code",
      "source": [
        "def get_win_percentages(agent1, agent2, n_rounds=100):\n",
        "    # Use default Connect Four setup\n",
        "    config = {'rows': 6, 'columns': 7, 'inarow': 4}\n",
        "    # Agent 1 goes first (roughly) half the time\n",
        "    outcomes = evaluate(\"connectx\", [agent1, agent2], config, [], n_rounds//2)\n",
        "    # Agent 2 goes first (roughly) half the time\n",
        "    outcomes += [[b,a] for [a,b] in evaluate(\"connectx\", [agent2, agent1], config, [], n_rounds-n_rounds//2)]\n",
        "    print(\"Agent 1 Win Percentage:\", np.round(outcomes.count([1,-1])/len(outcomes), 2))\n",
        "    print(\"Agent 2 Win Percentage:\", np.round(outcomes.count([-1,1])/len(outcomes), 2))\n",
        "    print(\"Number of Invalid Plays by Agent 1:\", outcomes.count([None, 0]))\n",
        "    print(\"Number of Invalid Plays by Agent 2:\", outcomes.count([0, None]))"
      ],
      "metadata": {
        "id": "wVH2erjLaMY1"
      },
      "id": "wVH2erjLaMY1",
      "execution_count": null,
      "outputs": []
    },
    {
      "cell_type": "code",
      "source": [
        "get_win_percentages(agent1=agent1, agent2=\"random\")"
      ],
      "metadata": {
        "id": "06NcxL7WaQXH"
      },
      "id": "06NcxL7WaQXH",
      "execution_count": null,
      "outputs": []
    }
  ],
  "metadata": {
    "kernelspec": {
      "display_name": "Python 3",
      "language": "python",
      "name": "python3"
    },
    "language_info": {
      "codemirror_mode": {
        "name": "ipython",
        "version": 3
      },
      "file_extension": ".py",
      "mimetype": "text/x-python",
      "name": "python",
      "nbconvert_exporter": "python",
      "pygments_lexer": "ipython3",
      "version": "3.8.8"
    },
    "colab": {
      "provenance": [],
      "include_colab_link": true
    }
  },
  "nbformat": 4,
  "nbformat_minor": 5
}