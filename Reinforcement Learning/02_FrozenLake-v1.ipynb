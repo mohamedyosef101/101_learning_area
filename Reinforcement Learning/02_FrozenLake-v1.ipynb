{
  "cells": [
    {
      "cell_type": "markdown",
      "metadata": {
        "id": "view-in-github",
        "colab_type": "text"
      },
      "source": [
        "<a href=\"https://colab.research.google.com/github/mohamedyosef101/101_learning_area/blob/area/Reinforcement%20Learning/02_FrozenLake-v1.ipynb\" target=\"_parent\"><img src=\"https://colab.research.google.com/assets/colab-badge.svg\" alt=\"Open In Colab\"/></a>"
      ]
    },
    {
      "cell_type": "markdown",
      "source": [
        "**Source**: [Q-learning hands-on](https://huggingface.co/learn/deep-rl-course/unit2/hands-on). huggingface.co"
      ],
      "metadata": {
        "id": "Jx5wm1cStBLI"
      },
      "id": "Jx5wm1cStBLI"
    },
    {
      "cell_type": "markdown",
      "source": [
        "# Forzen Lake\n",
        "Frozen lake involves crossing a frozen lake from start to goal without falling into any holes by walking over the frozen lake. The player may not always move in the intended direction due to the slippery nature of the frozen lake.\n",
        "\n",
        "<br>\n",
        "\n",
        "*More in [Gymnasium Docs](https://gymnasium.farama.org/environments/toy_text/frozen_lake/)*"
      ],
      "metadata": {
        "id": "hgfwK1DAmYmb"
      },
      "id": "hgfwK1DAmYmb"
    },
    {
      "cell_type": "code",
      "source": [
        "!pip install gymnasium pygame pyglet==1.5.1 pickle5\n",
        "!sudo apt-get update\n",
        "!sudo apt-get install -y python3-opengl\n",
        "!apt install ffmpeg xvfb\n",
        "!pip3 install pyvirtualdisplay"
      ],
      "metadata": {
        "id": "pebVxAFHmqyz",
        "outputId": "76c69068-5e3d-4cf3-e91f-09dd255573bf",
        "colab": {
          "base_uri": "https://localhost:8080/"
        }
      },
      "id": "pebVxAFHmqyz",
      "execution_count": 4,
      "outputs": [
        {
          "output_type": "stream",
          "name": "stdout",
          "text": [
            "Requirement already satisfied: gymnasium in /usr/local/lib/python3.10/dist-packages (0.29.1)\n",
            "Requirement already satisfied: pygame in /usr/local/lib/python3.10/dist-packages (2.5.2)\n",
            "Requirement already satisfied: pyglet==1.5.1 in /usr/local/lib/python3.10/dist-packages (1.5.1)\n",
            "Collecting pickle5\n",
            "  Downloading pickle5-0.0.11.tar.gz (132 kB)\n",
            "\u001b[2K     \u001b[90m━━━━━━━━━━━━━━━━━━━━━━━━━━━━━━━━━━━━━━━━\u001b[0m \u001b[32m132.1/132.1 kB\u001b[0m \u001b[31m4.1 MB/s\u001b[0m eta \u001b[36m0:00:00\u001b[0m\n",
            "\u001b[?25h  Preparing metadata (setup.py) ... \u001b[?25l\u001b[?25hdone\n",
            "Requirement already satisfied: numpy>=1.21.0 in /usr/local/lib/python3.10/dist-packages (from gymnasium) (1.23.5)\n",
            "Requirement already satisfied: cloudpickle>=1.2.0 in /usr/local/lib/python3.10/dist-packages (from gymnasium) (2.2.1)\n",
            "Requirement already satisfied: typing-extensions>=4.3.0 in /usr/local/lib/python3.10/dist-packages (from gymnasium) (4.9.0)\n",
            "Requirement already satisfied: farama-notifications>=0.0.1 in /usr/local/lib/python3.10/dist-packages (from gymnasium) (0.0.4)\n",
            "Building wheels for collected packages: pickle5\n",
            "  Building wheel for pickle5 (setup.py) ... \u001b[?25l\u001b[?25hdone\n",
            "  Created wheel for pickle5: filename=pickle5-0.0.11-cp310-cp310-linux_x86_64.whl size=255312 sha256=9f2bbe6c51e8fb298f6cb6b5a19209fbacd6bc58267b6b234c2b567a213b357b\n",
            "  Stored in directory: /root/.cache/pip/wheels/7d/14/ef/4aab19d27fa8e58772be5c71c16add0426acf9e1f64353235c\n",
            "Successfully built pickle5\n",
            "Installing collected packages: pickle5\n",
            "Successfully installed pickle5-0.0.11\n",
            "Hit:1 https://cloud.r-project.org/bin/linux/ubuntu jammy-cran40/ InRelease\n",
            "Hit:2 https://developer.download.nvidia.com/compute/cuda/repos/ubuntu2204/x86_64  InRelease\n",
            "Hit:3 http://security.ubuntu.com/ubuntu jammy-security InRelease\n",
            "Hit:4 http://archive.ubuntu.com/ubuntu jammy InRelease\n",
            "Hit:5 http://archive.ubuntu.com/ubuntu jammy-updates InRelease\n",
            "Hit:6 http://archive.ubuntu.com/ubuntu jammy-backports InRelease\n",
            "Hit:7 https://ppa.launchpadcontent.net/c2d4u.team/c2d4u4.0+/ubuntu jammy InRelease\n",
            "Hit:8 https://ppa.launchpadcontent.net/deadsnakes/ppa/ubuntu jammy InRelease\n",
            "Hit:9 https://ppa.launchpadcontent.net/graphics-drivers/ppa/ubuntu jammy InRelease\n",
            "Hit:10 https://ppa.launchpadcontent.net/ubuntugis/ppa/ubuntu jammy InRelease\n",
            "Reading package lists... Done\n",
            "Reading package lists... Done\n",
            "Building dependency tree... Done\n",
            "Reading state information... Done\n",
            "python3-opengl is already the newest version (3.1.5+dfsg-1).\n",
            "0 upgraded, 0 newly installed, 0 to remove and 34 not upgraded.\n",
            "Reading package lists... Done\n",
            "Building dependency tree... Done\n",
            "Reading state information... Done\n",
            "ffmpeg is already the newest version (7:4.4.2-0ubuntu0.22.04.1).\n",
            "xvfb is already the newest version (2:21.1.4-2ubuntu1.7~22.04.8).\n",
            "0 upgraded, 0 newly installed, 0 to remove and 34 not upgraded.\n",
            "Requirement already satisfied: pyvirtualdisplay in /usr/local/lib/python3.10/dist-packages (3.0)\n"
          ]
        }
      ]
    },
    {
      "cell_type": "code",
      "source": [
        "import os\n",
        "os.kill(os.getpid(), 9)"
      ],
      "metadata": {
        "id": "bx4496lpoaU8"
      },
      "id": "bx4496lpoaU8",
      "execution_count": null,
      "outputs": []
    },
    {
      "cell_type": "code",
      "source": [
        "# virtual display\n",
        "from pyvirtualdisplay import Display\n",
        "\n",
        "vd = Display(visible=0, size=(1400, 900))\n",
        "vd.start()"
      ],
      "metadata": {
        "id": "UVDgHxUFop6C",
        "outputId": "3f32efdc-5179-4a38-b6a3-9ad85506f922",
        "colab": {
          "base_uri": "https://localhost:8080/"
        }
      },
      "id": "UVDgHxUFop6C",
      "execution_count": 1,
      "outputs": [
        {
          "output_type": "execute_result",
          "data": {
            "text/plain": [
              "<pyvirtualdisplay.display.Display at 0x7f6426fd7f40>"
            ]
          },
          "metadata": {},
          "execution_count": 1
        }
      ]
    },
    {
      "cell_type": "markdown",
      "source": [
        "# Import the packages"
      ],
      "metadata": {
        "id": "yCzfHK2apb2G"
      },
      "id": "yCzfHK2apb2G"
    },
    {
      "cell_type": "code",
      "source": [
        "import numpy as np\n",
        "import gymnasium as gym\n",
        "import random\n",
        "import os\n",
        "\n",
        "import tqdm\n",
        "from tqdm.notebook import tqdm\n",
        "\n",
        "import pickle5 as pikle"
      ],
      "metadata": {
        "id": "IE2FN7LvpZ5c"
      },
      "id": "IE2FN7LvpZ5c",
      "execution_count": 2,
      "outputs": []
    },
    {
      "cell_type": "markdown",
      "source": [
        "# Explore the environment"
      ],
      "metadata": {
        "id": "c20soe_8p0sf"
      },
      "id": "c20soe_8p0sf"
    },
    {
      "cell_type": "code",
      "source": [
        "env = gym.make(\"FrozenLake-v1\",\n",
        "               map_name=\"4x4\",\n",
        "               is_slippery=False,\n",
        "               render_mode=\"rgb_array\")"
      ],
      "metadata": {
        "id": "OWpihc2Ep0LH"
      },
      "id": "OWpihc2Ep0LH",
      "execution_count": 3,
      "outputs": []
    },
    {
      "cell_type": "code",
      "source": [
        "# observation space\n",
        "print(f\"\"\"Observation Space {env.observation_space}\\n\n",
        "Sample observation {env.observation_space.sample()}\n",
        "\"\"\")"
      ],
      "metadata": {
        "id": "0Qqr4EU8rAkd",
        "outputId": "01b0c5c5-a00f-4040-9cf7-c15d6f16fa66",
        "colab": {
          "base_uri": "https://localhost:8080/"
        }
      },
      "id": "0Qqr4EU8rAkd",
      "execution_count": 4,
      "outputs": [
        {
          "output_type": "stream",
          "name": "stdout",
          "text": [
            "Observation Space Discrete(16)\n",
            "\n",
            "Sample observation 8\n",
            "\n"
          ]
        }
      ]
    },
    {
      "cell_type": "code",
      "source": [
        "# action space\n",
        "print(f\"\"\"Action space shape {env.action_space.n}\\n\n",
        "Action space sample {env.action_space.sample()}\n",
        "\"\"\")"
      ],
      "metadata": {
        "id": "yFOd0hT4r13M",
        "outputId": "09adf7b0-d220-4c9d-c91e-f071f074fa16",
        "colab": {
          "base_uri": "https://localhost:8080/"
        }
      },
      "id": "yFOd0hT4r13M",
      "execution_count": 5,
      "outputs": [
        {
          "output_type": "stream",
          "name": "stdout",
          "text": [
            "Action space shape 4\n",
            "\n",
            "Action space sample 2\n",
            "\n"
          ]
        }
      ]
    },
    {
      "cell_type": "markdown",
      "source": [
        "**Actions**\n",
        "* 0: left\n",
        "* 1: down\n",
        "* 2: right\n",
        "* 3: up\n",
        "\n",
        "**Reward**\n",
        "- +1: reach goal\n",
        "- 0: reach hole or frozen"
      ],
      "metadata": {
        "id": "kkSB5X-UsLNe"
      },
      "id": "kkSB5X-UsLNe"
    },
    {
      "cell_type": "markdown",
      "source": [
        "# Create Q-table"
      ],
      "metadata": {
        "id": "KHjKACd1s6YR"
      },
      "id": "KHjKACd1s6YR"
    },
    {
      "cell_type": "code",
      "source": [
        "# the dimentions of the Q-table\n",
        "state_space = env.observation_space.n # rows\n",
        "action_space = env.action_space.n # columns\n",
        "\n",
        "# define the Q_table_0\n",
        "def Q_table_0(state_space, action_space):\n",
        "  Qtable = np.zeros((state_space, action_space))\n",
        "  return Qtable\n",
        "\n",
        "# create it for our env\n",
        "frozenlake_Qtable = Q_table_0(state_space, action_space)"
      ],
      "metadata": {
        "id": "RGGDv3QxtVGl"
      },
      "id": "RGGDv3QxtVGl",
      "execution_count": 12,
      "outputs": []
    },
    {
      "cell_type": "markdown",
      "source": [
        "# Define the policies\n",
        "* Epsilon-greedy policy (acting policy)\n",
        "* Greedy-policy (updating policy)"
      ],
      "metadata": {
        "id": "pLFtiz-aulgN"
      },
      "id": "pLFtiz-aulgN"
    },
    {
      "cell_type": "code",
      "source": [
        "# define greedy policy\n",
        "def greedy_policy(Qtable, state):\n",
        "  action = np.argmax(Qtable[state][:])\n",
        "  return action\n",
        "\n",
        "# define epsilon greedy policy\n",
        "def epsilon_greedy_policy(Qtable, state, epsilon):\n",
        "  random_num = random.uniform(0, 1) # number between 0 and 1\n",
        "\n",
        "  if random_num > epsilon:\n",
        "    action = greedy_policy(Qtable, state)\n",
        "\n",
        "  else:\n",
        "    action = env.action_space.sample()\n",
        "\n",
        "  return action\n",
        ""
      ],
      "metadata": {
        "id": "Z3uGihr_vGOT"
      },
      "id": "Z3uGihr_vGOT",
      "execution_count": 7,
      "outputs": []
    },
    {
      "cell_type": "markdown",
      "source": [
        "# Define the hyperparameters\n"
      ],
      "metadata": {
        "id": "udi6BJD9wbBF"
      },
      "id": "udi6BJD9wbBF"
    },
    {
      "cell_type": "code",
      "source": [
        "# Training\n",
        "n_training_episodes = 10000\n",
        "lr = 0.7  # learning rate\n",
        "\n",
        "# Evaluation\n",
        "n_eval_episodes = 100\n",
        "\n",
        "# Environment\n",
        "env_id = \"FrozenLake-v1\"\n",
        "max_steps = 99   # Max steps per episode\n",
        "gamma = 0.95\n",
        "eval_seed = []\n",
        "\n",
        "# Exploration (IMPORTANT)\n",
        "max_epsilon = 1.0 # at start\n",
        "min_epsilon = 0.05\n",
        "decay_rate = 0.0005"
      ],
      "metadata": {
        "id": "N1qwlBsIwrTP"
      },
      "id": "N1qwlBsIwrTP",
      "execution_count": 8,
      "outputs": []
    },
    {
      "cell_type": "markdown",
      "source": [
        "# Training loop"
      ],
      "metadata": {
        "id": "CqudwqtuxmX4"
      },
      "id": "CqudwqtuxmX4"
    },
    {
      "cell_type": "code",
      "source": [
        "def train(n_training_episodes,\n",
        "          max_epsilon, min_epsilon, decay_rate,\n",
        "          env, max_steps, Qtable):\n",
        "\n",
        "  for episode in tqdm(range(n_training_episodes)):\n",
        "\n",
        "    # reduce epsilon\n",
        "    epsilon = min_epsilon + (max_epsilon - min_epsilon) * np.exp(-decay_rate)\n",
        "\n",
        "    # rest the environment\n",
        "    state, info = env.reset()\n",
        "    step = 0\n",
        "    terminated = False\n",
        "    truncated = False\n",
        "\n",
        "    for step in range(max_steps):\n",
        "\n",
        "      # take action with epsilon greedy\n",
        "      action = epsilon_greedy_policy(Qtable, state, epsilon)\n",
        "\n",
        "      # get the new values\n",
        "      new_state, reward, terminated, truncated, info = env.step(action)\n",
        "\n",
        "      # update Qtable\n",
        "      # Q(s, a) := Q(s, a) + lr [R(s, a) + gamma * max Q(s', a') - Q(s, a)]\n",
        "      Qtable[state][action] = Qtable[state][action] + lr * (\n",
        "          reward + gamma * np.max(Qtable[new_state]) - Qtable[state][action]\n",
        "      )\n",
        "\n",
        "      if terminated or truncated:\n",
        "        break\n",
        "\n",
        "      state = new_state\n",
        "  return Qtable\n",
        "\n",
        "# train the agent\n",
        "agent = train(n_training_episodes,\n",
        "              max_epsilon, min_epsilon, decay_rate,\n",
        "              env, max_steps, frozenlake_Qtable)\n",
        "\n",
        "# see the agent\n",
        "agent"
      ],
      "metadata": {
        "id": "E3ucQ9-HxuYj",
        "outputId": "55fc711c-0e9d-440f-de79-d3df73c14304",
        "colab": {
          "base_uri": "https://localhost:8080/",
          "height": 344,
          "referenced_widgets": [
            "f893d141e5fd4263967569f585d847e2",
            "2ffd7433e2154ab5b3d7da5f666b9be6",
            "404d2f3ce6cd4d95ad26125cc4042f73",
            "860196ec63044094a79bb8ba391f3aef",
            "b97d2c2ae8834ee397b0c4f8b6da399f",
            "1b96650232e24f1fa3ad4061e15b2495",
            "7c923487bfa742c6bea4b0741d2f0273",
            "8b1c2889de5c43a884c4076d42b68bbf",
            "56fa1509be0949c3988ac9132f215222",
            "31fc71e5ce9a44eb8e027040c404ec56",
            "613cc780f10048d1bb7d1ed46ecffff1"
          ]
        }
      },
      "id": "E3ucQ9-HxuYj",
      "execution_count": 13,
      "outputs": [
        {
          "output_type": "display_data",
          "data": {
            "text/plain": [
              "  0%|          | 0/10000 [00:00<?, ?it/s]"
            ],
            "application/vnd.jupyter.widget-view+json": {
              "version_major": 2,
              "version_minor": 0,
              "model_id": "f893d141e5fd4263967569f585d847e2"
            }
          },
          "metadata": {}
        },
        {
          "output_type": "execute_result",
          "data": {
            "text/plain": [
              "array([[0.73509189, 0.77378094, 0.77378094, 0.73509189],\n",
              "       [0.73509189, 0.        , 0.81450625, 0.77378094],\n",
              "       [0.77378094, 0.857375  , 0.77378094, 0.81450625],\n",
              "       [0.81450625, 0.        , 0.77378094, 0.77378094],\n",
              "       [0.77378094, 0.81450625, 0.        , 0.73509189],\n",
              "       [0.        , 0.        , 0.        , 0.        ],\n",
              "       [0.        , 0.9025    , 0.        , 0.81450625],\n",
              "       [0.        , 0.        , 0.        , 0.        ],\n",
              "       [0.81450625, 0.        , 0.857375  , 0.77378094],\n",
              "       [0.81450625, 0.9025    , 0.9025    , 0.        ],\n",
              "       [0.857375  , 0.95      , 0.        , 0.857375  ],\n",
              "       [0.        , 0.        , 0.        , 0.        ],\n",
              "       [0.        , 0.        , 0.        , 0.        ],\n",
              "       [0.        , 0.9025    , 0.95      , 0.857375  ],\n",
              "       [0.9025    , 0.95      , 1.        , 0.9025    ],\n",
              "       [0.        , 0.        , 0.        , 0.        ]])"
            ]
          },
          "metadata": {},
          "execution_count": 13
        }
      ]
    },
    {
      "cell_type": "markdown",
      "source": [
        "# Evaluation"
      ],
      "metadata": {
        "id": "fvv558Z727Y4"
      },
      "id": "fvv558Z727Y4"
    },
    {
      "cell_type": "code",
      "source": [
        "def eval_agent(env, max_steps, n_eval_episodes, Q, seed):\n",
        "  episode_rewards = []\n",
        "\n",
        "  for episode in tqdm(range(n_eval_episodes)):\n",
        "\n",
        "    if seed:\n",
        "      state, info = env.reset(seed=seed[episode])\n",
        "    else:\n",
        "      state, info = env.reset()\n",
        "\n",
        "    step = 0\n",
        "    truncated = False\n",
        "    terminated = False\n",
        "    total_rewards_ep = 0\n",
        "\n",
        "    for step in range(max_steps):\n",
        "\n",
        "      action = greedy_policy(Q, state)\n",
        "      new_state, reward, terminated, truncated, info = env.step(action)\n",
        "      total_rewards_ep += reward\n",
        "\n",
        "      if terminated or truncated:\n",
        "        break\n",
        "\n",
        "      state = new_state\n",
        "    episode_rewards.append(total_rewards_ep)\n",
        "  mean_reward = np.mean(episode_rewards)\n",
        "  std_reward = np.std(episode_rewards)\n",
        "\n",
        "  return mean_reward, std_reward\n",
        "\n",
        "\n",
        "# Evaluate our agent\n",
        "mean_reward, std_reward = eval_agent(env, max_steps,\n",
        "                                     n_eval_episodes, agent,\n",
        "                                     eval_seed)\n",
        "print(f\"Mean reward = {mean_reward:.2f} +/- {std_reward:.2f}\")"
      ],
      "metadata": {
        "id": "W_HSEL3r29NQ",
        "outputId": "c546ab5b-b045-4321-995b-a94e9ca61527",
        "colab": {
          "base_uri": "https://localhost:8080/",
          "height": 67,
          "referenced_widgets": [
            "796c947e007e440aaa129743df01852f",
            "cbf79e37fc4d42708f80b40ef5d3212e",
            "a685e0031ebd409fa579623e1608f370",
            "abd5757045654acf9b405d1028148c3d",
            "665a955b5b0c4b7bb2fd1ddbfa771512",
            "42f26385718e49619f352afe215417e5",
            "8ca44b2ad30d4404b215d2d1459a4884",
            "caa65f3e293d4c988c6a5845d9795445",
            "28de16d0e3264225aa7c94f7ae162609",
            "0f65d8fbf8f041e4b0f185524e086af4",
            "17101ce8de9047cf8504561815e015e2"
          ]
        }
      },
      "id": "W_HSEL3r29NQ",
      "execution_count": 14,
      "outputs": [
        {
          "output_type": "display_data",
          "data": {
            "text/plain": [
              "  0%|          | 0/100 [00:00<?, ?it/s]"
            ],
            "application/vnd.jupyter.widget-view+json": {
              "version_major": 2,
              "version_minor": 0,
              "model_id": "796c947e007e440aaa129743df01852f"
            }
          },
          "metadata": {}
        },
        {
          "output_type": "stream",
          "name": "stdout",
          "text": [
            "Mean reward = 1.00 +/- 0.00\n"
          ]
        }
      ]
    }
  ],
  "metadata": {
    "kernelspec": {
      "display_name": "Python 3",
      "name": "python3"
    },
    "language_info": {
      "codemirror_mode": {
        "name": "ipython",
        "version": 3
      },
      "file_extension": ".py",
      "mimetype": "text/x-python",
      "name": "python",
      "nbconvert_exporter": "python",
      "pygments_lexer": "ipython3",
      "version": "3.8.8"
    },
    "colab": {
      "provenance": [],
      "gpuType": "T4",
      "include_colab_link": true
    },
    "accelerator": "GPU",
    "widgets": {
      "application/vnd.jupyter.widget-state+json": {
        "f893d141e5fd4263967569f585d847e2": {
          "model_module": "@jupyter-widgets/controls",
          "model_name": "HBoxModel",
          "model_module_version": "1.5.0",
          "state": {
            "_dom_classes": [],
            "_model_module": "@jupyter-widgets/controls",
            "_model_module_version": "1.5.0",
            "_model_name": "HBoxModel",
            "_view_count": null,
            "_view_module": "@jupyter-widgets/controls",
            "_view_module_version": "1.5.0",
            "_view_name": "HBoxView",
            "box_style": "",
            "children": [
              "IPY_MODEL_2ffd7433e2154ab5b3d7da5f666b9be6",
              "IPY_MODEL_404d2f3ce6cd4d95ad26125cc4042f73",
              "IPY_MODEL_860196ec63044094a79bb8ba391f3aef"
            ],
            "layout": "IPY_MODEL_b97d2c2ae8834ee397b0c4f8b6da399f"
          }
        },
        "2ffd7433e2154ab5b3d7da5f666b9be6": {
          "model_module": "@jupyter-widgets/controls",
          "model_name": "HTMLModel",
          "model_module_version": "1.5.0",
          "state": {
            "_dom_classes": [],
            "_model_module": "@jupyter-widgets/controls",
            "_model_module_version": "1.5.0",
            "_model_name": "HTMLModel",
            "_view_count": null,
            "_view_module": "@jupyter-widgets/controls",
            "_view_module_version": "1.5.0",
            "_view_name": "HTMLView",
            "description": "",
            "description_tooltip": null,
            "layout": "IPY_MODEL_1b96650232e24f1fa3ad4061e15b2495",
            "placeholder": "​",
            "style": "IPY_MODEL_7c923487bfa742c6bea4b0741d2f0273",
            "value": "100%"
          }
        },
        "404d2f3ce6cd4d95ad26125cc4042f73": {
          "model_module": "@jupyter-widgets/controls",
          "model_name": "FloatProgressModel",
          "model_module_version": "1.5.0",
          "state": {
            "_dom_classes": [],
            "_model_module": "@jupyter-widgets/controls",
            "_model_module_version": "1.5.0",
            "_model_name": "FloatProgressModel",
            "_view_count": null,
            "_view_module": "@jupyter-widgets/controls",
            "_view_module_version": "1.5.0",
            "_view_name": "ProgressView",
            "bar_style": "success",
            "description": "",
            "description_tooltip": null,
            "layout": "IPY_MODEL_8b1c2889de5c43a884c4076d42b68bbf",
            "max": 10000,
            "min": 0,
            "orientation": "horizontal",
            "style": "IPY_MODEL_56fa1509be0949c3988ac9132f215222",
            "value": 10000
          }
        },
        "860196ec63044094a79bb8ba391f3aef": {
          "model_module": "@jupyter-widgets/controls",
          "model_name": "HTMLModel",
          "model_module_version": "1.5.0",
          "state": {
            "_dom_classes": [],
            "_model_module": "@jupyter-widgets/controls",
            "_model_module_version": "1.5.0",
            "_model_name": "HTMLModel",
            "_view_count": null,
            "_view_module": "@jupyter-widgets/controls",
            "_view_module_version": "1.5.0",
            "_view_name": "HTMLView",
            "description": "",
            "description_tooltip": null,
            "layout": "IPY_MODEL_31fc71e5ce9a44eb8e027040c404ec56",
            "placeholder": "​",
            "style": "IPY_MODEL_613cc780f10048d1bb7d1ed46ecffff1",
            "value": " 10000/10000 [00:03&lt;00:00, 2771.03it/s]"
          }
        },
        "b97d2c2ae8834ee397b0c4f8b6da399f": {
          "model_module": "@jupyter-widgets/base",
          "model_name": "LayoutModel",
          "model_module_version": "1.2.0",
          "state": {
            "_model_module": "@jupyter-widgets/base",
            "_model_module_version": "1.2.0",
            "_model_name": "LayoutModel",
            "_view_count": null,
            "_view_module": "@jupyter-widgets/base",
            "_view_module_version": "1.2.0",
            "_view_name": "LayoutView",
            "align_content": null,
            "align_items": null,
            "align_self": null,
            "border": null,
            "bottom": null,
            "display": null,
            "flex": null,
            "flex_flow": null,
            "grid_area": null,
            "grid_auto_columns": null,
            "grid_auto_flow": null,
            "grid_auto_rows": null,
            "grid_column": null,
            "grid_gap": null,
            "grid_row": null,
            "grid_template_areas": null,
            "grid_template_columns": null,
            "grid_template_rows": null,
            "height": null,
            "justify_content": null,
            "justify_items": null,
            "left": null,
            "margin": null,
            "max_height": null,
            "max_width": null,
            "min_height": null,
            "min_width": null,
            "object_fit": null,
            "object_position": null,
            "order": null,
            "overflow": null,
            "overflow_x": null,
            "overflow_y": null,
            "padding": null,
            "right": null,
            "top": null,
            "visibility": null,
            "width": null
          }
        },
        "1b96650232e24f1fa3ad4061e15b2495": {
          "model_module": "@jupyter-widgets/base",
          "model_name": "LayoutModel",
          "model_module_version": "1.2.0",
          "state": {
            "_model_module": "@jupyter-widgets/base",
            "_model_module_version": "1.2.0",
            "_model_name": "LayoutModel",
            "_view_count": null,
            "_view_module": "@jupyter-widgets/base",
            "_view_module_version": "1.2.0",
            "_view_name": "LayoutView",
            "align_content": null,
            "align_items": null,
            "align_self": null,
            "border": null,
            "bottom": null,
            "display": null,
            "flex": null,
            "flex_flow": null,
            "grid_area": null,
            "grid_auto_columns": null,
            "grid_auto_flow": null,
            "grid_auto_rows": null,
            "grid_column": null,
            "grid_gap": null,
            "grid_row": null,
            "grid_template_areas": null,
            "grid_template_columns": null,
            "grid_template_rows": null,
            "height": null,
            "justify_content": null,
            "justify_items": null,
            "left": null,
            "margin": null,
            "max_height": null,
            "max_width": null,
            "min_height": null,
            "min_width": null,
            "object_fit": null,
            "object_position": null,
            "order": null,
            "overflow": null,
            "overflow_x": null,
            "overflow_y": null,
            "padding": null,
            "right": null,
            "top": null,
            "visibility": null,
            "width": null
          }
        },
        "7c923487bfa742c6bea4b0741d2f0273": {
          "model_module": "@jupyter-widgets/controls",
          "model_name": "DescriptionStyleModel",
          "model_module_version": "1.5.0",
          "state": {
            "_model_module": "@jupyter-widgets/controls",
            "_model_module_version": "1.5.0",
            "_model_name": "DescriptionStyleModel",
            "_view_count": null,
            "_view_module": "@jupyter-widgets/base",
            "_view_module_version": "1.2.0",
            "_view_name": "StyleView",
            "description_width": ""
          }
        },
        "8b1c2889de5c43a884c4076d42b68bbf": {
          "model_module": "@jupyter-widgets/base",
          "model_name": "LayoutModel",
          "model_module_version": "1.2.0",
          "state": {
            "_model_module": "@jupyter-widgets/base",
            "_model_module_version": "1.2.0",
            "_model_name": "LayoutModel",
            "_view_count": null,
            "_view_module": "@jupyter-widgets/base",
            "_view_module_version": "1.2.0",
            "_view_name": "LayoutView",
            "align_content": null,
            "align_items": null,
            "align_self": null,
            "border": null,
            "bottom": null,
            "display": null,
            "flex": null,
            "flex_flow": null,
            "grid_area": null,
            "grid_auto_columns": null,
            "grid_auto_flow": null,
            "grid_auto_rows": null,
            "grid_column": null,
            "grid_gap": null,
            "grid_row": null,
            "grid_template_areas": null,
            "grid_template_columns": null,
            "grid_template_rows": null,
            "height": null,
            "justify_content": null,
            "justify_items": null,
            "left": null,
            "margin": null,
            "max_height": null,
            "max_width": null,
            "min_height": null,
            "min_width": null,
            "object_fit": null,
            "object_position": null,
            "order": null,
            "overflow": null,
            "overflow_x": null,
            "overflow_y": null,
            "padding": null,
            "right": null,
            "top": null,
            "visibility": null,
            "width": null
          }
        },
        "56fa1509be0949c3988ac9132f215222": {
          "model_module": "@jupyter-widgets/controls",
          "model_name": "ProgressStyleModel",
          "model_module_version": "1.5.0",
          "state": {
            "_model_module": "@jupyter-widgets/controls",
            "_model_module_version": "1.5.0",
            "_model_name": "ProgressStyleModel",
            "_view_count": null,
            "_view_module": "@jupyter-widgets/base",
            "_view_module_version": "1.2.0",
            "_view_name": "StyleView",
            "bar_color": null,
            "description_width": ""
          }
        },
        "31fc71e5ce9a44eb8e027040c404ec56": {
          "model_module": "@jupyter-widgets/base",
          "model_name": "LayoutModel",
          "model_module_version": "1.2.0",
          "state": {
            "_model_module": "@jupyter-widgets/base",
            "_model_module_version": "1.2.0",
            "_model_name": "LayoutModel",
            "_view_count": null,
            "_view_module": "@jupyter-widgets/base",
            "_view_module_version": "1.2.0",
            "_view_name": "LayoutView",
            "align_content": null,
            "align_items": null,
            "align_self": null,
            "border": null,
            "bottom": null,
            "display": null,
            "flex": null,
            "flex_flow": null,
            "grid_area": null,
            "grid_auto_columns": null,
            "grid_auto_flow": null,
            "grid_auto_rows": null,
            "grid_column": null,
            "grid_gap": null,
            "grid_row": null,
            "grid_template_areas": null,
            "grid_template_columns": null,
            "grid_template_rows": null,
            "height": null,
            "justify_content": null,
            "justify_items": null,
            "left": null,
            "margin": null,
            "max_height": null,
            "max_width": null,
            "min_height": null,
            "min_width": null,
            "object_fit": null,
            "object_position": null,
            "order": null,
            "overflow": null,
            "overflow_x": null,
            "overflow_y": null,
            "padding": null,
            "right": null,
            "top": null,
            "visibility": null,
            "width": null
          }
        },
        "613cc780f10048d1bb7d1ed46ecffff1": {
          "model_module": "@jupyter-widgets/controls",
          "model_name": "DescriptionStyleModel",
          "model_module_version": "1.5.0",
          "state": {
            "_model_module": "@jupyter-widgets/controls",
            "_model_module_version": "1.5.0",
            "_model_name": "DescriptionStyleModel",
            "_view_count": null,
            "_view_module": "@jupyter-widgets/base",
            "_view_module_version": "1.2.0",
            "_view_name": "StyleView",
            "description_width": ""
          }
        },
        "796c947e007e440aaa129743df01852f": {
          "model_module": "@jupyter-widgets/controls",
          "model_name": "HBoxModel",
          "model_module_version": "1.5.0",
          "state": {
            "_dom_classes": [],
            "_model_module": "@jupyter-widgets/controls",
            "_model_module_version": "1.5.0",
            "_model_name": "HBoxModel",
            "_view_count": null,
            "_view_module": "@jupyter-widgets/controls",
            "_view_module_version": "1.5.0",
            "_view_name": "HBoxView",
            "box_style": "",
            "children": [
              "IPY_MODEL_cbf79e37fc4d42708f80b40ef5d3212e",
              "IPY_MODEL_a685e0031ebd409fa579623e1608f370",
              "IPY_MODEL_abd5757045654acf9b405d1028148c3d"
            ],
            "layout": "IPY_MODEL_665a955b5b0c4b7bb2fd1ddbfa771512"
          }
        },
        "cbf79e37fc4d42708f80b40ef5d3212e": {
          "model_module": "@jupyter-widgets/controls",
          "model_name": "HTMLModel",
          "model_module_version": "1.5.0",
          "state": {
            "_dom_classes": [],
            "_model_module": "@jupyter-widgets/controls",
            "_model_module_version": "1.5.0",
            "_model_name": "HTMLModel",
            "_view_count": null,
            "_view_module": "@jupyter-widgets/controls",
            "_view_module_version": "1.5.0",
            "_view_name": "HTMLView",
            "description": "",
            "description_tooltip": null,
            "layout": "IPY_MODEL_42f26385718e49619f352afe215417e5",
            "placeholder": "​",
            "style": "IPY_MODEL_8ca44b2ad30d4404b215d2d1459a4884",
            "value": "100%"
          }
        },
        "a685e0031ebd409fa579623e1608f370": {
          "model_module": "@jupyter-widgets/controls",
          "model_name": "FloatProgressModel",
          "model_module_version": "1.5.0",
          "state": {
            "_dom_classes": [],
            "_model_module": "@jupyter-widgets/controls",
            "_model_module_version": "1.5.0",
            "_model_name": "FloatProgressModel",
            "_view_count": null,
            "_view_module": "@jupyter-widgets/controls",
            "_view_module_version": "1.5.0",
            "_view_name": "ProgressView",
            "bar_style": "success",
            "description": "",
            "description_tooltip": null,
            "layout": "IPY_MODEL_caa65f3e293d4c988c6a5845d9795445",
            "max": 100,
            "min": 0,
            "orientation": "horizontal",
            "style": "IPY_MODEL_28de16d0e3264225aa7c94f7ae162609",
            "value": 100
          }
        },
        "abd5757045654acf9b405d1028148c3d": {
          "model_module": "@jupyter-widgets/controls",
          "model_name": "HTMLModel",
          "model_module_version": "1.5.0",
          "state": {
            "_dom_classes": [],
            "_model_module": "@jupyter-widgets/controls",
            "_model_module_version": "1.5.0",
            "_model_name": "HTMLModel",
            "_view_count": null,
            "_view_module": "@jupyter-widgets/controls",
            "_view_module_version": "1.5.0",
            "_view_name": "HTMLView",
            "description": "",
            "description_tooltip": null,
            "layout": "IPY_MODEL_0f65d8fbf8f041e4b0f185524e086af4",
            "placeholder": "​",
            "style": "IPY_MODEL_17101ce8de9047cf8504561815e015e2",
            "value": " 100/100 [00:00&lt;00:00, 2245.90it/s]"
          }
        },
        "665a955b5b0c4b7bb2fd1ddbfa771512": {
          "model_module": "@jupyter-widgets/base",
          "model_name": "LayoutModel",
          "model_module_version": "1.2.0",
          "state": {
            "_model_module": "@jupyter-widgets/base",
            "_model_module_version": "1.2.0",
            "_model_name": "LayoutModel",
            "_view_count": null,
            "_view_module": "@jupyter-widgets/base",
            "_view_module_version": "1.2.0",
            "_view_name": "LayoutView",
            "align_content": null,
            "align_items": null,
            "align_self": null,
            "border": null,
            "bottom": null,
            "display": null,
            "flex": null,
            "flex_flow": null,
            "grid_area": null,
            "grid_auto_columns": null,
            "grid_auto_flow": null,
            "grid_auto_rows": null,
            "grid_column": null,
            "grid_gap": null,
            "grid_row": null,
            "grid_template_areas": null,
            "grid_template_columns": null,
            "grid_template_rows": null,
            "height": null,
            "justify_content": null,
            "justify_items": null,
            "left": null,
            "margin": null,
            "max_height": null,
            "max_width": null,
            "min_height": null,
            "min_width": null,
            "object_fit": null,
            "object_position": null,
            "order": null,
            "overflow": null,
            "overflow_x": null,
            "overflow_y": null,
            "padding": null,
            "right": null,
            "top": null,
            "visibility": null,
            "width": null
          }
        },
        "42f26385718e49619f352afe215417e5": {
          "model_module": "@jupyter-widgets/base",
          "model_name": "LayoutModel",
          "model_module_version": "1.2.0",
          "state": {
            "_model_module": "@jupyter-widgets/base",
            "_model_module_version": "1.2.0",
            "_model_name": "LayoutModel",
            "_view_count": null,
            "_view_module": "@jupyter-widgets/base",
            "_view_module_version": "1.2.0",
            "_view_name": "LayoutView",
            "align_content": null,
            "align_items": null,
            "align_self": null,
            "border": null,
            "bottom": null,
            "display": null,
            "flex": null,
            "flex_flow": null,
            "grid_area": null,
            "grid_auto_columns": null,
            "grid_auto_flow": null,
            "grid_auto_rows": null,
            "grid_column": null,
            "grid_gap": null,
            "grid_row": null,
            "grid_template_areas": null,
            "grid_template_columns": null,
            "grid_template_rows": null,
            "height": null,
            "justify_content": null,
            "justify_items": null,
            "left": null,
            "margin": null,
            "max_height": null,
            "max_width": null,
            "min_height": null,
            "min_width": null,
            "object_fit": null,
            "object_position": null,
            "order": null,
            "overflow": null,
            "overflow_x": null,
            "overflow_y": null,
            "padding": null,
            "right": null,
            "top": null,
            "visibility": null,
            "width": null
          }
        },
        "8ca44b2ad30d4404b215d2d1459a4884": {
          "model_module": "@jupyter-widgets/controls",
          "model_name": "DescriptionStyleModel",
          "model_module_version": "1.5.0",
          "state": {
            "_model_module": "@jupyter-widgets/controls",
            "_model_module_version": "1.5.0",
            "_model_name": "DescriptionStyleModel",
            "_view_count": null,
            "_view_module": "@jupyter-widgets/base",
            "_view_module_version": "1.2.0",
            "_view_name": "StyleView",
            "description_width": ""
          }
        },
        "caa65f3e293d4c988c6a5845d9795445": {
          "model_module": "@jupyter-widgets/base",
          "model_name": "LayoutModel",
          "model_module_version": "1.2.0",
          "state": {
            "_model_module": "@jupyter-widgets/base",
            "_model_module_version": "1.2.0",
            "_model_name": "LayoutModel",
            "_view_count": null,
            "_view_module": "@jupyter-widgets/base",
            "_view_module_version": "1.2.0",
            "_view_name": "LayoutView",
            "align_content": null,
            "align_items": null,
            "align_self": null,
            "border": null,
            "bottom": null,
            "display": null,
            "flex": null,
            "flex_flow": null,
            "grid_area": null,
            "grid_auto_columns": null,
            "grid_auto_flow": null,
            "grid_auto_rows": null,
            "grid_column": null,
            "grid_gap": null,
            "grid_row": null,
            "grid_template_areas": null,
            "grid_template_columns": null,
            "grid_template_rows": null,
            "height": null,
            "justify_content": null,
            "justify_items": null,
            "left": null,
            "margin": null,
            "max_height": null,
            "max_width": null,
            "min_height": null,
            "min_width": null,
            "object_fit": null,
            "object_position": null,
            "order": null,
            "overflow": null,
            "overflow_x": null,
            "overflow_y": null,
            "padding": null,
            "right": null,
            "top": null,
            "visibility": null,
            "width": null
          }
        },
        "28de16d0e3264225aa7c94f7ae162609": {
          "model_module": "@jupyter-widgets/controls",
          "model_name": "ProgressStyleModel",
          "model_module_version": "1.5.0",
          "state": {
            "_model_module": "@jupyter-widgets/controls",
            "_model_module_version": "1.5.0",
            "_model_name": "ProgressStyleModel",
            "_view_count": null,
            "_view_module": "@jupyter-widgets/base",
            "_view_module_version": "1.2.0",
            "_view_name": "StyleView",
            "bar_color": null,
            "description_width": ""
          }
        },
        "0f65d8fbf8f041e4b0f185524e086af4": {
          "model_module": "@jupyter-widgets/base",
          "model_name": "LayoutModel",
          "model_module_version": "1.2.0",
          "state": {
            "_model_module": "@jupyter-widgets/base",
            "_model_module_version": "1.2.0",
            "_model_name": "LayoutModel",
            "_view_count": null,
            "_view_module": "@jupyter-widgets/base",
            "_view_module_version": "1.2.0",
            "_view_name": "LayoutView",
            "align_content": null,
            "align_items": null,
            "align_self": null,
            "border": null,
            "bottom": null,
            "display": null,
            "flex": null,
            "flex_flow": null,
            "grid_area": null,
            "grid_auto_columns": null,
            "grid_auto_flow": null,
            "grid_auto_rows": null,
            "grid_column": null,
            "grid_gap": null,
            "grid_row": null,
            "grid_template_areas": null,
            "grid_template_columns": null,
            "grid_template_rows": null,
            "height": null,
            "justify_content": null,
            "justify_items": null,
            "left": null,
            "margin": null,
            "max_height": null,
            "max_width": null,
            "min_height": null,
            "min_width": null,
            "object_fit": null,
            "object_position": null,
            "order": null,
            "overflow": null,
            "overflow_x": null,
            "overflow_y": null,
            "padding": null,
            "right": null,
            "top": null,
            "visibility": null,
            "width": null
          }
        },
        "17101ce8de9047cf8504561815e015e2": {
          "model_module": "@jupyter-widgets/controls",
          "model_name": "DescriptionStyleModel",
          "model_module_version": "1.5.0",
          "state": {
            "_model_module": "@jupyter-widgets/controls",
            "_model_module_version": "1.5.0",
            "_model_name": "DescriptionStyleModel",
            "_view_count": null,
            "_view_module": "@jupyter-widgets/base",
            "_view_module_version": "1.2.0",
            "_view_name": "StyleView",
            "description_width": ""
          }
        }
      }
    }
  },
  "nbformat": 4,
  "nbformat_minor": 5
}