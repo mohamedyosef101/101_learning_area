{
  "cells": [
    {
      "cell_type": "markdown",
      "metadata": {
        "id": "view-in-github",
        "colab_type": "text"
      },
      "source": [
        "<a href=\"https://colab.research.google.com/github/mohamedyosef101/101_learning_area/blob/area/Reinforcement%20Learning/06_chrome_dino.ipynb\" target=\"_parent\"><img src=\"https://colab.research.google.com/assets/colab-badge.svg\" alt=\"Open In Colab\"/></a>"
      ]
    },
    {
      "cell_type": "markdown",
      "source": [
        "# Build a Chrome Dino Game AI Model with Python\n",
        "Even though we're doing it for the chrome dyno game, we could do this for any web game depending on:\n",
        "* the complexity the reward function, and\n",
        "* the complexity of the controls.\n",
        "\n",
        "**Table of contents**:\n",
        "* Installing dependencies\n",
        "* Creating a custom game environment\n",
        "* Testing integration with the game\n",
        "* Training a RL model for Chrome Dino\n",
        "* Getting the AI model to play!\n"
      ],
      "metadata": {
        "id": "i4wn-KwubA2F"
      },
      "id": "i4wn-KwubA2F"
    },
    {
      "cell_type": "markdown",
      "source": [
        "# Diagram\n",
        "The first thing we're going to do is to set up our custom environment"
      ],
      "metadata": {
        "id": "m6X6lJYJgrnH"
      },
      "id": "m6X6lJYJgrnH"
    }
  ],
  "metadata": {
    "kernelspec": {
      "display_name": "Python 3",
      "language": "python",
      "name": "python3"
    },
    "language_info": {
      "codemirror_mode": {
        "name": "ipython",
        "version": 3
      },
      "file_extension": ".py",
      "mimetype": "text/x-python",
      "name": "python",
      "nbconvert_exporter": "python",
      "pygments_lexer": "ipython3",
      "version": "3.8.8"
    },
    "colab": {
      "provenance": [],
      "include_colab_link": true
    }
  },
  "nbformat": 4,
  "nbformat_minor": 5
}