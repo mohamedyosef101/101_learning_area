{
  "cells": [
    {
      "cell_type": "markdown",
      "metadata": {
        "id": "view-in-github",
        "colab_type": "text"
      },
      "source": [
        "<a href=\"https://colab.research.google.com/github/mohamedyosef101/101_learning_area/blob/area/OOP/01_intro.ipynb\" target=\"_parent\"><img src=\"https://colab.research.google.com/assets/colab-badge.svg\" alt=\"Open In Colab\"/></a>"
      ]
    },
    {
      "cell_type": "markdown",
      "source": [
        "# **O**bject **O**riented **P**rogramming in Python\n",
        "Original tutorial created by [Patrick Loeber on YouTube](https://youtu.be/-pEs-Bss8Wc?si=lK3hEtixgU60S2O4)."
      ],
      "metadata": {
        "id": "03XO1UF6WVF6"
      },
      "id": "03XO1UF6WVF6"
    },
    {
      "cell_type": "markdown",
      "source": [
        "**Table of content**:\n",
        "1. Create classes:\n",
        "  * why, How\n",
        "  * Class vs Instance\n",
        "2. Functions Inside Classes\n",
        "3. Inheritance (Base + Child class)\n",
        "4. Encapsulation (Private / Public)\n",
        "5. Properties (Getter / Setter)\n",
        "\n",
        "<div><br></div>\n",
        "\n",
        "**4 Principles of OOP**:\n",
        "1. Inheritance\n",
        "2. Polymorphism\n",
        "3. Encapsulation\n",
        "4. Abstraction"
      ],
      "metadata": {
        "id": "AJ13-gRAWkoW"
      },
      "id": "AJ13-gRAWkoW"
    },
    {
      "cell_type": "markdown",
      "source": [
        "# Create **Classes**"
      ],
      "metadata": {
        "id": "rZDoby6VXsm6"
      },
      "id": "rZDoby6VXsm6"
    },
    {
      "cell_type": "markdown",
      "source": [
        "## Why we need classes?\n",
        "In Python, we use lists, strings, integers, other data types to do simple and fast tasks like..."
      ],
      "metadata": {
        "id": "eE6M9NmoYVxg"
      },
      "id": "eE6M9NmoYVxg"
    },
    {
      "cell_type": "code",
      "source": [
        "# storing the data of some developers using a list\n",
        "# the list includes position, name, age, level, and salary.\n",
        "\n",
        "dev1 = [\"ML Developer\", \"Ali\", 27, \"senior\", 8000]\n",
        "dev2 = [\"Java Developer\", \"Amr\", 19, \"Junior\", 4500]"
      ],
      "metadata": {
        "id": "uE-9-X-pWjJ5"
      },
      "id": "uE-9-X-pWjJ5",
      "execution_count": 1,
      "outputs": []
    },
    {
      "cell_type": "markdown",
      "source": [
        "What will happen if the name is missing in `dev1` or `dev2`?\n",
        "\n",
        "What if you want \"ML Developers\" to do one thing and \"Java Developers\" do another?\n",
        "\n",
        "In this case, we need a more advanced data structure that can handle these things for us. And this is the reason why we need classes."
      ],
      "metadata": {
        "id": "6HoBX8KKaaxg"
      },
      "id": "6HoBX8KKaaxg"
    },
    {
      "cell_type": "markdown",
      "source": [
        "<div><br></div>\n",
        "\n",
        "## What is a class? How to create one...\n",
        "In Python, a class is a **blueprint** or **template** used to create objects. It defines the **attributes** (*data*) and **methods** (*functions*) that objects of that class will have."
      ],
      "metadata": {
        "id": "DHSR0KFWb0OM"
      },
      "id": "DHSR0KFWb0OM"
    },
    {
      "cell_type": "code",
      "source": [
        "class Dev:\n",
        "  \"\"\"\n",
        "  A simple class representing a developer\n",
        "  \"\"\"\n",
        "\n",
        "  # Class attributes (shared by all instances)\n",
        "  category = \"tech\"\n",
        "\n",
        "  def __init__(self, position, name, age, level, salary):\n",
        "    \"\"\"\n",
        "    Initializer method for the Dev class\n",
        "\n",
        "    Attributes or Properties:\n",
        "      Position (str): the job title of the developer\n",
        "      Name (str): the first name of the developer\n",
        "      Age (int): the age of the developers in years\n",
        "      Level (str): the experience level (e.g., senior, junior, ...)\n",
        "      Salary (int): the monthly salary for the dev.\n",
        "    \"\"\"\n",
        "    # Instance attributes\n",
        "    #(unique to each developer -> that's why we use 'self')\n",
        "    self.position = position\n",
        "    self.name = name\n",
        "    self.age = age\n",
        "    self.level = level\n",
        "    self.salary = salary\n",
        "\n",
        "  # Create a class method\n",
        "  def describe(self):\n",
        "    \"\"\"\n",
        "    Prints a description of the developer.\n",
        "    \"\"\"\n",
        "    print(f\"{self.name} is a {self.age} years old\" +\n",
        "          f\"{self.level} {self.position} and\" +\n",
        "          f\"his salary is {self.salary}/month\")\n",
        "\n",
        "### Create an object (instance) of the Dev class ###\n",
        "dev1 = Dev(\"ML Developer\", \"Ali\", 27, \"senior\", 8000)\n",
        "\n",
        "# call the object method\n",
        "dev1.describe()"
      ],
      "metadata": {
        "colab": {
          "base_uri": "https://localhost:8080/"
        },
        "id": "_qaDOQLNcTPw",
        "outputId": "65f65edc-54d3-4b32-eeb9-60b6a0465cd7"
      },
      "id": "_qaDOQLNcTPw",
      "execution_count": 2,
      "outputs": [
        {
          "output_type": "stream",
          "name": "stdout",
          "text": [
            "Ali is a 27 years oldsenior ML Developer andhis salary is 8000/month\n"
          ]
        }
      ]
    },
    {
      "cell_type": "markdown",
      "source": [
        "<div><br></div>\n",
        "\n",
        "**Explaination**:\n",
        "* **`__init__`**: is a special method we use to initialize the attributes or properties of our object. (*for more, take a look at [this video](https://youtu.be/mYKGYr0xaXw?si=6DcrikEwa4Vy0X5U) by 2MinutesPy on YouTube*)\n",
        "* **Objects**: are instances of the `Dev` class, represents individual developers like `dev1`.\n",
        "* **Properties/Attributes**:\n",
        "  - Class attributes: shared by all instances (e.g., `category`)\n",
        "  - Instance attributes: unique to each object (e.g., `name`, `age`, ...)\n",
        "\n",
        "* **Methods**: functions defined within the class (e.g., `describe`)\n",
        "\n",
        "<div><br></div>"
      ],
      "metadata": {
        "id": "JQyLlogcdHFt"
      },
      "id": "JQyLlogcdHFt"
    },
    {
      "cell_type": "markdown",
      "source": [
        "# **Special Functions** in Class"
      ],
      "metadata": {
        "id": "CBnuxgrfS4zh"
      },
      "id": "CBnuxgrfS4zh"
    },
    {
      "cell_type": "markdown",
      "source": [
        "Also called **special methods** or **dunder methods**, *because these methods have a double underscore prefix and suffix*.\n",
        "\n",
        "\n",
        "**Common examples**:\n",
        "1. `__init__`: initialize the attributes of our object. (*you've already seen it in the code above*)\n",
        "\n",
        "2. `__str__`: defines how the object is represented as a string. (*It can replace `describe()` function in the above code*)"
      ],
      "metadata": {
        "id": "WOQOt2yOUams"
      },
      "id": "WOQOt2yOUams"
    },
    {
      "cell_type": "code",
      "source": [
        "# ============= example of using __str__ ==========\n",
        "\n",
        "class Book:\n",
        "  \"\"\"\n",
        "  A simple class representing a book.\n",
        "  \"\"\"\n",
        "\n",
        "  def __init__(self, title, author, year):\n",
        "    self.title = title\n",
        "    self.author = author\n",
        "    self.year = year\n",
        "\n",
        "  def __str__(self):\n",
        "    \"\"\"\n",
        "    Returns a string representation of the book object.\n",
        "    \"\"\"\n",
        "    return f\"Title: {self.title} by {self.author} ({self.year})\"\n",
        "\n",
        "# Create a Book object\n",
        "my_book = Book(\"The Hitchhiker's Guide to the Galaxy\", \"Douglas Adams\", 1979)\n",
        "\n",
        "# Print the book object using str() or directly\n",
        "print(str(my_book))\n",
        "print(my_book)"
      ],
      "metadata": {
        "id": "teSh2z0sV5p7",
        "outputId": "75964eec-2151-4585-928c-93f38f113ad0",
        "colab": {
          "base_uri": "https://localhost:8080/"
        }
      },
      "id": "teSh2z0sV5p7",
      "execution_count": 3,
      "outputs": [
        {
          "output_type": "stream",
          "name": "stdout",
          "text": [
            "Title: The Hitchhiker's Guide to the Galaxy by Douglas Adams (1979)\n",
            "Title: The Hitchhiker's Guide to the Galaxy by Douglas Adams (1979)\n",
            "I'm currently reading Title: The Hitchhiker's Guide to the Galaxy by Douglas Adams (1979).\n"
          ]
        }
      ]
    },
    {
      "cell_type": "markdown",
      "source": [
        "**Explaination**:\n",
        "- The `Book` class has a `__str__` method that defines how the object should be represented as a string.\n",
        "- When you use `print(my_book)` or `str(my_book)`, the `__str__` method is called automatically, and its formatted string is returned.\n",
        "- This allows you to customize the output to display relevant information about the book object in a user-friendly way.\n",
        "\n",
        "<div><br></div>"
      ],
      "metadata": {
        "id": "xpyaiu6PXFk6"
      },
      "id": "xpyaiu6PXFk6"
    },
    {
      "cell_type": "markdown",
      "source": [
        "3. `__repr__`: defines the official string representation and is often for dubugging purpose."
      ],
      "metadata": {
        "id": "QJHOGf-IWJk1"
      },
      "id": "QJHOGf-IWJk1"
    },
    {
      "cell_type": "code",
      "source": [
        "class Point:\n",
        "  \"\"\"\n",
        "  A simple class representing a point in 2D space.\n",
        "  \"\"\"\n",
        "\n",
        "  def __init__(self, x, y):\n",
        "    self.x = x\n",
        "    self.y = y\n",
        "\n",
        "  def __repr__(self):\n",
        "    \"\"\"\n",
        "    Returns a string representation of the Point object suitable for recreating it.\n",
        "    \"\"\"\n",
        "    return f\"Point(x={self.x}, y={self.y})\"\n",
        "\n",
        "# Create a Point object\n",
        "my_point = Point(3, 4)\n",
        "\n",
        "# Print the object using repr() or directly\n",
        "print(repr(my_point))\n",
        "print(my_point)\n",
        "\n",
        "# Attempt to recreate the object from its __repr__ string\n",
        "new_point = eval(repr(my_point))\n",
        "print(f\"New point: {new_point}\")"
      ],
      "metadata": {
        "colab": {
          "base_uri": "https://localhost:8080/"
        },
        "id": "xvln4jKEWdRQ",
        "outputId": "e1fd52fc-16cc-4c53-b454-99c5960ab347"
      },
      "id": "xvln4jKEWdRQ",
      "execution_count": 4,
      "outputs": [
        {
          "output_type": "stream",
          "name": "stdout",
          "text": [
            "Point(x=3, y=4)\n",
            "Point(x=3, y=4)\n",
            "New point: Point(x=3, y=4)\n"
          ]
        }
      ]
    },
    {
      "cell_type": "markdown",
      "source": [
        "**Explaination**:\n",
        "- The `Point` class has a `__repr__` method that defines a string representation suitable for recreating the object.\n",
        "- This string follows the format `Classname(attribute1=value1, attribute2=value2, ...)` for clarity.\n",
        "- When you use `print(repr(my_point))`, the `__repr__` method is called, and its string is returned.\n",
        "- This representation can be used by the `eval` function to create a new object with the same attributes and values as the original object.\n",
        "- In this case, `eval(repr(my_point))` successfully creates a new `Point` object named `new_point` with the same coordinates as `my_point`.\n",
        "\n",
        "<div><br></div>\n"
      ],
      "metadata": {
        "id": "QV2JDvmVYCz6"
      },
      "id": "QV2JDvmVYCz6"
    },
    {
      "cell_type": "markdown",
      "source": [
        "Also, there are many more special functions like `__eq__`: works as equal `=`, `__add__`: works as addition `+`, and so on..."
      ],
      "metadata": {
        "id": "hPzYjqOzWfRX"
      },
      "id": "hPzYjqOzWfRX"
    },
    {
      "cell_type": "markdown",
      "source": [
        "# **In**heritance"
      ],
      "metadata": {
        "id": "y9vxgt6Ccmfy"
      },
      "id": "y9vxgt6Ccmfy"
    }
  ],
  "metadata": {
    "kernelspec": {
      "display_name": "Python 3",
      "language": "python",
      "name": "python3"
    },
    "language_info": {
      "codemirror_mode": {
        "name": "ipython",
        "version": 3
      },
      "file_extension": ".py",
      "mimetype": "text/x-python",
      "name": "python",
      "nbconvert_exporter": "python",
      "pygments_lexer": "ipython3",
      "version": "3.8.8"
    },
    "colab": {
      "provenance": [],
      "include_colab_link": true
    }
  },
  "nbformat": 4,
  "nbformat_minor": 5
}