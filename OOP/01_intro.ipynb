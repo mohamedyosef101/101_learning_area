{
  "cells": [
    {
      "cell_type": "markdown",
      "metadata": {
        "id": "view-in-github",
        "colab_type": "text"
      },
      "source": [
        "<a href=\"https://colab.research.google.com/github/mohamedyosef101/101_learning_area/blob/area/OOP/01_intro.ipynb\" target=\"_parent\"><img src=\"https://colab.research.google.com/assets/colab-badge.svg\" alt=\"Open In Colab\"/></a>"
      ]
    },
    {
      "cell_type": "markdown",
      "source": [
        "# **O**bject **O**riented **P**rogramming in Python\n"
      ],
      "metadata": {
        "id": "03XO1UF6WVF6"
      },
      "id": "03XO1UF6WVF6"
    },
    {
      "cell_type": "markdown",
      "source": [
        "**4 Principles of OOP**:\n",
        "1. Inheritance\n",
        "2. Polymorphism\n",
        "3. Encapsulation\n",
        "4. Abstraction"
      ],
      "metadata": {
        "id": "AJ13-gRAWkoW"
      },
      "id": "AJ13-gRAWkoW"
    },
    {
      "cell_type": "markdown",
      "source": [
        "# Create **Classes**"
      ],
      "metadata": {
        "id": "rZDoby6VXsm6"
      },
      "id": "rZDoby6VXsm6"
    },
    {
      "cell_type": "markdown",
      "source": [
        "## Why we need classes?\n",
        "In Python, we use lists, strings, integers, other data types to do simple and fast tasks like..."
      ],
      "metadata": {
        "id": "eE6M9NmoYVxg"
      },
      "id": "eE6M9NmoYVxg"
    },
    {
      "cell_type": "code",
      "source": [
        "# storing the data of some developers using a list\n",
        "# the list includes position, name, age, level, and salary.\n",
        "\n",
        "dev1 = [\"ML Developer\", \"Ali\", 27, \"senior\", 8000]\n",
        "dev2 = [\"Java Developer\", \"Amr\", 19, \"Junior\", 4500]"
      ],
      "metadata": {
        "id": "uE-9-X-pWjJ5"
      },
      "id": "uE-9-X-pWjJ5",
      "execution_count": null,
      "outputs": []
    },
    {
      "cell_type": "markdown",
      "source": [
        "What will happen if the name is missing in `dev1` or `dev2`?\n",
        "\n",
        "What if you want \"ML Developers\" to do one thing and \"Java Developers\" do another?\n",
        "\n",
        "In this case, we need a more advanced data structure that can handle these things for us. And this is the reason why we need classes."
      ],
      "metadata": {
        "id": "6HoBX8KKaaxg"
      },
      "id": "6HoBX8KKaaxg"
    },
    {
      "cell_type": "markdown",
      "source": [
        "<div><br></div>\n",
        "\n",
        "## What is a class? How to create one...\n",
        "In Python, a class is a **blueprint** or **template** used to create objects. It defines the **attributes** (*data*) and **methods** (*functions*) that objects of that class will have."
      ],
      "metadata": {
        "id": "DHSR0KFWb0OM"
      },
      "id": "DHSR0KFWb0OM"
    },
    {
      "cell_type": "code",
      "source": [
        "class Dev:\n",
        "  \"\"\"\n",
        "  A simple class representing a developer\n",
        "  \"\"\"\n",
        "\n",
        "  # Class attributes (shared by all instances)\n",
        "  category = \"tech\"\n",
        "\n",
        "  def __init__(self, position, name, age, level, salary):\n",
        "    \"\"\"\n",
        "    Initializer method for the Dev class\n",
        "\n",
        "    Attributes or Properties:\n",
        "      Position (str): the job title of the developer\n",
        "      Name (str): the first name of the developer\n",
        "      Age (int): the age of the developers in years\n",
        "      Level (str): the experience level (e.g., senior, junior, ...)\n",
        "      Salary (int): the monthly salary for the dev.\n",
        "    \"\"\"\n",
        "    # Instance attributes\n",
        "    #(unique to each developer -> that's why we use 'self')\n",
        "    self.position = position\n",
        "    self.name = name\n",
        "    self.age = age\n",
        "    self.level = level\n",
        "    self.salary = salary\n",
        "\n",
        "  # Create a class method\n",
        "  def describe(self):\n",
        "    \"\"\"\n",
        "    Prints a description of the developer.\n",
        "    \"\"\"\n",
        "    print(f\"{self.name} is a {self.age} years old\" +\n",
        "          f\"{self.level} {self.position} and\" +\n",
        "          f\"his salary is {self.salary}/month\")\n",
        "\n",
        "### Create an object (instance) of the Dev class ###\n",
        "dev1 = Dev(\"ML Developer\", \"Ali\", 27, \"senior\", 8000)\n",
        "\n",
        "# call the object method\n",
        "dev1.describe()"
      ],
      "metadata": {
        "colab": {
          "base_uri": "https://localhost:8080/"
        },
        "id": "_qaDOQLNcTPw",
        "outputId": "65f65edc-54d3-4b32-eeb9-60b6a0465cd7"
      },
      "id": "_qaDOQLNcTPw",
      "execution_count": null,
      "outputs": [
        {
          "output_type": "stream",
          "name": "stdout",
          "text": [
            "Ali is a 27 years oldsenior ML Developer andhis salary is 8000/month\n"
          ]
        }
      ]
    },
    {
      "cell_type": "markdown",
      "source": [
        "<div><br></div>\n",
        "\n",
        "**Explaination**:\n",
        "* **`__init__`**: is a special method we use to initialize the attributes or properties of our object. (*for more, take a look at [this video](https://youtu.be/mYKGYr0xaXw?si=6DcrikEwa4Vy0X5U) by 2MinutesPy on YouTube*)\n",
        "* **Objects**: are instances of the `Dev` class, represents individual developers like `dev1`.\n",
        "* **Properties/Attributes**:\n",
        "  - Class attributes: shared by all instances (e.g., `category`)\n",
        "  - Instance attributes: unique to each object (e.g., `name`, `age`, ...)\n",
        "\n",
        "* **Methods**: functions defined within the class (e.g., `describe`)\n",
        "\n",
        "<div><br></div>"
      ],
      "metadata": {
        "id": "JQyLlogcdHFt"
      },
      "id": "JQyLlogcdHFt"
    },
    {
      "cell_type": "markdown",
      "source": [
        "# **Special Functions** in Class"
      ],
      "metadata": {
        "id": "CBnuxgrfS4zh"
      },
      "id": "CBnuxgrfS4zh"
    },
    {
      "cell_type": "markdown",
      "source": [
        "Also called **special methods** or **dunder methods**, *because these methods have a double underscore prefix and suffix*.\n",
        "\n",
        "\n",
        "**Common examples**:\n",
        "1. `__init__`: initialize the attributes of our object. (*you've already seen it in the code above*)\n",
        "\n",
        "2. `__str__`: defines how the object is represented as a string. (*It can replace `describe()` function in the above code*)"
      ],
      "metadata": {
        "id": "WOQOt2yOUams"
      },
      "id": "WOQOt2yOUams"
    },
    {
      "cell_type": "code",
      "source": [
        "# ============= example of using __str__ ==========\n",
        "class Dev:\n",
        "  category = \"tech\"\n",
        "  def __init__(self, position, name, age, level, salary):\n",
        "    self.position = position\n",
        "    self.name = name\n",
        "    self.age = age\n",
        "    self.level = level\n",
        "    self.salary = salary\n",
        "\n",
        "  # Create a class method\n",
        "  def __str__(self):\n",
        "    \"\"\"\n",
        "    Prints a description of the developer.\n",
        "    \"\"\"\n",
        "    return f\"{self.name} is a {self.age} years old {self.level} {self.position} and his salary is {self.salary}/month\"\n",
        "\n",
        "### Create an object (instance) of the Dev class ###\n",
        "dev1 = Dev(\"ML Developer\", \"Ali\", 27, \"senior\", 8000)\n",
        "\n",
        "# Print the dev object using str() or directly\n",
        "print(str(dev1))\n",
        "print(dev1)"
      ],
      "metadata": {
        "id": "teSh2z0sV5p7",
        "outputId": "c6c3416a-3859-4f55-9569-19ef2c31868a",
        "colab": {
          "base_uri": "https://localhost:8080/"
        }
      },
      "id": "teSh2z0sV5p7",
      "execution_count": 6,
      "outputs": [
        {
          "output_type": "stream",
          "name": "stdout",
          "text": [
            "Ali is a 27 years old senior ML Developer and his salary is 8000/month\n",
            "Ali is a 27 years old senior ML Developer and his salary is 8000/month\n"
          ]
        }
      ]
    },
    {
      "cell_type": "markdown",
      "source": [
        "Also, there are many more special functions like:\n",
        "- `__repr__`: defines the official string representation and is often for dubugging purpose.\n",
        "- `__eq__`: works as equal `=`\n",
        "- `__add__`: works as addition `+`,\n",
        "\n",
        "and so on..."
      ],
      "metadata": {
        "id": "hPzYjqOzWfRX"
      },
      "id": "hPzYjqOzWfRX"
    },
    {
      "cell_type": "markdown",
      "source": [
        "# 1. **In**heritance"
      ],
      "metadata": {
        "id": "y9vxgt6Ccmfy"
      },
      "id": "y9vxgt6Ccmfy"
    },
    {
      "cell_type": "markdown",
      "source": [
        "Creating new classes (child classes) that inhirts properties and behaviors from other classes (parent classes).\n",
        "\n",
        "For our example, let's say that within our developers, we have some ML developers and frontend developer, etc. So, what I'm saying is we have a big container `Dev` and inside this big container \"parent\", I want to create a small one for `MLDev` \"child\"."
      ],
      "metadata": {
        "id": "cYzQmzD_l54-"
      },
      "id": "cYzQmzD_l54-"
    },
    {
      "cell_type": "code",
      "source": [
        "# big container (parent)\n",
        "class Dev:\n",
        "  def __init__(self, name, age):\n",
        "    self.name = name\n",
        "    self.age = age\n",
        "  def __str__(self):\n",
        "    return f\"{self.name} is a {self.age} years old\"\n",
        "\n",
        "# the child\n",
        "class MLDev(Dev):\n",
        "  def __init__(self, name, age, framework):\n",
        "    # get the attributes form the parent class\n",
        "    super().__init__(name, age)\n",
        "    \"\"\"\n",
        "    The new thing here is:\n",
        "      Framework (str): to be TensorFlow or PyTorch and so on.\n",
        "    \"\"\"\n",
        "    self.framework = framework\n",
        "\n",
        "  # override __str__ / redefine the method\n",
        "  def __str__(self):\n",
        "    return f\"{self.name} is a {self.age} years old and he uses {self.framework}\"\n",
        "\n",
        "# calling the MLDev\n",
        "ml_developer = MLDev(\"Mohamed\", 22, \"PyTorch\")\n",
        "print(ml_developer)"
      ],
      "metadata": {
        "id": "K616vmpWnBFs",
        "outputId": "d53f5ff7-e1dd-4324-b449-11c2db3d0938",
        "colab": {
          "base_uri": "https://localhost:8080/"
        }
      },
      "id": "K616vmpWnBFs",
      "execution_count": 12,
      "outputs": [
        {
          "output_type": "stream",
          "name": "stdout",
          "text": [
            "Mohamed is a 22 years old and he uses PyTorch\n"
          ]
        }
      ]
    },
    {
      "cell_type": "markdown",
      "source": [
        "**Explaination**:\n",
        "- **`super()`**: is to get the properties/attributes of the parent class `Dev` so we can use them in the child class `MLDev`.\n",
        "- **Extend** the functionality by adding `framework` attribute to `MLDev` class.\n",
        "- **Override** the basic `__str__` function to include the framework.\n",
        "\n",
        "<div><br></div>"
      ],
      "metadata": {
        "id": "pyBiWJq_o9_6"
      },
      "id": "pyBiWJq_o9_6"
    },
    {
      "cell_type": "markdown",
      "source": [
        "# 2. **Poly**morphism\n",
        "A Greek word means \"many shapes\" and we use it when we want the objects of different classes to response differently to the same method call.\n",
        "\n",
        "To do that, we will first create a list of developers (a mix between general developer from the parent class `Dev` and machine learning developers from the child class `MLDev`) then print them and see the differences..."
      ],
      "metadata": {
        "id": "qPowiiRftTjA"
      },
      "id": "qPowiiRftTjA"
    },
    {
      "cell_type": "code",
      "source": [
        "devs = [Dev(\"Ali\", 28), MLDev(\"Mohamed\", 22, \"PyTorch\")]\n",
        "\n",
        "for dev in devs:\n",
        "  print(str(dev))"
      ],
      "metadata": {
        "id": "1cGnG6sDuObb",
        "outputId": "e520e3b1-e38f-4b46-d05c-c1e1ae7d97d0",
        "colab": {
          "base_uri": "https://localhost:8080/"
        }
      },
      "id": "1cGnG6sDuObb",
      "execution_count": 14,
      "outputs": [
        {
          "output_type": "stream",
          "name": "stdout",
          "text": [
            "Ali is a 28 years old\n",
            "Mohamed is a 22 years old and he uses PyTorch\n"
          ]
        }
      ]
    },
    {
      "cell_type": "markdown",
      "source": [
        "**Explaination**:\n",
        "\n",
        "We can now see that we used the same method `__str__` but got two different responds; one with only name & age while the other with name, age, and the framework \"PyTorch\"."
      ],
      "metadata": {
        "id": "aOsGcjQnut8D"
      },
      "id": "aOsGcjQnut8D"
    },
    {
      "cell_type": "markdown",
      "source": [
        "# 3. **Encapsulation**\n",
        "Aims to protect and bundle data and the methods that operate on the data within a single class.\n",
        "\n",
        "> **NOTE**\n",
        ">\n",
        ">Python doesn't have strict access modifiers like some other OOP languages (e.g., private, public). So, we use underscore (`_`) before a variable name to indicate that it is \"private\"."
      ],
      "metadata": {
        "id": "zlw0ZBHM1FV9"
      },
      "id": "zlw0ZBHM1FV9"
    },
    {
      "cell_type": "code",
      "source": [
        "class Dev:\n",
        "  def __init__(self, name, salary):\n",
        "    self.name = name\n",
        "    # \"Private\" attribute\n",
        "    # (not strictly enforced, but convention for internal use)\n",
        "    self._salary = salary\n",
        "\n",
        "  def extra_hours(self, hours):\n",
        "    amount = hours * 100\n",
        "    self._salary += amount\n",
        "    print(f\"{amount}$ added to the salary this month\")\n",
        "\n",
        "# call it\n",
        "developer = Dev(\"Mohamed\", 3000)\n",
        "developer.extra_hours(3)"
      ],
      "metadata": {
        "id": "_wMe63MF157B",
        "outputId": "f51721e4-3613-4bc5-daa3-4f6569e74e1d",
        "colab": {
          "base_uri": "https://localhost:8080/"
        }
      },
      "id": "_wMe63MF157B",
      "execution_count": 16,
      "outputs": [
        {
          "output_type": "stream",
          "name": "stdout",
          "text": [
            "300$ added to the salary\n"
          ]
        }
      ]
    },
    {
      "cell_type": "markdown",
      "source": [
        "# 4. Abstraction\n",
        "Focusing on hidding the internal implementation details of a class and exposing only its essential functionality to the user."
      ],
      "metadata": {
        "id": "JwPwt1YD46kd"
      },
      "id": "JwPwt1YD46kd"
    },
    {
      "cell_type": "code",
      "source": [
        "class DataReader:\n",
        "  \"\"\"\n",
        "  This abstract class provides an interface for reading data from different sources.\n",
        "  \"\"\"\n",
        "\n",
        "  def __init__(self, source):\n",
        "      self.source = source\n",
        "\n",
        "  def read_data(self):\n",
        "      \"\"\"\n",
        "      This method is abstract and must be implemented in subclasses to handle specific data sources.\n",
        "      \"\"\"\n",
        "      raise NotImplementedError(\"Subclasses must implement read_data\")\n",
        "\n",
        "class TextFileReader(DataReader):\n",
        "  \"\"\"\n",
        "  A subclass of DataReader that reads data from a text file.\n",
        "  \"\"\"\n",
        "\n",
        "  def read_data(self):\n",
        "      \"\"\"\n",
        "      Overrides the abstract method to read data from a text file.\n",
        "      \"\"\"\n",
        "      try:\n",
        "          with open(self.source, \"r\") as f:\n",
        "              data = f.read()\n",
        "          return data\n",
        "      except FileNotFoundError:\n",
        "          print(f\"Error: File not found - {self.source}\")\n",
        "          return None\n",
        "\n",
        "class CSVReader(DataReader):\n",
        "  \"\"\"\n",
        "  A subclass of DataReader that reads data from a CSV file.\n",
        "  \"\"\"\n",
        "\n",
        "  def read_data(self):\n",
        "      \"\"\"\n",
        "      Overrides the abstract method to read data from a CSV file using a library like pandas.\n",
        "      \"\"\"\n",
        "      import pandas as pd\n",
        "\n",
        "      try:\n",
        "          data = pd.read_csv(self.source)\n",
        "          return data\n",
        "      except FileNotFoundError:\n",
        "          print(f\"Error: File not found - {self.source}\")\n",
        "          return None\n",
        "\n",
        "# Attempting to create a DataReader object directly results in an error (abstract class)\n",
        "# reader = DataReader(\"data.txt\")\n",
        "\n",
        "# Create TextFileReader and CSVReader objects to access specific functionalities\n",
        "text_reader = TextFileReader(\"data.txt\")\n",
        "text_data = text_reader.read_data()\n",
        "\n",
        "csv_reader = CSVReader(\"data.csv\")\n",
        "csv_data = csv_reader.read_data()\n",
        "\n",
        "# Access data if successfully read\n",
        "if text_data:\n",
        "  print(\"Text data:\", text_data)\n",
        "if csv_data is not None:  # Checking for both data and potential errors\n",
        "  print(\"CSV data:\", csv_data)\n",
        "\n",
        "### This cell generated by Gemini (Google AI), not by me. So be aware with it."
      ],
      "metadata": {
        "id": "GjJSy1185Jad",
        "outputId": "a4f35363-0e0a-4d34-d659-a34e9e8ec666",
        "colab": {
          "base_uri": "https://localhost:8080/"
        }
      },
      "id": "GjJSy1185Jad",
      "execution_count": 22,
      "outputs": [
        {
          "output_type": "stream",
          "name": "stdout",
          "text": [
            "Error: File not found - data.txt\n",
            "Error: File not found - data.csv\n"
          ]
        }
      ]
    },
    {
      "cell_type": "markdown",
      "source": [
        "# References\n",
        "- Patrick Loeber. [*OOP in Python: Beginner crash course*](https://youtu.be/-pEs-Bss8Wc?si=lK3hEtixgU60S2O4). YouTube.\n",
        "- My chat with Gemini. https://g.co/gemini/share/d57ea3486abb."
      ],
      "metadata": {
        "id": "KsYFNfR1331x"
      },
      "id": "KsYFNfR1331x"
    }
  ],
  "metadata": {
    "kernelspec": {
      "display_name": "Python 3",
      "language": "python",
      "name": "python3"
    },
    "language_info": {
      "codemirror_mode": {
        "name": "ipython",
        "version": 3
      },
      "file_extension": ".py",
      "mimetype": "text/x-python",
      "name": "python",
      "nbconvert_exporter": "python",
      "pygments_lexer": "ipython3",
      "version": "3.8.8"
    },
    "colab": {
      "provenance": [],
      "include_colab_link": true
    }
  },
  "nbformat": 4,
  "nbformat_minor": 5
}